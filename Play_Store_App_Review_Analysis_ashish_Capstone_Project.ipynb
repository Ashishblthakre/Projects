{
  "nbformat": 4,
  "nbformat_minor": 0,
  "metadata": {
    "kernelspec": {
      "display_name": "Python 3",
      "language": "python",
      "name": "python3"
    },
    "language_info": {
      "codemirror_mode": {
        "name": "ipython",
        "version": 3
      },
      "file_extension": ".py",
      "mimetype": "text/x-python",
      "name": "python",
      "nbconvert_exporter": "python",
      "pygments_lexer": "ipython3",
      "version": "3.6.6"
    },
    "colab": {
      "name": "Play Store App Review Analysis_ashish - Capstone Project.ipynb",
      "provenance": [],
      "collapsed_sections": []
    }
  },
  "cells": [
    {
      "cell_type": "markdown",
      "metadata": {
        "id": "Y06xIdG26kRF"
      },
      "source": [
        "## <b> The Play Store apps data has enormous potential to drive app-making businesses to success. Actionable insights can be drawn for developers to work on and capture the Android market. </b>\n",
        "\n",
        "## <b> Each app (row) has values for catergory, rating, size, and more. Another dataset contains customer reviews of the android apps.</b>\n",
        "\n",
        "## <b> Explore and analyze the data to discover key factors responsible for app engagement and success. </b>"
      ]
    },
    {
      "cell_type": "code",
      "metadata": {
        "colab": {
          "base_uri": "https://localhost:8080/"
        },
        "id": "P8ouG-xixLGV",
        "outputId": "4f9d0f8d-1e72-4686-d965-f8c021be5136"
      },
      "source": [
        "from google.colab import drive\n",
        "drive.mount('/content/drive')"
      ],
      "execution_count": 8,
      "outputs": [
        {
          "output_type": "stream",
          "name": "stdout",
          "text": [
            "Drive already mounted at /content/drive; to attempt to forcibly remount, call drive.mount(\"/content/drive\", force_remount=True).\n"
          ]
        }
      ]
    },
    {
      "cell_type": "code",
      "source": [
        "pip install numerize"
      ],
      "metadata": {
        "colab": {
          "base_uri": "https://localhost:8080/"
        },
        "id": "b8OCqSRh5KyD",
        "outputId": "f9e9495a-2da4-4c18-93e1-306576df6dff"
      },
      "execution_count": 9,
      "outputs": [
        {
          "output_type": "stream",
          "name": "stdout",
          "text": [
            "Requirement already satisfied: numerize in /usr/local/lib/python3.7/dist-packages (0.12)\n"
          ]
        }
      ]
    },
    {
      "cell_type": "code",
      "metadata": {
        "id": "JIb0FgCyxZwh"
      },
      "source": [
        "import pandas as pd\n",
        "import numpy as np\n",
        "import matplotlib.pyplot as plt\n",
        "from numerize import numerize\n",
        "\n",
        "import seaborn as sns"
      ],
      "execution_count": 10,
      "outputs": []
    },
    {
      "cell_type": "code",
      "metadata": {
        "id": "FKQaOF5SxToY"
      },
      "source": [
        "#Upload the Play Store Data and perform EDA on the data\n",
        "play_store_data_df = pd.read_csv(\"/content/drive/MyDrive/Colab Notebooks/Alma Better/Capstone Project/Play Store Data.csv\")"
      ],
      "execution_count": 11,
      "outputs": []
    },
    {
      "cell_type": "code",
      "metadata": {
        "id": "jz8XYseZxxXt",
        "colab": {
          "base_uri": "https://localhost:8080/",
          "height": 337
        },
        "outputId": "430f1284-45fb-4259-db80-2b80abc4c402"
      },
      "source": [
        "#Top 5 rows of the data\n",
        "play_store_data_df.head()"
      ],
      "execution_count": 12,
      "outputs": [
        {
          "output_type": "execute_result",
          "data": {
            "text/html": [
              "\n",
              "  <div id=\"df-a904c1b8-6ddc-465a-bf5c-8968465e63c8\">\n",
              "    <div class=\"colab-df-container\">\n",
              "      <div>\n",
              "<style scoped>\n",
              "    .dataframe tbody tr th:only-of-type {\n",
              "        vertical-align: middle;\n",
              "    }\n",
              "\n",
              "    .dataframe tbody tr th {\n",
              "        vertical-align: top;\n",
              "    }\n",
              "\n",
              "    .dataframe thead th {\n",
              "        text-align: right;\n",
              "    }\n",
              "</style>\n",
              "<table border=\"1\" class=\"dataframe\">\n",
              "  <thead>\n",
              "    <tr style=\"text-align: right;\">\n",
              "      <th></th>\n",
              "      <th>App</th>\n",
              "      <th>Category</th>\n",
              "      <th>Rating</th>\n",
              "      <th>Reviews</th>\n",
              "      <th>Size</th>\n",
              "      <th>Installs</th>\n",
              "      <th>Type</th>\n",
              "      <th>Price</th>\n",
              "      <th>Content Rating</th>\n",
              "      <th>Genres</th>\n",
              "      <th>Last Updated</th>\n",
              "      <th>Current Ver</th>\n",
              "      <th>Android Ver</th>\n",
              "    </tr>\n",
              "  </thead>\n",
              "  <tbody>\n",
              "    <tr>\n",
              "      <th>0</th>\n",
              "      <td>Photo Editor &amp; Candy Camera &amp; Grid &amp; ScrapBook</td>\n",
              "      <td>ART_AND_DESIGN</td>\n",
              "      <td>4.1</td>\n",
              "      <td>159</td>\n",
              "      <td>19M</td>\n",
              "      <td>10,000+</td>\n",
              "      <td>Free</td>\n",
              "      <td>0</td>\n",
              "      <td>Everyone</td>\n",
              "      <td>Art &amp; Design</td>\n",
              "      <td>January 7, 2018</td>\n",
              "      <td>1.0.0</td>\n",
              "      <td>4.0.3 and up</td>\n",
              "    </tr>\n",
              "    <tr>\n",
              "      <th>1</th>\n",
              "      <td>Coloring book moana</td>\n",
              "      <td>ART_AND_DESIGN</td>\n",
              "      <td>3.9</td>\n",
              "      <td>967</td>\n",
              "      <td>14M</td>\n",
              "      <td>500,000+</td>\n",
              "      <td>Free</td>\n",
              "      <td>0</td>\n",
              "      <td>Everyone</td>\n",
              "      <td>Art &amp; Design;Pretend Play</td>\n",
              "      <td>January 15, 2018</td>\n",
              "      <td>2.0.0</td>\n",
              "      <td>4.0.3 and up</td>\n",
              "    </tr>\n",
              "    <tr>\n",
              "      <th>2</th>\n",
              "      <td>U Launcher Lite – FREE Live Cool Themes, Hide ...</td>\n",
              "      <td>ART_AND_DESIGN</td>\n",
              "      <td>4.7</td>\n",
              "      <td>87510</td>\n",
              "      <td>8.7M</td>\n",
              "      <td>5,000,000+</td>\n",
              "      <td>Free</td>\n",
              "      <td>0</td>\n",
              "      <td>Everyone</td>\n",
              "      <td>Art &amp; Design</td>\n",
              "      <td>August 1, 2018</td>\n",
              "      <td>1.2.4</td>\n",
              "      <td>4.0.3 and up</td>\n",
              "    </tr>\n",
              "    <tr>\n",
              "      <th>3</th>\n",
              "      <td>Sketch - Draw &amp; Paint</td>\n",
              "      <td>ART_AND_DESIGN</td>\n",
              "      <td>4.5</td>\n",
              "      <td>215644</td>\n",
              "      <td>25M</td>\n",
              "      <td>50,000,000+</td>\n",
              "      <td>Free</td>\n",
              "      <td>0</td>\n",
              "      <td>Teen</td>\n",
              "      <td>Art &amp; Design</td>\n",
              "      <td>June 8, 2018</td>\n",
              "      <td>Varies with device</td>\n",
              "      <td>4.2 and up</td>\n",
              "    </tr>\n",
              "    <tr>\n",
              "      <th>4</th>\n",
              "      <td>Pixel Draw - Number Art Coloring Book</td>\n",
              "      <td>ART_AND_DESIGN</td>\n",
              "      <td>4.3</td>\n",
              "      <td>967</td>\n",
              "      <td>2.8M</td>\n",
              "      <td>100,000+</td>\n",
              "      <td>Free</td>\n",
              "      <td>0</td>\n",
              "      <td>Everyone</td>\n",
              "      <td>Art &amp; Design;Creativity</td>\n",
              "      <td>June 20, 2018</td>\n",
              "      <td>1.1</td>\n",
              "      <td>4.4 and up</td>\n",
              "    </tr>\n",
              "  </tbody>\n",
              "</table>\n",
              "</div>\n",
              "      <button class=\"colab-df-convert\" onclick=\"convertToInteractive('df-a904c1b8-6ddc-465a-bf5c-8968465e63c8')\"\n",
              "              title=\"Convert this dataframe to an interactive table.\"\n",
              "              style=\"display:none;\">\n",
              "        \n",
              "  <svg xmlns=\"http://www.w3.org/2000/svg\" height=\"24px\"viewBox=\"0 0 24 24\"\n",
              "       width=\"24px\">\n",
              "    <path d=\"M0 0h24v24H0V0z\" fill=\"none\"/>\n",
              "    <path d=\"M18.56 5.44l.94 2.06.94-2.06 2.06-.94-2.06-.94-.94-2.06-.94 2.06-2.06.94zm-11 1L8.5 8.5l.94-2.06 2.06-.94-2.06-.94L8.5 2.5l-.94 2.06-2.06.94zm10 10l.94 2.06.94-2.06 2.06-.94-2.06-.94-.94-2.06-.94 2.06-2.06.94z\"/><path d=\"M17.41 7.96l-1.37-1.37c-.4-.4-.92-.59-1.43-.59-.52 0-1.04.2-1.43.59L10.3 9.45l-7.72 7.72c-.78.78-.78 2.05 0 2.83L4 21.41c.39.39.9.59 1.41.59.51 0 1.02-.2 1.41-.59l7.78-7.78 2.81-2.81c.8-.78.8-2.07 0-2.86zM5.41 20L4 18.59l7.72-7.72 1.47 1.35L5.41 20z\"/>\n",
              "  </svg>\n",
              "      </button>\n",
              "      \n",
              "  <style>\n",
              "    .colab-df-container {\n",
              "      display:flex;\n",
              "      flex-wrap:wrap;\n",
              "      gap: 12px;\n",
              "    }\n",
              "\n",
              "    .colab-df-convert {\n",
              "      background-color: #E8F0FE;\n",
              "      border: none;\n",
              "      border-radius: 50%;\n",
              "      cursor: pointer;\n",
              "      display: none;\n",
              "      fill: #1967D2;\n",
              "      height: 32px;\n",
              "      padding: 0 0 0 0;\n",
              "      width: 32px;\n",
              "    }\n",
              "\n",
              "    .colab-df-convert:hover {\n",
              "      background-color: #E2EBFA;\n",
              "      box-shadow: 0px 1px 2px rgba(60, 64, 67, 0.3), 0px 1px 3px 1px rgba(60, 64, 67, 0.15);\n",
              "      fill: #174EA6;\n",
              "    }\n",
              "\n",
              "    [theme=dark] .colab-df-convert {\n",
              "      background-color: #3B4455;\n",
              "      fill: #D2E3FC;\n",
              "    }\n",
              "\n",
              "    [theme=dark] .colab-df-convert:hover {\n",
              "      background-color: #434B5C;\n",
              "      box-shadow: 0px 1px 3px 1px rgba(0, 0, 0, 0.15);\n",
              "      filter: drop-shadow(0px 1px 2px rgba(0, 0, 0, 0.3));\n",
              "      fill: #FFFFFF;\n",
              "    }\n",
              "  </style>\n",
              "\n",
              "      <script>\n",
              "        const buttonEl =\n",
              "          document.querySelector('#df-a904c1b8-6ddc-465a-bf5c-8968465e63c8 button.colab-df-convert');\n",
              "        buttonEl.style.display =\n",
              "          google.colab.kernel.accessAllowed ? 'block' : 'none';\n",
              "\n",
              "        async function convertToInteractive(key) {\n",
              "          const element = document.querySelector('#df-a904c1b8-6ddc-465a-bf5c-8968465e63c8');\n",
              "          const dataTable =\n",
              "            await google.colab.kernel.invokeFunction('convertToInteractive',\n",
              "                                                     [key], {});\n",
              "          if (!dataTable) return;\n",
              "\n",
              "          const docLinkHtml = 'Like what you see? Visit the ' +\n",
              "            '<a target=\"_blank\" href=https://colab.research.google.com/notebooks/data_table.ipynb>data table notebook</a>'\n",
              "            + ' to learn more about interactive tables.';\n",
              "          element.innerHTML = '';\n",
              "          dataTable['output_type'] = 'display_data';\n",
              "          await google.colab.output.renderOutput(dataTable, element);\n",
              "          const docLink = document.createElement('div');\n",
              "          docLink.innerHTML = docLinkHtml;\n",
              "          element.appendChild(docLink);\n",
              "        }\n",
              "      </script>\n",
              "    </div>\n",
              "  </div>\n",
              "  "
            ],
            "text/plain": [
              "                                                 App  ...   Android Ver\n",
              "0     Photo Editor & Candy Camera & Grid & ScrapBook  ...  4.0.3 and up\n",
              "1                                Coloring book moana  ...  4.0.3 and up\n",
              "2  U Launcher Lite – FREE Live Cool Themes, Hide ...  ...  4.0.3 and up\n",
              "3                              Sketch - Draw & Paint  ...    4.2 and up\n",
              "4              Pixel Draw - Number Art Coloring Book  ...    4.4 and up\n",
              "\n",
              "[5 rows x 13 columns]"
            ]
          },
          "metadata": {},
          "execution_count": 12
        }
      ]
    },
    {
      "cell_type": "code",
      "source": [
        "#Last 5 rows of the data\n",
        "play_store_data_df.tail()"
      ],
      "metadata": {
        "colab": {
          "base_uri": "https://localhost:8080/",
          "height": 319
        },
        "id": "bq41Ppk_6kiy",
        "outputId": "a8f23253-a063-4654-bd07-743793441ff6"
      },
      "execution_count": 13,
      "outputs": [
        {
          "output_type": "execute_result",
          "data": {
            "text/html": [
              "\n",
              "  <div id=\"df-465e4c84-2b08-459d-8317-a5f286e4b6cb\">\n",
              "    <div class=\"colab-df-container\">\n",
              "      <div>\n",
              "<style scoped>\n",
              "    .dataframe tbody tr th:only-of-type {\n",
              "        vertical-align: middle;\n",
              "    }\n",
              "\n",
              "    .dataframe tbody tr th {\n",
              "        vertical-align: top;\n",
              "    }\n",
              "\n",
              "    .dataframe thead th {\n",
              "        text-align: right;\n",
              "    }\n",
              "</style>\n",
              "<table border=\"1\" class=\"dataframe\">\n",
              "  <thead>\n",
              "    <tr style=\"text-align: right;\">\n",
              "      <th></th>\n",
              "      <th>App</th>\n",
              "      <th>Category</th>\n",
              "      <th>Rating</th>\n",
              "      <th>Reviews</th>\n",
              "      <th>Size</th>\n",
              "      <th>Installs</th>\n",
              "      <th>Type</th>\n",
              "      <th>Price</th>\n",
              "      <th>Content Rating</th>\n",
              "      <th>Genres</th>\n",
              "      <th>Last Updated</th>\n",
              "      <th>Current Ver</th>\n",
              "      <th>Android Ver</th>\n",
              "    </tr>\n",
              "  </thead>\n",
              "  <tbody>\n",
              "    <tr>\n",
              "      <th>10836</th>\n",
              "      <td>Sya9a Maroc - FR</td>\n",
              "      <td>FAMILY</td>\n",
              "      <td>4.5</td>\n",
              "      <td>38</td>\n",
              "      <td>53M</td>\n",
              "      <td>5,000+</td>\n",
              "      <td>Free</td>\n",
              "      <td>0</td>\n",
              "      <td>Everyone</td>\n",
              "      <td>Education</td>\n",
              "      <td>July 25, 2017</td>\n",
              "      <td>1.48</td>\n",
              "      <td>4.1 and up</td>\n",
              "    </tr>\n",
              "    <tr>\n",
              "      <th>10837</th>\n",
              "      <td>Fr. Mike Schmitz Audio Teachings</td>\n",
              "      <td>FAMILY</td>\n",
              "      <td>5.0</td>\n",
              "      <td>4</td>\n",
              "      <td>3.6M</td>\n",
              "      <td>100+</td>\n",
              "      <td>Free</td>\n",
              "      <td>0</td>\n",
              "      <td>Everyone</td>\n",
              "      <td>Education</td>\n",
              "      <td>July 6, 2018</td>\n",
              "      <td>1.0</td>\n",
              "      <td>4.1 and up</td>\n",
              "    </tr>\n",
              "    <tr>\n",
              "      <th>10838</th>\n",
              "      <td>Parkinson Exercices FR</td>\n",
              "      <td>MEDICAL</td>\n",
              "      <td>NaN</td>\n",
              "      <td>3</td>\n",
              "      <td>9.5M</td>\n",
              "      <td>1,000+</td>\n",
              "      <td>Free</td>\n",
              "      <td>0</td>\n",
              "      <td>Everyone</td>\n",
              "      <td>Medical</td>\n",
              "      <td>January 20, 2017</td>\n",
              "      <td>1.0</td>\n",
              "      <td>2.2 and up</td>\n",
              "    </tr>\n",
              "    <tr>\n",
              "      <th>10839</th>\n",
              "      <td>The SCP Foundation DB fr nn5n</td>\n",
              "      <td>BOOKS_AND_REFERENCE</td>\n",
              "      <td>4.5</td>\n",
              "      <td>114</td>\n",
              "      <td>Varies with device</td>\n",
              "      <td>1,000+</td>\n",
              "      <td>Free</td>\n",
              "      <td>0</td>\n",
              "      <td>Mature 17+</td>\n",
              "      <td>Books &amp; Reference</td>\n",
              "      <td>January 19, 2015</td>\n",
              "      <td>Varies with device</td>\n",
              "      <td>Varies with device</td>\n",
              "    </tr>\n",
              "    <tr>\n",
              "      <th>10840</th>\n",
              "      <td>iHoroscope - 2018 Daily Horoscope &amp; Astrology</td>\n",
              "      <td>LIFESTYLE</td>\n",
              "      <td>4.5</td>\n",
              "      <td>398307</td>\n",
              "      <td>19M</td>\n",
              "      <td>10,000,000+</td>\n",
              "      <td>Free</td>\n",
              "      <td>0</td>\n",
              "      <td>Everyone</td>\n",
              "      <td>Lifestyle</td>\n",
              "      <td>July 25, 2018</td>\n",
              "      <td>Varies with device</td>\n",
              "      <td>Varies with device</td>\n",
              "    </tr>\n",
              "  </tbody>\n",
              "</table>\n",
              "</div>\n",
              "      <button class=\"colab-df-convert\" onclick=\"convertToInteractive('df-465e4c84-2b08-459d-8317-a5f286e4b6cb')\"\n",
              "              title=\"Convert this dataframe to an interactive table.\"\n",
              "              style=\"display:none;\">\n",
              "        \n",
              "  <svg xmlns=\"http://www.w3.org/2000/svg\" height=\"24px\"viewBox=\"0 0 24 24\"\n",
              "       width=\"24px\">\n",
              "    <path d=\"M0 0h24v24H0V0z\" fill=\"none\"/>\n",
              "    <path d=\"M18.56 5.44l.94 2.06.94-2.06 2.06-.94-2.06-.94-.94-2.06-.94 2.06-2.06.94zm-11 1L8.5 8.5l.94-2.06 2.06-.94-2.06-.94L8.5 2.5l-.94 2.06-2.06.94zm10 10l.94 2.06.94-2.06 2.06-.94-2.06-.94-.94-2.06-.94 2.06-2.06.94z\"/><path d=\"M17.41 7.96l-1.37-1.37c-.4-.4-.92-.59-1.43-.59-.52 0-1.04.2-1.43.59L10.3 9.45l-7.72 7.72c-.78.78-.78 2.05 0 2.83L4 21.41c.39.39.9.59 1.41.59.51 0 1.02-.2 1.41-.59l7.78-7.78 2.81-2.81c.8-.78.8-2.07 0-2.86zM5.41 20L4 18.59l7.72-7.72 1.47 1.35L5.41 20z\"/>\n",
              "  </svg>\n",
              "      </button>\n",
              "      \n",
              "  <style>\n",
              "    .colab-df-container {\n",
              "      display:flex;\n",
              "      flex-wrap:wrap;\n",
              "      gap: 12px;\n",
              "    }\n",
              "\n",
              "    .colab-df-convert {\n",
              "      background-color: #E8F0FE;\n",
              "      border: none;\n",
              "      border-radius: 50%;\n",
              "      cursor: pointer;\n",
              "      display: none;\n",
              "      fill: #1967D2;\n",
              "      height: 32px;\n",
              "      padding: 0 0 0 0;\n",
              "      width: 32px;\n",
              "    }\n",
              "\n",
              "    .colab-df-convert:hover {\n",
              "      background-color: #E2EBFA;\n",
              "      box-shadow: 0px 1px 2px rgba(60, 64, 67, 0.3), 0px 1px 3px 1px rgba(60, 64, 67, 0.15);\n",
              "      fill: #174EA6;\n",
              "    }\n",
              "\n",
              "    [theme=dark] .colab-df-convert {\n",
              "      background-color: #3B4455;\n",
              "      fill: #D2E3FC;\n",
              "    }\n",
              "\n",
              "    [theme=dark] .colab-df-convert:hover {\n",
              "      background-color: #434B5C;\n",
              "      box-shadow: 0px 1px 3px 1px rgba(0, 0, 0, 0.15);\n",
              "      filter: drop-shadow(0px 1px 2px rgba(0, 0, 0, 0.3));\n",
              "      fill: #FFFFFF;\n",
              "    }\n",
              "  </style>\n",
              "\n",
              "      <script>\n",
              "        const buttonEl =\n",
              "          document.querySelector('#df-465e4c84-2b08-459d-8317-a5f286e4b6cb button.colab-df-convert');\n",
              "        buttonEl.style.display =\n",
              "          google.colab.kernel.accessAllowed ? 'block' : 'none';\n",
              "\n",
              "        async function convertToInteractive(key) {\n",
              "          const element = document.querySelector('#df-465e4c84-2b08-459d-8317-a5f286e4b6cb');\n",
              "          const dataTable =\n",
              "            await google.colab.kernel.invokeFunction('convertToInteractive',\n",
              "                                                     [key], {});\n",
              "          if (!dataTable) return;\n",
              "\n",
              "          const docLinkHtml = 'Like what you see? Visit the ' +\n",
              "            '<a target=\"_blank\" href=https://colab.research.google.com/notebooks/data_table.ipynb>data table notebook</a>'\n",
              "            + ' to learn more about interactive tables.';\n",
              "          element.innerHTML = '';\n",
              "          dataTable['output_type'] = 'display_data';\n",
              "          await google.colab.output.renderOutput(dataTable, element);\n",
              "          const docLink = document.createElement('div');\n",
              "          docLink.innerHTML = docLinkHtml;\n",
              "          element.appendChild(docLink);\n",
              "        }\n",
              "      </script>\n",
              "    </div>\n",
              "  </div>\n",
              "  "
            ],
            "text/plain": [
              "                                                 App  ...         Android Ver\n",
              "10836                               Sya9a Maroc - FR  ...          4.1 and up\n",
              "10837               Fr. Mike Schmitz Audio Teachings  ...          4.1 and up\n",
              "10838                         Parkinson Exercices FR  ...          2.2 and up\n",
              "10839                  The SCP Foundation DB fr nn5n  ...  Varies with device\n",
              "10840  iHoroscope - 2018 Daily Horoscope & Astrology  ...  Varies with device\n",
              "\n",
              "[5 rows x 13 columns]"
            ]
          },
          "metadata": {},
          "execution_count": 13
        }
      ]
    },
    {
      "cell_type": "code",
      "metadata": {
        "colab": {
          "base_uri": "https://localhost:8080/"
        },
        "id": "hRJc1JLfyWe7",
        "outputId": "19ded48e-9f93-4ea4-d059-70628d03e7dd"
      },
      "source": [
        "#Number of column and number of rows \n",
        "play_store_data_df.shape"
      ],
      "execution_count": 14,
      "outputs": [
        {
          "output_type": "execute_result",
          "data": {
            "text/plain": [
              "(10841, 13)"
            ]
          },
          "metadata": {},
          "execution_count": 14
        }
      ]
    },
    {
      "cell_type": "code",
      "source": [
        "play_store_data_df['Type'].unique()"
      ],
      "metadata": {
        "colab": {
          "base_uri": "https://localhost:8080/"
        },
        "id": "L8RHuQm-cU7t",
        "outputId": "1351a03b-c7f6-4d5a-e3c8-6167e495cae5"
      },
      "execution_count": 55,
      "outputs": [
        {
          "output_type": "execute_result",
          "data": {
            "text/plain": [
              "array(['Free', 'Paid', nan, '0'], dtype=object)"
            ]
          },
          "metadata": {},
          "execution_count": 55
        }
      ]
    },
    {
      "cell_type": "code",
      "source": [
        "play_store_data_df[play_store_data_df['Price']=='0']['Price'].count()"
      ],
      "metadata": {
        "colab": {
          "base_uri": "https://localhost:8080/"
        },
        "id": "aopLAdjBciOJ",
        "outputId": "bbf9bcda-5fc8-41aa-94bb-68a28fa98c58"
      },
      "execution_count": 61,
      "outputs": [
        {
          "output_type": "execute_result",
          "data": {
            "text/plain": [
              "10040"
            ]
          },
          "metadata": {},
          "execution_count": 61
        }
      ]
    },
    {
      "cell_type": "code",
      "source": [
        "play_store_data_df['Content Rating'].unique()"
      ],
      "metadata": {
        "colab": {
          "base_uri": "https://localhost:8080/"
        },
        "id": "1twARJjFdg_O",
        "outputId": "c5570740-81d9-4623-9a85-0f9838cf5f0b"
      },
      "execution_count": 65,
      "outputs": [
        {
          "output_type": "execute_result",
          "data": {
            "text/plain": [
              "array(['Everyone', 'Teen', 'Everyone 10+', 'Mature 17+',\n",
              "       'Adults only 18+', 'Unrated', nan], dtype=object)"
            ]
          },
          "metadata": {},
          "execution_count": 65
        }
      ]
    },
    {
      "cell_type": "code",
      "source": [
        "play_store_data_df['Content Rating'].value_counts()"
      ],
      "metadata": {
        "colab": {
          "base_uri": "https://localhost:8080/"
        },
        "id": "0xlhVtsrd5xZ",
        "outputId": "ec70bd02-dc51-4030-9f16-6422f392c062"
      },
      "execution_count": 66,
      "outputs": [
        {
          "output_type": "execute_result",
          "data": {
            "text/plain": [
              "Everyone           8714\n",
              "Teen               1208\n",
              "Mature 17+          499\n",
              "Everyone 10+        414\n",
              "Adults only 18+       3\n",
              "Unrated               2\n",
              "Name: Content Rating, dtype: int64"
            ]
          },
          "metadata": {},
          "execution_count": 66
        }
      ]
    },
    {
      "cell_type": "markdown",
      "source": [
        "#Definition of features\n",
        "* Type:- App is available 'Free' or 'Paid'.\n",
        "* Size:- Size of App in MB.\n",
        "* Price:- Price of App. Out of 10841 rows 10040 apps are free.\n",
        "* Content Rating:- Related to age of user and availability of particular app to the age group. \n",
        "* Current Ver is version of App and Android Ver is version of android in which app will work."
      ],
      "metadata": {
        "id": "nZyazzSvbpmz"
      }
    },
    {
      "cell_type": "code",
      "source": [
        "#Information about each column/features\n",
        "play_store_data_df.describe(include=\"all\")"
      ],
      "metadata": {
        "colab": {
          "base_uri": "https://localhost:8080/",
          "height": 394
        },
        "id": "duBTYXlCSKKv",
        "outputId": "82b03d25-208d-4d0d-c0ea-e7bad922e01d"
      },
      "execution_count": 15,
      "outputs": [
        {
          "output_type": "execute_result",
          "data": {
            "text/html": [
              "\n",
              "  <div id=\"df-3fd65728-8c4e-414b-9641-7d96b00589f6\">\n",
              "    <div class=\"colab-df-container\">\n",
              "      <div>\n",
              "<style scoped>\n",
              "    .dataframe tbody tr th:only-of-type {\n",
              "        vertical-align: middle;\n",
              "    }\n",
              "\n",
              "    .dataframe tbody tr th {\n",
              "        vertical-align: top;\n",
              "    }\n",
              "\n",
              "    .dataframe thead th {\n",
              "        text-align: right;\n",
              "    }\n",
              "</style>\n",
              "<table border=\"1\" class=\"dataframe\">\n",
              "  <thead>\n",
              "    <tr style=\"text-align: right;\">\n",
              "      <th></th>\n",
              "      <th>App</th>\n",
              "      <th>Category</th>\n",
              "      <th>Rating</th>\n",
              "      <th>Reviews</th>\n",
              "      <th>Size</th>\n",
              "      <th>Installs</th>\n",
              "      <th>Type</th>\n",
              "      <th>Price</th>\n",
              "      <th>Content Rating</th>\n",
              "      <th>Genres</th>\n",
              "      <th>Last Updated</th>\n",
              "      <th>Current Ver</th>\n",
              "      <th>Android Ver</th>\n",
              "    </tr>\n",
              "  </thead>\n",
              "  <tbody>\n",
              "    <tr>\n",
              "      <th>count</th>\n",
              "      <td>10841</td>\n",
              "      <td>10841</td>\n",
              "      <td>9367.000000</td>\n",
              "      <td>10841</td>\n",
              "      <td>10841</td>\n",
              "      <td>10841</td>\n",
              "      <td>10840</td>\n",
              "      <td>10841</td>\n",
              "      <td>10840</td>\n",
              "      <td>10841</td>\n",
              "      <td>10841</td>\n",
              "      <td>10833</td>\n",
              "      <td>10838</td>\n",
              "    </tr>\n",
              "    <tr>\n",
              "      <th>unique</th>\n",
              "      <td>9660</td>\n",
              "      <td>34</td>\n",
              "      <td>NaN</td>\n",
              "      <td>6002</td>\n",
              "      <td>462</td>\n",
              "      <td>22</td>\n",
              "      <td>3</td>\n",
              "      <td>93</td>\n",
              "      <td>6</td>\n",
              "      <td>120</td>\n",
              "      <td>1378</td>\n",
              "      <td>2832</td>\n",
              "      <td>33</td>\n",
              "    </tr>\n",
              "    <tr>\n",
              "      <th>top</th>\n",
              "      <td>ROBLOX</td>\n",
              "      <td>FAMILY</td>\n",
              "      <td>NaN</td>\n",
              "      <td>0</td>\n",
              "      <td>Varies with device</td>\n",
              "      <td>1,000,000+</td>\n",
              "      <td>Free</td>\n",
              "      <td>0</td>\n",
              "      <td>Everyone</td>\n",
              "      <td>Tools</td>\n",
              "      <td>August 3, 2018</td>\n",
              "      <td>Varies with device</td>\n",
              "      <td>4.1 and up</td>\n",
              "    </tr>\n",
              "    <tr>\n",
              "      <th>freq</th>\n",
              "      <td>9</td>\n",
              "      <td>1972</td>\n",
              "      <td>NaN</td>\n",
              "      <td>596</td>\n",
              "      <td>1695</td>\n",
              "      <td>1579</td>\n",
              "      <td>10039</td>\n",
              "      <td>10040</td>\n",
              "      <td>8714</td>\n",
              "      <td>842</td>\n",
              "      <td>326</td>\n",
              "      <td>1459</td>\n",
              "      <td>2451</td>\n",
              "    </tr>\n",
              "    <tr>\n",
              "      <th>mean</th>\n",
              "      <td>NaN</td>\n",
              "      <td>NaN</td>\n",
              "      <td>4.193338</td>\n",
              "      <td>NaN</td>\n",
              "      <td>NaN</td>\n",
              "      <td>NaN</td>\n",
              "      <td>NaN</td>\n",
              "      <td>NaN</td>\n",
              "      <td>NaN</td>\n",
              "      <td>NaN</td>\n",
              "      <td>NaN</td>\n",
              "      <td>NaN</td>\n",
              "      <td>NaN</td>\n",
              "    </tr>\n",
              "    <tr>\n",
              "      <th>std</th>\n",
              "      <td>NaN</td>\n",
              "      <td>NaN</td>\n",
              "      <td>0.537431</td>\n",
              "      <td>NaN</td>\n",
              "      <td>NaN</td>\n",
              "      <td>NaN</td>\n",
              "      <td>NaN</td>\n",
              "      <td>NaN</td>\n",
              "      <td>NaN</td>\n",
              "      <td>NaN</td>\n",
              "      <td>NaN</td>\n",
              "      <td>NaN</td>\n",
              "      <td>NaN</td>\n",
              "    </tr>\n",
              "    <tr>\n",
              "      <th>min</th>\n",
              "      <td>NaN</td>\n",
              "      <td>NaN</td>\n",
              "      <td>1.000000</td>\n",
              "      <td>NaN</td>\n",
              "      <td>NaN</td>\n",
              "      <td>NaN</td>\n",
              "      <td>NaN</td>\n",
              "      <td>NaN</td>\n",
              "      <td>NaN</td>\n",
              "      <td>NaN</td>\n",
              "      <td>NaN</td>\n",
              "      <td>NaN</td>\n",
              "      <td>NaN</td>\n",
              "    </tr>\n",
              "    <tr>\n",
              "      <th>25%</th>\n",
              "      <td>NaN</td>\n",
              "      <td>NaN</td>\n",
              "      <td>4.000000</td>\n",
              "      <td>NaN</td>\n",
              "      <td>NaN</td>\n",
              "      <td>NaN</td>\n",
              "      <td>NaN</td>\n",
              "      <td>NaN</td>\n",
              "      <td>NaN</td>\n",
              "      <td>NaN</td>\n",
              "      <td>NaN</td>\n",
              "      <td>NaN</td>\n",
              "      <td>NaN</td>\n",
              "    </tr>\n",
              "    <tr>\n",
              "      <th>50%</th>\n",
              "      <td>NaN</td>\n",
              "      <td>NaN</td>\n",
              "      <td>4.300000</td>\n",
              "      <td>NaN</td>\n",
              "      <td>NaN</td>\n",
              "      <td>NaN</td>\n",
              "      <td>NaN</td>\n",
              "      <td>NaN</td>\n",
              "      <td>NaN</td>\n",
              "      <td>NaN</td>\n",
              "      <td>NaN</td>\n",
              "      <td>NaN</td>\n",
              "      <td>NaN</td>\n",
              "    </tr>\n",
              "    <tr>\n",
              "      <th>75%</th>\n",
              "      <td>NaN</td>\n",
              "      <td>NaN</td>\n",
              "      <td>4.500000</td>\n",
              "      <td>NaN</td>\n",
              "      <td>NaN</td>\n",
              "      <td>NaN</td>\n",
              "      <td>NaN</td>\n",
              "      <td>NaN</td>\n",
              "      <td>NaN</td>\n",
              "      <td>NaN</td>\n",
              "      <td>NaN</td>\n",
              "      <td>NaN</td>\n",
              "      <td>NaN</td>\n",
              "    </tr>\n",
              "    <tr>\n",
              "      <th>max</th>\n",
              "      <td>NaN</td>\n",
              "      <td>NaN</td>\n",
              "      <td>19.000000</td>\n",
              "      <td>NaN</td>\n",
              "      <td>NaN</td>\n",
              "      <td>NaN</td>\n",
              "      <td>NaN</td>\n",
              "      <td>NaN</td>\n",
              "      <td>NaN</td>\n",
              "      <td>NaN</td>\n",
              "      <td>NaN</td>\n",
              "      <td>NaN</td>\n",
              "      <td>NaN</td>\n",
              "    </tr>\n",
              "  </tbody>\n",
              "</table>\n",
              "</div>\n",
              "      <button class=\"colab-df-convert\" onclick=\"convertToInteractive('df-3fd65728-8c4e-414b-9641-7d96b00589f6')\"\n",
              "              title=\"Convert this dataframe to an interactive table.\"\n",
              "              style=\"display:none;\">\n",
              "        \n",
              "  <svg xmlns=\"http://www.w3.org/2000/svg\" height=\"24px\"viewBox=\"0 0 24 24\"\n",
              "       width=\"24px\">\n",
              "    <path d=\"M0 0h24v24H0V0z\" fill=\"none\"/>\n",
              "    <path d=\"M18.56 5.44l.94 2.06.94-2.06 2.06-.94-2.06-.94-.94-2.06-.94 2.06-2.06.94zm-11 1L8.5 8.5l.94-2.06 2.06-.94-2.06-.94L8.5 2.5l-.94 2.06-2.06.94zm10 10l.94 2.06.94-2.06 2.06-.94-2.06-.94-.94-2.06-.94 2.06-2.06.94z\"/><path d=\"M17.41 7.96l-1.37-1.37c-.4-.4-.92-.59-1.43-.59-.52 0-1.04.2-1.43.59L10.3 9.45l-7.72 7.72c-.78.78-.78 2.05 0 2.83L4 21.41c.39.39.9.59 1.41.59.51 0 1.02-.2 1.41-.59l7.78-7.78 2.81-2.81c.8-.78.8-2.07 0-2.86zM5.41 20L4 18.59l7.72-7.72 1.47 1.35L5.41 20z\"/>\n",
              "  </svg>\n",
              "      </button>\n",
              "      \n",
              "  <style>\n",
              "    .colab-df-container {\n",
              "      display:flex;\n",
              "      flex-wrap:wrap;\n",
              "      gap: 12px;\n",
              "    }\n",
              "\n",
              "    .colab-df-convert {\n",
              "      background-color: #E8F0FE;\n",
              "      border: none;\n",
              "      border-radius: 50%;\n",
              "      cursor: pointer;\n",
              "      display: none;\n",
              "      fill: #1967D2;\n",
              "      height: 32px;\n",
              "      padding: 0 0 0 0;\n",
              "      width: 32px;\n",
              "    }\n",
              "\n",
              "    .colab-df-convert:hover {\n",
              "      background-color: #E2EBFA;\n",
              "      box-shadow: 0px 1px 2px rgba(60, 64, 67, 0.3), 0px 1px 3px 1px rgba(60, 64, 67, 0.15);\n",
              "      fill: #174EA6;\n",
              "    }\n",
              "\n",
              "    [theme=dark] .colab-df-convert {\n",
              "      background-color: #3B4455;\n",
              "      fill: #D2E3FC;\n",
              "    }\n",
              "\n",
              "    [theme=dark] .colab-df-convert:hover {\n",
              "      background-color: #434B5C;\n",
              "      box-shadow: 0px 1px 3px 1px rgba(0, 0, 0, 0.15);\n",
              "      filter: drop-shadow(0px 1px 2px rgba(0, 0, 0, 0.3));\n",
              "      fill: #FFFFFF;\n",
              "    }\n",
              "  </style>\n",
              "\n",
              "      <script>\n",
              "        const buttonEl =\n",
              "          document.querySelector('#df-3fd65728-8c4e-414b-9641-7d96b00589f6 button.colab-df-convert');\n",
              "        buttonEl.style.display =\n",
              "          google.colab.kernel.accessAllowed ? 'block' : 'none';\n",
              "\n",
              "        async function convertToInteractive(key) {\n",
              "          const element = document.querySelector('#df-3fd65728-8c4e-414b-9641-7d96b00589f6');\n",
              "          const dataTable =\n",
              "            await google.colab.kernel.invokeFunction('convertToInteractive',\n",
              "                                                     [key], {});\n",
              "          if (!dataTable) return;\n",
              "\n",
              "          const docLinkHtml = 'Like what you see? Visit the ' +\n",
              "            '<a target=\"_blank\" href=https://colab.research.google.com/notebooks/data_table.ipynb>data table notebook</a>'\n",
              "            + ' to learn more about interactive tables.';\n",
              "          element.innerHTML = '';\n",
              "          dataTable['output_type'] = 'display_data';\n",
              "          await google.colab.output.renderOutput(dataTable, element);\n",
              "          const docLink = document.createElement('div');\n",
              "          docLink.innerHTML = docLinkHtml;\n",
              "          element.appendChild(docLink);\n",
              "        }\n",
              "      </script>\n",
              "    </div>\n",
              "  </div>\n",
              "  "
            ],
            "text/plain": [
              "           App Category  ...         Current Ver Android Ver\n",
              "count    10841    10841  ...               10833       10838\n",
              "unique    9660       34  ...                2832          33\n",
              "top     ROBLOX   FAMILY  ...  Varies with device  4.1 and up\n",
              "freq         9     1972  ...                1459        2451\n",
              "mean       NaN      NaN  ...                 NaN         NaN\n",
              "std        NaN      NaN  ...                 NaN         NaN\n",
              "min        NaN      NaN  ...                 NaN         NaN\n",
              "25%        NaN      NaN  ...                 NaN         NaN\n",
              "50%        NaN      NaN  ...                 NaN         NaN\n",
              "75%        NaN      NaN  ...                 NaN         NaN\n",
              "max        NaN      NaN  ...                 NaN         NaN\n",
              "\n",
              "[11 rows x 13 columns]"
            ]
          },
          "metadata": {},
          "execution_count": 15
        }
      ]
    },
    {
      "cell_type": "code",
      "source": [
        "# Information about the data\n",
        "play_store_data_df.info()"
      ],
      "metadata": {
        "colab": {
          "base_uri": "https://localhost:8080/"
        },
        "id": "_QFbr_ABUg9R",
        "outputId": "1472fe7e-0cad-4bda-9bff-31cab05038e1"
      },
      "execution_count": 16,
      "outputs": [
        {
          "output_type": "stream",
          "name": "stdout",
          "text": [
            "<class 'pandas.core.frame.DataFrame'>\n",
            "RangeIndex: 10841 entries, 0 to 10840\n",
            "Data columns (total 13 columns):\n",
            " #   Column          Non-Null Count  Dtype  \n",
            "---  ------          --------------  -----  \n",
            " 0   App             10841 non-null  object \n",
            " 1   Category        10841 non-null  object \n",
            " 2   Rating          9367 non-null   float64\n",
            " 3   Reviews         10841 non-null  object \n",
            " 4   Size            10841 non-null  object \n",
            " 5   Installs        10841 non-null  object \n",
            " 6   Type            10840 non-null  object \n",
            " 7   Price           10841 non-null  object \n",
            " 8   Content Rating  10840 non-null  object \n",
            " 9   Genres          10841 non-null  object \n",
            " 10  Last Updated    10841 non-null  object \n",
            " 11  Current Ver     10833 non-null  object \n",
            " 12  Android Ver     10838 non-null  object \n",
            "dtypes: float64(1), object(12)\n",
            "memory usage: 1.1+ MB\n"
          ]
        }
      ]
    },
    {
      "cell_type": "code",
      "source": [
        "play_store_data_df['Rating'].isnull().sum()"
      ],
      "metadata": {
        "colab": {
          "base_uri": "https://localhost:8080/"
        },
        "id": "rsnU_wzzfIp7",
        "outputId": "3452a4e3-b067-4b76-9f4e-cc60f7c2dde8"
      },
      "execution_count": 73,
      "outputs": [
        {
          "output_type": "execute_result",
          "data": {
            "text/plain": [
              "1474"
            ]
          },
          "metadata": {},
          "execution_count": 73
        }
      ]
    },
    {
      "cell_type": "markdown",
      "source": [
        "#There are small number of NaN value in the columns 'Type', 'Content Rating', 'Current Ver', 'Android Ver'. We will drop NaN rows corresponsding to this columns."
      ],
      "metadata": {
        "id": "f3ROS8goiqHd"
      }
    },
    {
      "cell_type": "code",
      "source": [
        "play_store_data_df = play_store_data_df.dropna(subset =['Type', 'Content Rating', 'Current Ver', 'Android Ver'])"
      ],
      "metadata": {
        "id": "DrxkRx1ZjI3K"
      },
      "execution_count": 83,
      "outputs": []
    },
    {
      "cell_type": "code",
      "source": [
        "play_store_data_df.info()"
      ],
      "metadata": {
        "colab": {
          "base_uri": "https://localhost:8080/"
        },
        "id": "d5QSMUQokBH9",
        "outputId": "5978a555-9c4a-4867-95ed-443690434835"
      },
      "execution_count": 85,
      "outputs": [
        {
          "output_type": "stream",
          "name": "stdout",
          "text": [
            "<class 'pandas.core.frame.DataFrame'>\n",
            "Int64Index: 10829 entries, 0 to 10840\n",
            "Data columns (total 13 columns):\n",
            " #   Column          Non-Null Count  Dtype  \n",
            "---  ------          --------------  -----  \n",
            " 0   App             10829 non-null  object \n",
            " 1   Category        10829 non-null  object \n",
            " 2   Rating          9360 non-null   float64\n",
            " 3   Reviews         10829 non-null  object \n",
            " 4   Size            10829 non-null  object \n",
            " 5   Installs        10829 non-null  object \n",
            " 6   Type            10829 non-null  object \n",
            " 7   Price           10829 non-null  object \n",
            " 8   Content Rating  10829 non-null  object \n",
            " 9   Genres          10829 non-null  object \n",
            " 10  Last Updated    10829 non-null  object \n",
            " 11  Current Ver     10829 non-null  object \n",
            " 12  Android Ver     10829 non-null  object \n",
            "dtypes: float64(1), object(12)\n",
            "memory usage: 1.2+ MB\n"
          ]
        }
      ]
    },
    {
      "cell_type": "markdown",
      "source": [
        "# Now consider value corresponding to column 'Rating', here we have drop the rows directly because this column sufficiently large amount of NaN value.\n",
        "\n",
        "# Instead of just replacing the average of column 'Rating', we put the average of 'Category' of App in the NaN."
      ],
      "metadata": {
        "id": "1Y04e18_jjnb"
      }
    },
    {
      "cell_type": "code",
      "source": [
        "#Find mean of rating corresponding to 'Category'.\n",
        "mean_rating_of_cat_df = play_store_data_df.groupby(['Category']).mean('Rating')"
      ],
      "metadata": {
        "id": "bRQQSMuOkM2l"
      },
      "execution_count": 96,
      "outputs": []
    },
    {
      "cell_type": "code",
      "source": [
        "#Category list\n",
        "cat_lst = mean_rating_of_cat_df.index.tolist()"
      ],
      "metadata": {
        "id": "k_-MVPLvj92_"
      },
      "execution_count": 97,
      "outputs": []
    },
    {
      "cell_type": "code",
      "source": [
        "#List of mean of rating corresponding to category \n",
        "mean_rat_lst = mean_rating_of_cat_df.index.tolist()"
      ],
      "metadata": {
        "id": "ayYRr4lympqc"
      },
      "execution_count": 98,
      "outputs": []
    },
    {
      "cell_type": "code",
      "source": [
        "#replacing the column 'Rating' that are NaN with the average of rating in 'Category' of App..\n",
        "for cat in cat_lst:\n",
        "  lst  =play_store_data_df[play_store_data_df['Category']== cat]['Rating'].isnull()\n",
        "  mean = play_store_data_df[play_store_data_df['Category']== cat]['Rating'].mean()\n",
        "  lst_df = pd.DataFrame(lst)\n",
        "  ind_lst = lst_df.index.tolist()\n",
        "  for i in ind_lst:\n",
        "    play_store_data_df.loc[i, 'Rating'] = mean"
      ],
      "metadata": {
        "colab": {
          "base_uri": "https://localhost:8080/"
        },
        "id": "1wITVVQ7qX6G",
        "outputId": "5fcc7f27-8248-46d5-de47-37bbefd9e08f"
      },
      "execution_count": 132,
      "outputs": [
        {
          "output_type": "stream",
          "name": "stderr",
          "text": [
            "/usr/local/lib/python3.7/dist-packages/pandas/core/indexing.py:1763: SettingWithCopyWarning: \n",
            "A value is trying to be set on a copy of a slice from a DataFrame.\n",
            "Try using .loc[row_indexer,col_indexer] = value instead\n",
            "\n",
            "See the caveats in the documentation: https://pandas.pydata.org/pandas-docs/stable/user_guide/indexing.html#returning-a-view-versus-a-copy\n",
            "  isetter(loc, value)\n"
          ]
        }
      ]
    },
    {
      "cell_type": "code",
      "source": [
        "play_store_data_df.info()"
      ],
      "metadata": {
        "colab": {
          "base_uri": "https://localhost:8080/"
        },
        "id": "ocoJkZhUxhlg",
        "outputId": "1610a6e0-c0c6-4d84-e051-de5ce2e88ab9"
      },
      "execution_count": 133,
      "outputs": [
        {
          "output_type": "stream",
          "name": "stdout",
          "text": [
            "<class 'pandas.core.frame.DataFrame'>\n",
            "Int64Index: 10829 entries, 0 to 10840\n",
            "Data columns (total 13 columns):\n",
            " #   Column          Non-Null Count  Dtype  \n",
            "---  ------          --------------  -----  \n",
            " 0   App             10829 non-null  object \n",
            " 1   Category        10829 non-null  object \n",
            " 2   Rating          10829 non-null  float64\n",
            " 3   Reviews         10829 non-null  object \n",
            " 4   Size            10829 non-null  object \n",
            " 5   Installs        10829 non-null  object \n",
            " 6   Type            10829 non-null  object \n",
            " 7   Price           10829 non-null  object \n",
            " 8   Content Rating  10829 non-null  object \n",
            " 9   Genres          10829 non-null  object \n",
            " 10  Last Updated    10829 non-null  object \n",
            " 11  Current Ver     10829 non-null  object \n",
            " 12  Android Ver     10829 non-null  object \n",
            "dtypes: float64(1), object(12)\n",
            "memory usage: 1.5+ MB\n"
          ]
        }
      ]
    },
    {
      "cell_type": "code",
      "source": [
        "play_store_data_df.describe(include='all')"
      ],
      "metadata": {
        "colab": {
          "base_uri": "https://localhost:8080/",
          "height": 394
        },
        "id": "O7ZQANbUz6w9",
        "outputId": "21137b69-147c-4f20-97ff-14e136c49550"
      },
      "execution_count": 136,
      "outputs": [
        {
          "output_type": "execute_result",
          "data": {
            "text/html": [
              "\n",
              "  <div id=\"df-177ed587-47d1-4259-8ebb-423c1c55914f\">\n",
              "    <div class=\"colab-df-container\">\n",
              "      <div>\n",
              "<style scoped>\n",
              "    .dataframe tbody tr th:only-of-type {\n",
              "        vertical-align: middle;\n",
              "    }\n",
              "\n",
              "    .dataframe tbody tr th {\n",
              "        vertical-align: top;\n",
              "    }\n",
              "\n",
              "    .dataframe thead th {\n",
              "        text-align: right;\n",
              "    }\n",
              "</style>\n",
              "<table border=\"1\" class=\"dataframe\">\n",
              "  <thead>\n",
              "    <tr style=\"text-align: right;\">\n",
              "      <th></th>\n",
              "      <th>App</th>\n",
              "      <th>Category</th>\n",
              "      <th>Rating</th>\n",
              "      <th>Reviews</th>\n",
              "      <th>Size</th>\n",
              "      <th>Installs</th>\n",
              "      <th>Type</th>\n",
              "      <th>Price</th>\n",
              "      <th>Content Rating</th>\n",
              "      <th>Genres</th>\n",
              "      <th>Last Updated</th>\n",
              "      <th>Current Ver</th>\n",
              "      <th>Android Ver</th>\n",
              "    </tr>\n",
              "  </thead>\n",
              "  <tbody>\n",
              "    <tr>\n",
              "      <th>count</th>\n",
              "      <td>10829</td>\n",
              "      <td>10829</td>\n",
              "      <td>10829.000000</td>\n",
              "      <td>10829</td>\n",
              "      <td>10829</td>\n",
              "      <td>10829</td>\n",
              "      <td>10829</td>\n",
              "      <td>10829</td>\n",
              "      <td>10829</td>\n",
              "      <td>10829</td>\n",
              "      <td>10829</td>\n",
              "      <td>10829</td>\n",
              "      <td>10829</td>\n",
              "    </tr>\n",
              "    <tr>\n",
              "      <th>unique</th>\n",
              "      <td>9648</td>\n",
              "      <td>33</td>\n",
              "      <td>NaN</td>\n",
              "      <td>5999</td>\n",
              "      <td>457</td>\n",
              "      <td>20</td>\n",
              "      <td>2</td>\n",
              "      <td>92</td>\n",
              "      <td>6</td>\n",
              "      <td>119</td>\n",
              "      <td>1376</td>\n",
              "      <td>2831</td>\n",
              "      <td>33</td>\n",
              "    </tr>\n",
              "    <tr>\n",
              "      <th>top</th>\n",
              "      <td>ROBLOX</td>\n",
              "      <td>FAMILY</td>\n",
              "      <td>NaN</td>\n",
              "      <td>0</td>\n",
              "      <td>Varies with device</td>\n",
              "      <td>1,000,000+</td>\n",
              "      <td>Free</td>\n",
              "      <td>0</td>\n",
              "      <td>Everyone</td>\n",
              "      <td>Tools</td>\n",
              "      <td>August 3, 2018</td>\n",
              "      <td>Varies with device</td>\n",
              "      <td>4.1 and up</td>\n",
              "    </tr>\n",
              "    <tr>\n",
              "      <th>freq</th>\n",
              "      <td>9</td>\n",
              "      <td>1968</td>\n",
              "      <td>NaN</td>\n",
              "      <td>594</td>\n",
              "      <td>1694</td>\n",
              "      <td>1578</td>\n",
              "      <td>10032</td>\n",
              "      <td>10032</td>\n",
              "      <td>8704</td>\n",
              "      <td>840</td>\n",
              "      <td>326</td>\n",
              "      <td>1458</td>\n",
              "      <td>2451</td>\n",
              "    </tr>\n",
              "    <tr>\n",
              "      <th>mean</th>\n",
              "      <td>NaN</td>\n",
              "      <td>NaN</td>\n",
              "      <td>4.190524</td>\n",
              "      <td>NaN</td>\n",
              "      <td>NaN</td>\n",
              "      <td>NaN</td>\n",
              "      <td>NaN</td>\n",
              "      <td>NaN</td>\n",
              "      <td>NaN</td>\n",
              "      <td>NaN</td>\n",
              "      <td>NaN</td>\n",
              "      <td>NaN</td>\n",
              "      <td>NaN</td>\n",
              "    </tr>\n",
              "    <tr>\n",
              "      <th>std</th>\n",
              "      <td>NaN</td>\n",
              "      <td>NaN</td>\n",
              "      <td>0.090298</td>\n",
              "      <td>NaN</td>\n",
              "      <td>NaN</td>\n",
              "      <td>NaN</td>\n",
              "      <td>NaN</td>\n",
              "      <td>NaN</td>\n",
              "      <td>NaN</td>\n",
              "      <td>NaN</td>\n",
              "      <td>NaN</td>\n",
              "      <td>NaN</td>\n",
              "      <td>NaN</td>\n",
              "    </tr>\n",
              "    <tr>\n",
              "      <th>min</th>\n",
              "      <td>NaN</td>\n",
              "      <td>NaN</td>\n",
              "      <td>3.970769</td>\n",
              "      <td>NaN</td>\n",
              "      <td>NaN</td>\n",
              "      <td>NaN</td>\n",
              "      <td>NaN</td>\n",
              "      <td>NaN</td>\n",
              "      <td>NaN</td>\n",
              "      <td>NaN</td>\n",
              "      <td>NaN</td>\n",
              "      <td>NaN</td>\n",
              "      <td>NaN</td>\n",
              "    </tr>\n",
              "    <tr>\n",
              "      <th>25%</th>\n",
              "      <td>NaN</td>\n",
              "      <td>NaN</td>\n",
              "      <td>4.131889</td>\n",
              "      <td>NaN</td>\n",
              "      <td>NaN</td>\n",
              "      <td>NaN</td>\n",
              "      <td>NaN</td>\n",
              "      <td>NaN</td>\n",
              "      <td>NaN</td>\n",
              "      <td>NaN</td>\n",
              "      <td>NaN</td>\n",
              "      <td>NaN</td>\n",
              "      <td>NaN</td>\n",
              "    </tr>\n",
              "    <tr>\n",
              "      <th>50%</th>\n",
              "      <td>NaN</td>\n",
              "      <td>NaN</td>\n",
              "      <td>4.192383</td>\n",
              "      <td>NaN</td>\n",
              "      <td>NaN</td>\n",
              "      <td>NaN</td>\n",
              "      <td>NaN</td>\n",
              "      <td>NaN</td>\n",
              "      <td>NaN</td>\n",
              "      <td>NaN</td>\n",
              "      <td>NaN</td>\n",
              "      <td>NaN</td>\n",
              "      <td>NaN</td>\n",
              "    </tr>\n",
              "    <tr>\n",
              "      <th>75%</th>\n",
              "      <td>NaN</td>\n",
              "      <td>NaN</td>\n",
              "      <td>4.259664</td>\n",
              "      <td>NaN</td>\n",
              "      <td>NaN</td>\n",
              "      <td>NaN</td>\n",
              "      <td>NaN</td>\n",
              "      <td>NaN</td>\n",
              "      <td>NaN</td>\n",
              "      <td>NaN</td>\n",
              "      <td>NaN</td>\n",
              "      <td>NaN</td>\n",
              "      <td>NaN</td>\n",
              "    </tr>\n",
              "    <tr>\n",
              "      <th>max</th>\n",
              "      <td>NaN</td>\n",
              "      <td>NaN</td>\n",
              "      <td>4.435556</td>\n",
              "      <td>NaN</td>\n",
              "      <td>NaN</td>\n",
              "      <td>NaN</td>\n",
              "      <td>NaN</td>\n",
              "      <td>NaN</td>\n",
              "      <td>NaN</td>\n",
              "      <td>NaN</td>\n",
              "      <td>NaN</td>\n",
              "      <td>NaN</td>\n",
              "      <td>NaN</td>\n",
              "    </tr>\n",
              "  </tbody>\n",
              "</table>\n",
              "</div>\n",
              "      <button class=\"colab-df-convert\" onclick=\"convertToInteractive('df-177ed587-47d1-4259-8ebb-423c1c55914f')\"\n",
              "              title=\"Convert this dataframe to an interactive table.\"\n",
              "              style=\"display:none;\">\n",
              "        \n",
              "  <svg xmlns=\"http://www.w3.org/2000/svg\" height=\"24px\"viewBox=\"0 0 24 24\"\n",
              "       width=\"24px\">\n",
              "    <path d=\"M0 0h24v24H0V0z\" fill=\"none\"/>\n",
              "    <path d=\"M18.56 5.44l.94 2.06.94-2.06 2.06-.94-2.06-.94-.94-2.06-.94 2.06-2.06.94zm-11 1L8.5 8.5l.94-2.06 2.06-.94-2.06-.94L8.5 2.5l-.94 2.06-2.06.94zm10 10l.94 2.06.94-2.06 2.06-.94-2.06-.94-.94-2.06-.94 2.06-2.06.94z\"/><path d=\"M17.41 7.96l-1.37-1.37c-.4-.4-.92-.59-1.43-.59-.52 0-1.04.2-1.43.59L10.3 9.45l-7.72 7.72c-.78.78-.78 2.05 0 2.83L4 21.41c.39.39.9.59 1.41.59.51 0 1.02-.2 1.41-.59l7.78-7.78 2.81-2.81c.8-.78.8-2.07 0-2.86zM5.41 20L4 18.59l7.72-7.72 1.47 1.35L5.41 20z\"/>\n",
              "  </svg>\n",
              "      </button>\n",
              "      \n",
              "  <style>\n",
              "    .colab-df-container {\n",
              "      display:flex;\n",
              "      flex-wrap:wrap;\n",
              "      gap: 12px;\n",
              "    }\n",
              "\n",
              "    .colab-df-convert {\n",
              "      background-color: #E8F0FE;\n",
              "      border: none;\n",
              "      border-radius: 50%;\n",
              "      cursor: pointer;\n",
              "      display: none;\n",
              "      fill: #1967D2;\n",
              "      height: 32px;\n",
              "      padding: 0 0 0 0;\n",
              "      width: 32px;\n",
              "    }\n",
              "\n",
              "    .colab-df-convert:hover {\n",
              "      background-color: #E2EBFA;\n",
              "      box-shadow: 0px 1px 2px rgba(60, 64, 67, 0.3), 0px 1px 3px 1px rgba(60, 64, 67, 0.15);\n",
              "      fill: #174EA6;\n",
              "    }\n",
              "\n",
              "    [theme=dark] .colab-df-convert {\n",
              "      background-color: #3B4455;\n",
              "      fill: #D2E3FC;\n",
              "    }\n",
              "\n",
              "    [theme=dark] .colab-df-convert:hover {\n",
              "      background-color: #434B5C;\n",
              "      box-shadow: 0px 1px 3px 1px rgba(0, 0, 0, 0.15);\n",
              "      filter: drop-shadow(0px 1px 2px rgba(0, 0, 0, 0.3));\n",
              "      fill: #FFFFFF;\n",
              "    }\n",
              "  </style>\n",
              "\n",
              "      <script>\n",
              "        const buttonEl =\n",
              "          document.querySelector('#df-177ed587-47d1-4259-8ebb-423c1c55914f button.colab-df-convert');\n",
              "        buttonEl.style.display =\n",
              "          google.colab.kernel.accessAllowed ? 'block' : 'none';\n",
              "\n",
              "        async function convertToInteractive(key) {\n",
              "          const element = document.querySelector('#df-177ed587-47d1-4259-8ebb-423c1c55914f');\n",
              "          const dataTable =\n",
              "            await google.colab.kernel.invokeFunction('convertToInteractive',\n",
              "                                                     [key], {});\n",
              "          if (!dataTable) return;\n",
              "\n",
              "          const docLinkHtml = 'Like what you see? Visit the ' +\n",
              "            '<a target=\"_blank\" href=https://colab.research.google.com/notebooks/data_table.ipynb>data table notebook</a>'\n",
              "            + ' to learn more about interactive tables.';\n",
              "          element.innerHTML = '';\n",
              "          dataTable['output_type'] = 'display_data';\n",
              "          await google.colab.output.renderOutput(dataTable, element);\n",
              "          const docLink = document.createElement('div');\n",
              "          docLink.innerHTML = docLinkHtml;\n",
              "          element.appendChild(docLink);\n",
              "        }\n",
              "      </script>\n",
              "    </div>\n",
              "  </div>\n",
              "  "
            ],
            "text/plain": [
              "           App Category  ...         Current Ver Android Ver\n",
              "count    10829    10829  ...               10829       10829\n",
              "unique    9648       33  ...                2831          33\n",
              "top     ROBLOX   FAMILY  ...  Varies with device  4.1 and up\n",
              "freq         9     1968  ...                1458        2451\n",
              "mean       NaN      NaN  ...                 NaN         NaN\n",
              "std        NaN      NaN  ...                 NaN         NaN\n",
              "min        NaN      NaN  ...                 NaN         NaN\n",
              "25%        NaN      NaN  ...                 NaN         NaN\n",
              "50%        NaN      NaN  ...                 NaN         NaN\n",
              "75%        NaN      NaN  ...                 NaN         NaN\n",
              "max        NaN      NaN  ...                 NaN         NaN\n",
              "\n",
              "[11 rows x 13 columns]"
            ]
          },
          "metadata": {},
          "execution_count": 136
        }
      ]
    },
    {
      "cell_type": "markdown",
      "source": [
        "##Now our dataset have no NaN value."
      ],
      "metadata": {
        "id": "UFaveZ4ozPAY"
      }
    },
    {
      "cell_type": "markdown",
      "source": [
        "##Compare the relationship between number of installs and corresponding rating."
      ],
      "metadata": {
        "id": "46bqkvufXMor"
      }
    },
    {
      "cell_type": "code",
      "source": [
        "#Here we remove those rows that have rating more than 5.0, because that is absurd.\n",
        "new_play_df = play_store_data_df[play_store_data_df[\"Rating\"]<=5.0]"
      ],
      "metadata": {
        "id": "8ggjwGxv7Mep"
      },
      "execution_count": 139,
      "outputs": []
    },
    {
      "cell_type": "code",
      "source": [
        "#Create a bar graph\n",
        "ax = new_play_df.groupby([\"Installs\"])[\"Rating\"].mean().plot.bar(\n",
        "    figsize = (10,5),\n",
        "    fontsize = 14\n",
        ")\n",
        "\n",
        "#Title\n",
        "ax.set_title(\"Average rating to the number of installs\")\n",
        "\n",
        "#X and Y axis labeling\n",
        "ax.set_xlabel(\"Number of Installs\")\n",
        "ax.set_ylabel(\"Average rating\")"
      ],
      "metadata": {
        "colab": {
          "base_uri": "https://localhost:8080/",
          "height": 470
        },
        "id": "pzK_OEZWUy73",
        "outputId": "f083cf94-4281-4b30-d40b-f22a618cab47"
      },
      "execution_count": 23,
      "outputs": [
        {
          "output_type": "execute_result",
          "data": {
            "text/plain": [
              "Text(0, 0.5, 'Average rating')"
            ]
          },
          "metadata": {},
          "execution_count": 23
        },
        {
          "output_type": "display_data",
          "data": {
            "image/png": "[encoded data removed]",
            "text/plain": [
              "<Figure size 720x360 with 1 Axes>"
            ]
          },
          "metadata": {
            "needs_background": "light"
          }
        }
      ]
    },
    {
      "cell_type": "markdown",
      "source": [
        "#We can see number of install doesnot affects the rating average largerly."
      ],
      "metadata": {
        "id": "1nNWDRoiiiAg"
      }
    },
    {
      "cell_type": "markdown",
      "source": [
        "# Now we see, is there any relation between reviews and category of app. "
      ],
      "metadata": {
        "id": "0ljQC9MhjQ-j"
      }
    },
    {
      "cell_type": "code",
      "source": [
        "new_play_df.columns"
      ],
      "metadata": {
        "colab": {
          "base_uri": "https://localhost:8080/"
        },
        "id": "azgexm1mj1D5",
        "outputId": "8bdde760-3fba-4bb5-ee03-578ec62a8db8"
      },
      "execution_count": 24,
      "outputs": [
        {
          "output_type": "execute_result",
          "data": {
            "text/plain": [
              "Index(['App', 'Category', 'Rating', 'Reviews', 'Size', 'Installs', 'Type',\n",
              "       'Price', 'Content Rating', 'Genres', 'Last Updated', 'Current Ver',\n",
              "       'Android Ver'],\n",
              "      dtype='object')"
            ]
          },
          "metadata": {},
          "execution_count": 24
        }
      ]
    },
    {
      "cell_type": "code",
      "source": [
        "new_play_df[\"Reviews\"] = new_play_df[\"Reviews\"].astype(int)"
      ],
      "metadata": {
        "colab": {
          "base_uri": "https://localhost:8080/"
        },
        "id": "cWU91Tg7k3Du",
        "outputId": "e0a3139c-61b4-4e04-cfea-6ec12c62f19f"
      },
      "execution_count": 25,
      "outputs": [
        {
          "output_type": "stream",
          "name": "stderr",
          "text": [
            "/usr/local/lib/python3.7/dist-packages/ipykernel_launcher.py:1: SettingWithCopyWarning: \n",
            "A value is trying to be set on a copy of a slice from a DataFrame.\n",
            "Try using .loc[row_indexer,col_indexer] = value instead\n",
            "\n",
            "See the caveats in the documentation: https://pandas.pydata.org/pandas-docs/stable/user_guide/indexing.html#returning-a-view-versus-a-copy\n",
            "  \"\"\"Entry point for launching an IPython kernel.\n"
          ]
        }
      ]
    },
    {
      "cell_type": "code",
      "source": [
        "new_play_df.info()"
      ],
      "metadata": {
        "colab": {
          "base_uri": "https://localhost:8080/"
        },
        "id": "i0m_enj1lR8W",
        "outputId": "f53ff17f-05df-4919-c59b-c8cbce65eaea"
      },
      "execution_count": 26,
      "outputs": [
        {
          "output_type": "stream",
          "name": "stdout",
          "text": [
            "<class 'pandas.core.frame.DataFrame'>\n",
            "Int64Index: 9366 entries, 0 to 10840\n",
            "Data columns (total 13 columns):\n",
            " #   Column          Non-Null Count  Dtype  \n",
            "---  ------          --------------  -----  \n",
            " 0   App             9366 non-null   object \n",
            " 1   Category        9366 non-null   object \n",
            " 2   Rating          9366 non-null   float64\n",
            " 3   Reviews         9366 non-null   int64  \n",
            " 4   Size            9366 non-null   object \n",
            " 5   Installs        9366 non-null   object \n",
            " 6   Type            9366 non-null   object \n",
            " 7   Price           9366 non-null   object \n",
            " 8   Content Rating  9366 non-null   object \n",
            " 9   Genres          9366 non-null   object \n",
            " 10  Last Updated    9366 non-null   object \n",
            " 11  Current Ver     9362 non-null   object \n",
            " 12  Android Ver     9364 non-null   object \n",
            "dtypes: float64(1), int64(1), object(11)\n",
            "memory usage: 1.0+ MB\n"
          ]
        }
      ]
    },
    {
      "cell_type": "code",
      "source": [
        "#Create a bar graph\n",
        "ax = new_play_df.groupby([\"Category\"])[\"Reviews\"].mean().plot.bar(\n",
        "    figsize = (10,5),\n",
        "    fontsize = 14\n",
        ")\n",
        "\n",
        "#Title\n",
        "ax.set_title(\"Average number of reviews to the Category of App\")\n",
        "\n",
        "#X and Y axis labeling\n",
        "ax.set_xlabel(\"Category of app\")\n",
        "ax.set_ylabel(\"Average number of reviews\")"
      ],
      "metadata": {
        "colab": {
          "base_uri": "https://localhost:8080/",
          "height": 534
        },
        "id": "kNUL4D7Hhs-i",
        "outputId": "5342fb80-15a0-4516-a59b-0bc555941cfc"
      },
      "execution_count": 27,
      "outputs": [
        {
          "output_type": "execute_result",
          "data": {
            "text/plain": [
              "Text(0, 0.5, 'Average number of reviews')"
            ]
          },
          "metadata": {},
          "execution_count": 27
        },
        {
          "output_type": "display_data",
          "data": {
            "image/png": "[encoded data removed]",
            "text/plain": [
              "<Figure size 720x360 with 1 Axes>"
            ]
          },
          "metadata": {
            "needs_background": "light"
          }
        }
      ]
    },
    {
      "cell_type": "code",
      "source": [
        "new_play_df[new_play_df['Category']==\"COMMUNICATION\"][\"App\"]"
      ],
      "metadata": {
        "colab": {
          "base_uri": "https://localhost:8080/"
        },
        "id": "id-Gpp_6lpGR",
        "outputId": "353977a3-271e-4c4c-9da3-2d9b6449b03e"
      },
      "execution_count": 28,
      "outputs": [
        {
          "output_type": "execute_result",
          "data": {
            "text/plain": [
              "335      Messenger – Text and Video Chat for Free\n",
              "336                            WhatsApp Messenger\n",
              "337                             Messenger for SMS\n",
              "338                  Google Chrome: Fast & Secure\n",
              "339         Messenger Lite: Free Calls & Messages\n",
              "                           ...                   \n",
              "10474                                Sat-Fi Voice\n",
              "10479                          Free Wi-fi HotspoT\n",
              "10720          Firefox Focus: The privacy browser\n",
              "10739              FreedomPop Messaging Phone/SIM\n",
              "10790                      HipChat - beta version\n",
              "Name: App, Length: 328, dtype: object"
            ]
          },
          "metadata": {},
          "execution_count": 28
        }
      ]
    },
    {
      "cell_type": "code",
      "source": [
        "new_play_df[new_play_df['Category']==\"GAME\"][\"App\"]"
      ],
      "metadata": {
        "colab": {
          "base_uri": "https://localhost:8080/"
        },
        "id": "z0Yo3S1Cmbqz",
        "outputId": "bddbe8d2-ae86-4bb7-e71f-62894af4dfeb"
      },
      "execution_count": 29,
      "outputs": [
        {
          "output_type": "execute_result",
          "data": {
            "text/plain": [
              "1653                           ROBLOX\n",
              "1654                   Subway Surfers\n",
              "1655                 Candy Crush Saga\n",
              "1656                        Solitaire\n",
              "1657                   Bubble Shooter\n",
              "                     ...             \n",
              "10791               Winter Wonderland\n",
              "10792          Soccer Clubs Logo Quiz\n",
              "10793                       Sid Story\n",
              "10803    Fatal Raid - No.1 Mobile FPS\n",
              "10804                    Poker Pro.Fr\n",
              "Name: App, Length: 1097, dtype: object"
            ]
          },
          "metadata": {},
          "execution_count": 29
        }
      ]
    },
    {
      "cell_type": "code",
      "source": [
        "new_play_df[new_play_df['Category']==\"SOCIAL\"][\"App\"]"
      ],
      "metadata": {
        "colab": {
          "base_uri": "https://localhost:8080/"
        },
        "id": "w8xocV1Ymhy5",
        "outputId": "60c061c4-2298-41e6-ef4a-9be23cbc5886"
      },
      "execution_count": 30,
      "outputs": [
        {
          "output_type": "execute_result",
          "data": {
            "text/plain": [
              "2544                                        Facebook\n",
              "2545                                       Instagram\n",
              "2546                                   Facebook Lite\n",
              "2547     Messages, Text and Video Chat for Messenger\n",
              "2548                                          Tumblr\n",
              "                            ...                     \n",
              "10689                    Alarm.fo – choose your info\n",
              "10714                  FunForMobile Ringtones & Chat\n",
              "10765                Chat For Strangers - Video Chat\n",
              "10799                                 Fr Daoud Lamei\n",
              "10826      Frim: get new friends on local chat rooms\n",
              "Name: App, Length: 259, dtype: object"
            ]
          },
          "metadata": {},
          "execution_count": 30
        }
      ]
    },
    {
      "cell_type": "markdown",
      "source": [
        "#We can see that from the above bargraph Category : Comunication, Game, and Social have more average number of reviews. Communication app like whatsapp, Messenger etc; Game app like Subway Surfers, Candy Crush, Solitaire etc and Social app like FAcebook, Instagram, Tumblr etc.\n",
        "\n",
        "#Photography and Video players category are also have good number of reviews."
      ],
      "metadata": {
        "id": "wArIQrChmvzo"
      }
    },
    {
      "cell_type": "markdown",
      "source": [
        "#Now we study relationship between category and average review"
      ],
      "metadata": {
        "id": "DeTDi27tn9SQ"
      }
    },
    {
      "cell_type": "code",
      "source": [
        "#Create a bar graph\n",
        "ax = new_play_df.groupby([\"Category\"])[\"Rating\"].mean().plot.bar(\n",
        "    figsize = (10,5),\n",
        "    fontsize = 14\n",
        ")\n",
        "\n",
        "#Title\n",
        "ax.set_title(\"Average Rating to the Category of App\")\n",
        "\n",
        "#X and Y axis labeling\n",
        "ax.set_xlabel(\"Category of app\")\n",
        "ax.set_ylabel(\"Average Rating\")"
      ],
      "metadata": {
        "colab": {
          "base_uri": "https://localhost:8080/",
          "height": 534
        },
        "id": "I5X01wO8oK9p",
        "outputId": "c0d47df6-17c1-4f19-8b1e-318bcc27270f"
      },
      "execution_count": 31,
      "outputs": [
        {
          "output_type": "execute_result",
          "data": {
            "text/plain": [
              "Text(0, 0.5, 'Average Rating')"
            ]
          },
          "metadata": {},
          "execution_count": 31
        },
        {
          "output_type": "display_data",
          "data": {
            "image/png": "[encoded data removed]",
            "text/plain": [
              "<Figure size 720x360 with 1 Axes>"
            ]
          },
          "metadata": {
            "needs_background": "light"
          }
        }
      ]
    },
    {
      "cell_type": "markdown",
      "source": [
        "#Not much difference between the rating among different categories."
      ],
      "metadata": {
        "id": "dcpRFsXEoUJJ"
      }
    },
    {
      "cell_type": "markdown",
      "source": [
        "#Now plot the distribution plot of rating feature"
      ],
      "metadata": {
        "id": "HxTafsvx6VJS"
      }
    },
    {
      "cell_type": "code",
      "source": [
        "sns.distplot(new_play_df[\"Rating\"], color = 'blue')"
      ],
      "metadata": {
        "colab": {
          "base_uri": "https://localhost:8080/",
          "height": 351
        },
        "id": "7kWJDDF66eMN",
        "outputId": "e2837bfb-1181-472f-a34d-1b970cb1590b"
      },
      "execution_count": 32,
      "outputs": [
        {
          "output_type": "stream",
          "name": "stderr",
          "text": [
            "/usr/local/lib/python3.7/dist-packages/seaborn/distributions.py:2619: FutureWarning: `distplot` is a deprecated function and will be removed in a future version. Please adapt your code to use either `displot` (a figure-level function with similar flexibility) or `histplot` (an axes-level function for histograms).\n",
            "  warnings.warn(msg, FutureWarning)\n"
          ]
        },
        {
          "output_type": "execute_result",
          "data": {
            "text/plain": [
              "<matplotlib.axes._subplots.AxesSubplot at 0x7ff0752149d0>"
            ]
          },
          "metadata": {},
          "execution_count": 32
        },
        {
          "output_type": "display_data",
          "data": {
            "image/png": "[encoded data removed]",
            "text/plain": [
              "<Figure size 432x288 with 1 Axes>"
            ]
          },
          "metadata": {
            "needs_background": "light"
          }
        }
      ]
    },
    {
      "cell_type": "code",
      "source": [
        "new_play_df[new_play_df['Rating']>4.0]['App'].count()"
      ],
      "metadata": {
        "colab": {
          "base_uri": "https://localhost:8080/"
        },
        "id": "qT78GLhb7Osy",
        "outputId": "bc942810-171b-48fd-fa7b-c564a863ba27"
      },
      "execution_count": 33,
      "outputs": [
        {
          "output_type": "execute_result",
          "data": {
            "text/plain": [
              "6800"
            ]
          },
          "metadata": {},
          "execution_count": 33
        }
      ]
    },
    {
      "cell_type": "code",
      "source": [
        "6800/10842*100"
      ],
      "metadata": {
        "colab": {
          "base_uri": "https://localhost:8080/"
        },
        "id": "obUVcaRK7xd7",
        "outputId": "06c0fc47-8445-4f6e-af93-431b1542716d"
      },
      "execution_count": 34,
      "outputs": [
        {
          "output_type": "execute_result",
          "data": {
            "text/plain": [
              "62.71905552481092"
            ]
          },
          "metadata": {},
          "execution_count": 34
        }
      ]
    },
    {
      "cell_type": "markdown",
      "source": [
        "#We can see that distribution plot of rating is right skewed normal distribution with mean around 4.5. Out 10,841 different entries, 6800 has rating more than 4.0 rating, i.e., more than 62.7 % of app have this rating."
      ],
      "metadata": {
        "id": "fsHOZ8Mv69nd"
      }
    },
    {
      "cell_type": "code",
      "source": [
        ""
      ],
      "metadata": {
        "id": "809xiMdd6orS"
      },
      "execution_count": 34,
      "outputs": []
    },
    {
      "cell_type": "code",
      "source": [
        "new_play_df.columns"
      ],
      "metadata": {
        "colab": {
          "base_uri": "https://localhost:8080/"
        },
        "id": "6_mGgNDl8wEQ",
        "outputId": "92b7b436-a80f-4f31-81e1-8a790526e64f"
      },
      "execution_count": 35,
      "outputs": [
        {
          "output_type": "execute_result",
          "data": {
            "text/plain": [
              "Index(['App', 'Category', 'Rating', 'Reviews', 'Size', 'Installs', 'Type',\n",
              "       'Price', 'Content Rating', 'Genres', 'Last Updated', 'Current Ver',\n",
              "       'Android Ver'],\n",
              "      dtype='object')"
            ]
          },
          "metadata": {},
          "execution_count": 35
        }
      ]
    },
    {
      "cell_type": "markdown",
      "source": [
        "# We draw the pie chart and calculate the percent of app belonging to different content rating of app."
      ],
      "metadata": {
        "id": "TO8SHeZ1QEBl"
      }
    },
    {
      "cell_type": "code",
      "source": [
        ""
      ],
      "metadata": {
        "id": "LvW-YEB8QDcM"
      },
      "execution_count": 35,
      "outputs": []
    },
    {
      "cell_type": "code",
      "source": [
        "#using groupby count the number of app to correspondind content rating\n",
        "data = new_play_df.groupby(['Content Rating'])[\"App\"].count()"
      ],
      "metadata": {
        "id": "z00xd6-sNXUk"
      },
      "execution_count": 36,
      "outputs": []
    },
    {
      "cell_type": "code",
      "source": [
        "data"
      ],
      "metadata": {
        "colab": {
          "base_uri": "https://localhost:8080/"
        },
        "id": "Y7moCWK7Scjt",
        "outputId": "a0cd9d46-0c65-4b53-8d33-5e63bfdc3b98"
      },
      "execution_count": 37,
      "outputs": [
        {
          "output_type": "execute_result",
          "data": {
            "text/plain": [
              "Content Rating\n",
              "Adults only 18+       3\n",
              "Everyone           7420\n",
              "Everyone 10+        397\n",
              "Mature 17+          461\n",
              "Teen               1084\n",
              "Unrated               1\n",
              "Name: App, dtype: int64"
            ]
          },
          "metadata": {},
          "execution_count": 37
        }
      ]
    },
    {
      "cell_type": "code",
      "source": [
        "#Create DataFrame\n",
        "data_ = pd.DataFrame(data)"
      ],
      "metadata": {
        "id": "C9k76mvDOKim"
      },
      "execution_count": 38,
      "outputs": []
    },
    {
      "cell_type": "code",
      "source": [
        "data_"
      ],
      "metadata": {
        "colab": {
          "base_uri": "https://localhost:8080/",
          "height": 269
        },
        "id": "iCPIjBMTRofs",
        "outputId": "33e1a50f-b34c-4154-d2c5-3055215236d4"
      },
      "execution_count": 39,
      "outputs": [
        {
          "output_type": "execute_result",
          "data": {
            "text/html": [
              "\n",
              "  <div id=\"df-dbedb05a-0ce3-41c9-89f2-8e0ab64165e1\">\n",
              "    <div class=\"colab-df-container\">\n",
              "      <div>\n",
              "<style scoped>\n",
              "    .dataframe tbody tr th:only-of-type {\n",
              "        vertical-align: middle;\n",
              "    }\n",
              "\n",
              "    .dataframe tbody tr th {\n",
              "        vertical-align: top;\n",
              "    }\n",
              "\n",
              "    .dataframe thead th {\n",
              "        text-align: right;\n",
              "    }\n",
              "</style>\n",
              "<table border=\"1\" class=\"dataframe\">\n",
              "  <thead>\n",
              "    <tr style=\"text-align: right;\">\n",
              "      <th></th>\n",
              "      <th>App</th>\n",
              "    </tr>\n",
              "    <tr>\n",
              "      <th>Content Rating</th>\n",
              "      <th></th>\n",
              "    </tr>\n",
              "  </thead>\n",
              "  <tbody>\n",
              "    <tr>\n",
              "      <th>Adults only 18+</th>\n",
              "      <td>3</td>\n",
              "    </tr>\n",
              "    <tr>\n",
              "      <th>Everyone</th>\n",
              "      <td>7420</td>\n",
              "    </tr>\n",
              "    <tr>\n",
              "      <th>Everyone 10+</th>\n",
              "      <td>397</td>\n",
              "    </tr>\n",
              "    <tr>\n",
              "      <th>Mature 17+</th>\n",
              "      <td>461</td>\n",
              "    </tr>\n",
              "    <tr>\n",
              "      <th>Teen</th>\n",
              "      <td>1084</td>\n",
              "    </tr>\n",
              "    <tr>\n",
              "      <th>Unrated</th>\n",
              "      <td>1</td>\n",
              "    </tr>\n",
              "  </tbody>\n",
              "</table>\n",
              "</div>\n",
              "      <button class=\"colab-df-convert\" onclick=\"convertToInteractive('df-dbedb05a-0ce3-41c9-89f2-8e0ab64165e1')\"\n",
              "              title=\"Convert this dataframe to an interactive table.\"\n",
              "              style=\"display:none;\">\n",
              "        \n",
              "  <svg xmlns=\"http://www.w3.org/2000/svg\" height=\"24px\"viewBox=\"0 0 24 24\"\n",
              "       width=\"24px\">\n",
              "    <path d=\"M0 0h24v24H0V0z\" fill=\"none\"/>\n",
              "    <path d=\"M18.56 5.44l.94 2.06.94-2.06 2.06-.94-2.06-.94-.94-2.06-.94 2.06-2.06.94zm-11 1L8.5 8.5l.94-2.06 2.06-.94-2.06-.94L8.5 2.5l-.94 2.06-2.06.94zm10 10l.94 2.06.94-2.06 2.06-.94-2.06-.94-.94-2.06-.94 2.06-2.06.94z\"/><path d=\"M17.41 7.96l-1.37-1.37c-.4-.4-.92-.59-1.43-.59-.52 0-1.04.2-1.43.59L10.3 9.45l-7.72 7.72c-.78.78-.78 2.05 0 2.83L4 21.41c.39.39.9.59 1.41.59.51 0 1.02-.2 1.41-.59l7.78-7.78 2.81-2.81c.8-.78.8-2.07 0-2.86zM5.41 20L4 18.59l7.72-7.72 1.47 1.35L5.41 20z\"/>\n",
              "  </svg>\n",
              "      </button>\n",
              "      \n",
              "  <style>\n",
              "    .colab-df-container {\n",
              "      display:flex;\n",
              "      flex-wrap:wrap;\n",
              "      gap: 12px;\n",
              "    }\n",
              "\n",
              "    .colab-df-convert {\n",
              "      background-color: #E8F0FE;\n",
              "      border: none;\n",
              "      border-radius: 50%;\n",
              "      cursor: pointer;\n",
              "      display: none;\n",
              "      fill: #1967D2;\n",
              "      height: 32px;\n",
              "      padding: 0 0 0 0;\n",
              "      width: 32px;\n",
              "    }\n",
              "\n",
              "    .colab-df-convert:hover {\n",
              "      background-color: #E2EBFA;\n",
              "      box-shadow: 0px 1px 2px rgba(60, 64, 67, 0.3), 0px 1px 3px 1px rgba(60, 64, 67, 0.15);\n",
              "      fill: #174EA6;\n",
              "    }\n",
              "\n",
              "    [theme=dark] .colab-df-convert {\n",
              "      background-color: #3B4455;\n",
              "      fill: #D2E3FC;\n",
              "    }\n",
              "\n",
              "    [theme=dark] .colab-df-convert:hover {\n",
              "      background-color: #434B5C;\n",
              "      box-shadow: 0px 1px 3px 1px rgba(0, 0, 0, 0.15);\n",
              "      filter: drop-shadow(0px 1px 2px rgba(0, 0, 0, 0.3));\n",
              "      fill: #FFFFFF;\n",
              "    }\n",
              "  </style>\n",
              "\n",
              "      <script>\n",
              "        const buttonEl =\n",
              "          document.querySelector('#df-dbedb05a-0ce3-41c9-89f2-8e0ab64165e1 button.colab-df-convert');\n",
              "        buttonEl.style.display =\n",
              "          google.colab.kernel.accessAllowed ? 'block' : 'none';\n",
              "\n",
              "        async function convertToInteractive(key) {\n",
              "          const element = document.querySelector('#df-dbedb05a-0ce3-41c9-89f2-8e0ab64165e1');\n",
              "          const dataTable =\n",
              "            await google.colab.kernel.invokeFunction('convertToInteractive',\n",
              "                                                     [key], {});\n",
              "          if (!dataTable) return;\n",
              "\n",
              "          const docLinkHtml = 'Like what you see? Visit the ' +\n",
              "            '<a target=\"_blank\" href=https://colab.research.google.com/notebooks/data_table.ipynb>data table notebook</a>'\n",
              "            + ' to learn more about interactive tables.';\n",
              "          element.innerHTML = '';\n",
              "          dataTable['output_type'] = 'display_data';\n",
              "          await google.colab.output.renderOutput(dataTable, element);\n",
              "          const docLink = document.createElement('div');\n",
              "          docLink.innerHTML = docLinkHtml;\n",
              "          element.appendChild(docLink);\n",
              "        }\n",
              "      </script>\n",
              "    </div>\n",
              "  </div>\n",
              "  "
            ],
            "text/plain": [
              "                  App\n",
              "Content Rating       \n",
              "Adults only 18+     3\n",
              "Everyone         7420\n",
              "Everyone 10+      397\n",
              "Mature 17+        461\n",
              "Teen             1084\n",
              "Unrated             1"
            ]
          },
          "metadata": {},
          "execution_count": 39
        }
      ]
    },
    {
      "cell_type": "code",
      "source": [
        "content_rating_lst = data_.index.tolist()\n"
      ],
      "metadata": {
        "id": "2gfWtCrYTXti"
      },
      "execution_count": 40,
      "outputs": []
    },
    {
      "cell_type": "code",
      "source": [
        "data_list = data_[\"App\"].tolist()"
      ],
      "metadata": {
        "id": "EJGnmmzJPqcf"
      },
      "execution_count": 41,
      "outputs": []
    },
    {
      "cell_type": "code",
      "source": [
        "#Create a pie chat\n",
        "def func(pct, allvalues):\n",
        "    '''A function to calculate the percent'''\n",
        "    absolute = int(pct / 100.*np.sum(allvalues))\n",
        "    return \"{:.1f}\".format(pct, absolute)\n",
        "\n",
        "fig, ax = plt.subplots(figsize =(10, 7))\n",
        "wedges, texts, autotexts = ax.pie(data_list,\n",
        "                                  autopct = lambda pct: func(pct, data_list), labels = content_rating_lst)\n",
        "#Title\n",
        "ax.set_title(\"Percentage of Apps to the content rating of App\")\n",
        "\n",
        "#X and Y axis labeling\n",
        "# ax.set_xlabel(\"Category of app\")\n",
        "# ax.set_ylabel(\"Average Rating\")"
      ],
      "metadata": {
        "colab": {
          "base_uri": "https://localhost:8080/",
          "height": 444
        },
        "id": "TGXMM3XR9kxD",
        "outputId": "56f3fa20-3dde-49a6-ca0c-fea3637f30f3"
      },
      "execution_count": 42,
      "outputs": [
        {
          "output_type": "execute_result",
          "data": {
            "text/plain": [
              "Text(0.5, 1.0, 'Percentage of Apps to the content rating of App')"
            ]
          },
          "metadata": {},
          "execution_count": 42
        },
        {
          "output_type": "display_data",
          "data": {
            "image/png": "[encoded data removed]",
            "text/plain": [
              "<Figure size 720x504 with 1 Axes>"
            ]
          },
          "metadata": {}
        }
      ]
    },
    {
      "cell_type": "markdown",
      "source": [
        "#Conclusion : Most of the apps belong to \"Everyone\" content rating. Very few app belong to 'Adult only 18+' and 'Unrate'(overlaped each other). \"Teen\" rating also contains good amount of"
      ],
      "metadata": {
        "id": "4RnSAiEMYt51"
      }
    },
    {
      "cell_type": "markdown",
      "source": [
        "# Draw a pie chat for the number of apps that are installed by more than 10k users. "
      ],
      "metadata": {
        "id": "qWRF5ln81nAZ"
      }
    },
    {
      "cell_type": "code",
      "source": [
        "#Collect data\n",
        "installs_data =new_play_df.groupby([\"Installs\"])[\"App\"].count()"
      ],
      "metadata": {
        "id": "F-Rwq0OsA6gu"
      },
      "execution_count": 43,
      "outputs": []
    },
    {
      "cell_type": "code",
      "source": [
        "#Create Data frame\n",
        "installs_df = pd.DataFrame(installs_data)"
      ],
      "metadata": {
        "id": "VYx32J9QZXTp"
      },
      "execution_count": 44,
      "outputs": []
    },
    {
      "cell_type": "code",
      "source": [
        "installs_df"
      ],
      "metadata": {
        "colab": {
          "base_uri": "https://localhost:8080/",
          "height": 676
        },
        "id": "8p418Fpzc42G",
        "outputId": "af13284d-cc75-4f97-c4f4-add0f2e5f58c"
      },
      "execution_count": 45,
      "outputs": [
        {
          "output_type": "execute_result",
          "data": {
            "text/html": [
              "\n",
              "  <div id=\"df-c15c8e31-53ae-4f81-86b6-92107ebd4907\">\n",
              "    <div class=\"colab-df-container\">\n",
              "      <div>\n",
              "<style scoped>\n",
              "    .dataframe tbody tr th:only-of-type {\n",
              "        vertical-align: middle;\n",
              "    }\n",
              "\n",
              "    .dataframe tbody tr th {\n",
              "        vertical-align: top;\n",
              "    }\n",
              "\n",
              "    .dataframe thead th {\n",
              "        text-align: right;\n",
              "    }\n",
              "</style>\n",
              "<table border=\"1\" class=\"dataframe\">\n",
              "  <thead>\n",
              "    <tr style=\"text-align: right;\">\n",
              "      <th></th>\n",
              "      <th>App</th>\n",
              "    </tr>\n",
              "    <tr>\n",
              "      <th>Installs</th>\n",
              "      <th></th>\n",
              "    </tr>\n",
              "  </thead>\n",
              "  <tbody>\n",
              "    <tr>\n",
              "      <th>1+</th>\n",
              "      <td>3</td>\n",
              "    </tr>\n",
              "    <tr>\n",
              "      <th>1,000+</th>\n",
              "      <td>713</td>\n",
              "    </tr>\n",
              "    <tr>\n",
              "      <th>1,000,000+</th>\n",
              "      <td>1577</td>\n",
              "    </tr>\n",
              "    <tr>\n",
              "      <th>1,000,000,000+</th>\n",
              "      <td>58</td>\n",
              "    </tr>\n",
              "    <tr>\n",
              "      <th>10+</th>\n",
              "      <td>69</td>\n",
              "    </tr>\n",
              "    <tr>\n",
              "      <th>10,000+</th>\n",
              "      <td>1010</td>\n",
              "    </tr>\n",
              "    <tr>\n",
              "      <th>10,000,000+</th>\n",
              "      <td>1252</td>\n",
              "    </tr>\n",
              "    <tr>\n",
              "      <th>100+</th>\n",
              "      <td>309</td>\n",
              "    </tr>\n",
              "    <tr>\n",
              "      <th>100,000+</th>\n",
              "      <td>1150</td>\n",
              "    </tr>\n",
              "    <tr>\n",
              "      <th>100,000,000+</th>\n",
              "      <td>409</td>\n",
              "    </tr>\n",
              "    <tr>\n",
              "      <th>5+</th>\n",
              "      <td>9</td>\n",
              "    </tr>\n",
              "    <tr>\n",
              "      <th>5,000+</th>\n",
              "      <td>432</td>\n",
              "    </tr>\n",
              "    <tr>\n",
              "      <th>5,000,000+</th>\n",
              "      <td>752</td>\n",
              "    </tr>\n",
              "    <tr>\n",
              "      <th>50+</th>\n",
              "      <td>56</td>\n",
              "    </tr>\n",
              "    <tr>\n",
              "      <th>50,000+</th>\n",
              "      <td>467</td>\n",
              "    </tr>\n",
              "    <tr>\n",
              "      <th>50,000,000+</th>\n",
              "      <td>289</td>\n",
              "    </tr>\n",
              "    <tr>\n",
              "      <th>500+</th>\n",
              "      <td>201</td>\n",
              "    </tr>\n",
              "    <tr>\n",
              "      <th>500,000+</th>\n",
              "      <td>538</td>\n",
              "    </tr>\n",
              "    <tr>\n",
              "      <th>500,000,000+</th>\n",
              "      <td>72</td>\n",
              "    </tr>\n",
              "  </tbody>\n",
              "</table>\n",
              "</div>\n",
              "      <button class=\"colab-df-convert\" onclick=\"convertToInteractive('df-c15c8e31-53ae-4f81-86b6-92107ebd4907')\"\n",
              "              title=\"Convert this dataframe to an interactive table.\"\n",
              "              style=\"display:none;\">\n",
              "        \n",
              "  <svg xmlns=\"http://www.w3.org/2000/svg\" height=\"24px\"viewBox=\"0 0 24 24\"\n",
              "       width=\"24px\">\n",
              "    <path d=\"M0 0h24v24H0V0z\" fill=\"none\"/>\n",
              "    <path d=\"M18.56 5.44l.94 2.06.94-2.06 2.06-.94-2.06-.94-.94-2.06-.94 2.06-2.06.94zm-11 1L8.5 8.5l.94-2.06 2.06-.94-2.06-.94L8.5 2.5l-.94 2.06-2.06.94zm10 10l.94 2.06.94-2.06 2.06-.94-2.06-.94-.94-2.06-.94 2.06-2.06.94z\"/><path d=\"M17.41 7.96l-1.37-1.37c-.4-.4-.92-.59-1.43-.59-.52 0-1.04.2-1.43.59L10.3 9.45l-7.72 7.72c-.78.78-.78 2.05 0 2.83L4 21.41c.39.39.9.59 1.41.59.51 0 1.02-.2 1.41-.59l7.78-7.78 2.81-2.81c.8-.78.8-2.07 0-2.86zM5.41 20L4 18.59l7.72-7.72 1.47 1.35L5.41 20z\"/>\n",
              "  </svg>\n",
              "      </button>\n",
              "      \n",
              "  <style>\n",
              "    .colab-df-container {\n",
              "      display:flex;\n",
              "      flex-wrap:wrap;\n",
              "      gap: 12px;\n",
              "    }\n",
              "\n",
              "    .colab-df-convert {\n",
              "      background-color: #E8F0FE;\n",
              "      border: none;\n",
              "      border-radius: 50%;\n",
              "      cursor: pointer;\n",
              "      display: none;\n",
              "      fill: #1967D2;\n",
              "      height: 32px;\n",
              "      padding: 0 0 0 0;\n",
              "      width: 32px;\n",
              "    }\n",
              "\n",
              "    .colab-df-convert:hover {\n",
              "      background-color: #E2EBFA;\n",
              "      box-shadow: 0px 1px 2px rgba(60, 64, 67, 0.3), 0px 1px 3px 1px rgba(60, 64, 67, 0.15);\n",
              "      fill: #174EA6;\n",
              "    }\n",
              "\n",
              "    [theme=dark] .colab-df-convert {\n",
              "      background-color: #3B4455;\n",
              "      fill: #D2E3FC;\n",
              "    }\n",
              "\n",
              "    [theme=dark] .colab-df-convert:hover {\n",
              "      background-color: #434B5C;\n",
              "      box-shadow: 0px 1px 3px 1px rgba(0, 0, 0, 0.15);\n",
              "      filter: drop-shadow(0px 1px 2px rgba(0, 0, 0, 0.3));\n",
              "      fill: #FFFFFF;\n",
              "    }\n",
              "  </style>\n",
              "\n",
              "      <script>\n",
              "        const buttonEl =\n",
              "          document.querySelector('#df-c15c8e31-53ae-4f81-86b6-92107ebd4907 button.colab-df-convert');\n",
              "        buttonEl.style.display =\n",
              "          google.colab.kernel.accessAllowed ? 'block' : 'none';\n",
              "\n",
              "        async function convertToInteractive(key) {\n",
              "          const element = document.querySelector('#df-c15c8e31-53ae-4f81-86b6-92107ebd4907');\n",
              "          const dataTable =\n",
              "            await google.colab.kernel.invokeFunction('convertToInteractive',\n",
              "                                                     [key], {});\n",
              "          if (!dataTable) return;\n",
              "\n",
              "          const docLinkHtml = 'Like what you see? Visit the ' +\n",
              "            '<a target=\"_blank\" href=https://colab.research.google.com/notebooks/data_table.ipynb>data table notebook</a>'\n",
              "            + ' to learn more about interactive tables.';\n",
              "          element.innerHTML = '';\n",
              "          dataTable['output_type'] = 'display_data';\n",
              "          await google.colab.output.renderOutput(dataTable, element);\n",
              "          const docLink = document.createElement('div');\n",
              "          docLink.innerHTML = docLinkHtml;\n",
              "          element.appendChild(docLink);\n",
              "        }\n",
              "      </script>\n",
              "    </div>\n",
              "  </div>\n",
              "  "
            ],
            "text/plain": [
              "                 App\n",
              "Installs            \n",
              "1+                 3\n",
              "1,000+           713\n",
              "1,000,000+      1577\n",
              "1,000,000,000+    58\n",
              "10+               69\n",
              "10,000+         1010\n",
              "10,000,000+     1252\n",
              "100+             309\n",
              "100,000+        1150\n",
              "100,000,000+     409\n",
              "5+                 9\n",
              "5,000+           432\n",
              "5,000,000+       752\n",
              "50+               56\n",
              "50,000+          467\n",
              "50,000,000+      289\n",
              "500+             201\n",
              "500,000+         538\n",
              "500,000,000+      72"
            ]
          },
          "metadata": {},
          "execution_count": 45
        }
      ]
    },
    {
      "cell_type": "code",
      "source": [
        "install_list =installs_df.index.tolist()"
      ],
      "metadata": {
        "id": "H_Sg-loIZ7Ft"
      },
      "execution_count": 46,
      "outputs": []
    },
    {
      "cell_type": "code",
      "source": [
        "# Convert string dtype in installs column to float dtype to collect all the values that are greater 10k, i.e., installs by more than 10k users.\n",
        "install_list_int = []\n",
        "for str in install_list:\n",
        "\n",
        "  str1 = str[:-1].replace(\",\", \"\")\n",
        "  str2 = float(str1)\n",
        "  install_list_int.append(str2)"
      ],
      "metadata": {
        "id": "QY0dZByJaEuV"
      },
      "execution_count": 47,
      "outputs": []
    },
    {
      "cell_type": "code",
      "source": [
        "installs_df[\"number_of_install_int\"] = install_list_int"
      ],
      "metadata": {
        "id": "Q2yVmRAmdGQL"
      },
      "execution_count": 48,
      "outputs": []
    },
    {
      "cell_type": "code",
      "source": [
        "df = installs_df[installs_df[\"number_of_install_int\"]>10_000]\n"
      ],
      "metadata": {
        "id": "diruTNC-ayNo"
      },
      "execution_count": 49,
      "outputs": []
    },
    {
      "cell_type": "code",
      "source": [
        "df"
      ],
      "metadata": {
        "colab": {
          "base_uri": "https://localhost:8080/",
          "height": 394
        },
        "id": "jGLDHsIneBYH",
        "outputId": "50fa4adf-d811-480f-e2fa-8bdf1e308278"
      },
      "execution_count": 50,
      "outputs": [
        {
          "output_type": "execute_result",
          "data": {
            "text/html": [
              "\n",
              "  <div id=\"df-7c540792-c7be-4df5-85cd-de828acdc403\">\n",
              "    <div class=\"colab-df-container\">\n",
              "      <div>\n",
              "<style scoped>\n",
              "    .dataframe tbody tr th:only-of-type {\n",
              "        vertical-align: middle;\n",
              "    }\n",
              "\n",
              "    .dataframe tbody tr th {\n",
              "        vertical-align: top;\n",
              "    }\n",
              "\n",
              "    .dataframe thead th {\n",
              "        text-align: right;\n",
              "    }\n",
              "</style>\n",
              "<table border=\"1\" class=\"dataframe\">\n",
              "  <thead>\n",
              "    <tr style=\"text-align: right;\">\n",
              "      <th></th>\n",
              "      <th>App</th>\n",
              "      <th>number_of_install_int</th>\n",
              "    </tr>\n",
              "    <tr>\n",
              "      <th>Installs</th>\n",
              "      <th></th>\n",
              "      <th></th>\n",
              "    </tr>\n",
              "  </thead>\n",
              "  <tbody>\n",
              "    <tr>\n",
              "      <th>1,000,000+</th>\n",
              "      <td>1577</td>\n",
              "      <td>1.000000e+06</td>\n",
              "    </tr>\n",
              "    <tr>\n",
              "      <th>1,000,000,000+</th>\n",
              "      <td>58</td>\n",
              "      <td>1.000000e+09</td>\n",
              "    </tr>\n",
              "    <tr>\n",
              "      <th>10,000,000+</th>\n",
              "      <td>1252</td>\n",
              "      <td>1.000000e+07</td>\n",
              "    </tr>\n",
              "    <tr>\n",
              "      <th>100,000+</th>\n",
              "      <td>1150</td>\n",
              "      <td>1.000000e+05</td>\n",
              "    </tr>\n",
              "    <tr>\n",
              "      <th>100,000,000+</th>\n",
              "      <td>409</td>\n",
              "      <td>1.000000e+08</td>\n",
              "    </tr>\n",
              "    <tr>\n",
              "      <th>5,000,000+</th>\n",
              "      <td>752</td>\n",
              "      <td>5.000000e+06</td>\n",
              "    </tr>\n",
              "    <tr>\n",
              "      <th>50,000+</th>\n",
              "      <td>467</td>\n",
              "      <td>5.000000e+04</td>\n",
              "    </tr>\n",
              "    <tr>\n",
              "      <th>50,000,000+</th>\n",
              "      <td>289</td>\n",
              "      <td>5.000000e+07</td>\n",
              "    </tr>\n",
              "    <tr>\n",
              "      <th>500,000+</th>\n",
              "      <td>538</td>\n",
              "      <td>5.000000e+05</td>\n",
              "    </tr>\n",
              "    <tr>\n",
              "      <th>500,000,000+</th>\n",
              "      <td>72</td>\n",
              "      <td>5.000000e+08</td>\n",
              "    </tr>\n",
              "  </tbody>\n",
              "</table>\n",
              "</div>\n",
              "      <button class=\"colab-df-convert\" onclick=\"convertToInteractive('df-7c540792-c7be-4df5-85cd-de828acdc403')\"\n",
              "              title=\"Convert this dataframe to an interactive table.\"\n",
              "              style=\"display:none;\">\n",
              "        \n",
              "  <svg xmlns=\"http://www.w3.org/2000/svg\" height=\"24px\"viewBox=\"0 0 24 24\"\n",
              "       width=\"24px\">\n",
              "    <path d=\"M0 0h24v24H0V0z\" fill=\"none\"/>\n",
              "    <path d=\"M18.56 5.44l.94 2.06.94-2.06 2.06-.94-2.06-.94-.94-2.06-.94 2.06-2.06.94zm-11 1L8.5 8.5l.94-2.06 2.06-.94-2.06-.94L8.5 2.5l-.94 2.06-2.06.94zm10 10l.94 2.06.94-2.06 2.06-.94-2.06-.94-.94-2.06-.94 2.06-2.06.94z\"/><path d=\"M17.41 7.96l-1.37-1.37c-.4-.4-.92-.59-1.43-.59-.52 0-1.04.2-1.43.59L10.3 9.45l-7.72 7.72c-.78.78-.78 2.05 0 2.83L4 21.41c.39.39.9.59 1.41.59.51 0 1.02-.2 1.41-.59l7.78-7.78 2.81-2.81c.8-.78.8-2.07 0-2.86zM5.41 20L4 18.59l7.72-7.72 1.47 1.35L5.41 20z\"/>\n",
              "  </svg>\n",
              "      </button>\n",
              "      \n",
              "  <style>\n",
              "    .colab-df-container {\n",
              "      display:flex;\n",
              "      flex-wrap:wrap;\n",
              "      gap: 12px;\n",
              "    }\n",
              "\n",
              "    .colab-df-convert {\n",
              "      background-color: #E8F0FE;\n",
              "      border: none;\n",
              "      border-radius: 50%;\n",
              "      cursor: pointer;\n",
              "      display: none;\n",
              "      fill: #1967D2;\n",
              "      height: 32px;\n",
              "      padding: 0 0 0 0;\n",
              "      width: 32px;\n",
              "    }\n",
              "\n",
              "    .colab-df-convert:hover {\n",
              "      background-color: #E2EBFA;\n",
              "      box-shadow: 0px 1px 2px rgba(60, 64, 67, 0.3), 0px 1px 3px 1px rgba(60, 64, 67, 0.15);\n",
              "      fill: #174EA6;\n",
              "    }\n",
              "\n",
              "    [theme=dark] .colab-df-convert {\n",
              "      background-color: #3B4455;\n",
              "      fill: #D2E3FC;\n",
              "    }\n",
              "\n",
              "    [theme=dark] .colab-df-convert:hover {\n",
              "      background-color: #434B5C;\n",
              "      box-shadow: 0px 1px 3px 1px rgba(0, 0, 0, 0.15);\n",
              "      filter: drop-shadow(0px 1px 2px rgba(0, 0, 0, 0.3));\n",
              "      fill: #FFFFFF;\n",
              "    }\n",
              "  </style>\n",
              "\n",
              "      <script>\n",
              "        const buttonEl =\n",
              "          document.querySelector('#df-7c540792-c7be-4df5-85cd-de828acdc403 button.colab-df-convert');\n",
              "        buttonEl.style.display =\n",
              "          google.colab.kernel.accessAllowed ? 'block' : 'none';\n",
              "\n",
              "        async function convertToInteractive(key) {\n",
              "          const element = document.querySelector('#df-7c540792-c7be-4df5-85cd-de828acdc403');\n",
              "          const dataTable =\n",
              "            await google.colab.kernel.invokeFunction('convertToInteractive',\n",
              "                                                     [key], {});\n",
              "          if (!dataTable) return;\n",
              "\n",
              "          const docLinkHtml = 'Like what you see? Visit the ' +\n",
              "            '<a target=\"_blank\" href=https://colab.research.google.com/notebooks/data_table.ipynb>data table notebook</a>'\n",
              "            + ' to learn more about interactive tables.';\n",
              "          element.innerHTML = '';\n",
              "          dataTable['output_type'] = 'display_data';\n",
              "          await google.colab.output.renderOutput(dataTable, element);\n",
              "          const docLink = document.createElement('div');\n",
              "          docLink.innerHTML = docLinkHtml;\n",
              "          element.appendChild(docLink);\n",
              "        }\n",
              "      </script>\n",
              "    </div>\n",
              "  </div>\n",
              "  "
            ],
            "text/plain": [
              "                 App  number_of_install_int\n",
              "Installs                                   \n",
              "1,000,000+      1577           1.000000e+06\n",
              "1,000,000,000+    58           1.000000e+09\n",
              "10,000,000+     1252           1.000000e+07\n",
              "100,000+        1150           1.000000e+05\n",
              "100,000,000+     409           1.000000e+08\n",
              "5,000,000+       752           5.000000e+06\n",
              "50,000+          467           5.000000e+04\n",
              "50,000,000+      289           5.000000e+07\n",
              "500,000+         538           5.000000e+05\n",
              "500,000,000+      72           5.000000e+08"
            ]
          },
          "metadata": {},
          "execution_count": 50
        }
      ]
    },
    {
      "cell_type": "code",
      "source": [
        "app_list = df['App'].tolist()"
      ],
      "metadata": {
        "id": "HBpOFND8eD-f"
      },
      "execution_count": 51,
      "outputs": []
    },
    {
      "cell_type": "code",
      "source": [
        "number_of_install_int_list = df['number_of_install_int'].tolist()"
      ],
      "metadata": {
        "id": "fA83S-poeOA4"
      },
      "execution_count": 52,
      "outputs": []
    },
    {
      "cell_type": "code",
      "source": [
        "#Create a pie chat\n",
        "def func(pct, allvalues):\n",
        "    '''A function to calculate the percent'''\n",
        "    absolute = int(pct / 100.*np.sum(allvalues))\n",
        "    return \"{:.1f}\".format(pct, absolute)\n",
        "\n",
        "fig, ax = plt.subplots(figsize =(10, 7))\n",
        "wedges, texts, autotexts = ax.pie(app_list,\n",
        "                                  autopct = lambda pct: func(pct, app_list), labels = number_of_install_int_list)\n",
        "#Title\n",
        "ax.set_title(\"Percentage of Apps to the number of install+\")\n"
      ],
      "metadata": {
        "colab": {
          "base_uri": "https://localhost:8080/",
          "height": 444
        },
        "id": "5o9KeVXszIZK",
        "outputId": "cbb52940-2ccc-4cea-e20b-bd2e2f5af70a"
      },
      "execution_count": 53,
      "outputs": [
        {
          "output_type": "execute_result",
          "data": {
            "text/plain": [
              "Text(0.5, 1.0, 'Percentage of Apps to the number of install+')"
            ]
          },
          "metadata": {},
          "execution_count": 53
        },
        {
          "output_type": "display_data",
          "data": {
            "image/png": "[encoded data removed]",
            "text/plain": [
              "<Figure size 720x504 with 1 Axes>"
            ]
          },
          "metadata": {}
        }
      ]
    },
    {
      "cell_type": "code",
      "source": [
        "for number in [1e4, 1e6, 1e8]:\n",
        "  df = installs_df[installs_df[\"number_of_install_int\"]>number]\n",
        "  app_list = df['App'].tolist()\n",
        "  number_of_install_int_list = df['number_of_install_int'].tolist()\n",
        "  fig, ax = plt.subplots(figsize =(10, 7))\n",
        "  wedges, texts, autotexts = ax.pie(app_list, \n",
        "                                    autopct = lambda pct: func(pct, app_list), labels = number_of_install_int_list)\n",
        "  ax.set_title(f\"Percentage of Apps to the number of install>{numerize.numerize(number)}\")\n",
        "\n",
        "\n"
      ],
      "metadata": {
        "colab": {
          "base_uri": "https://localhost:8080/",
          "height": 1000
        },
        "id": "ZnTZtHzZzRRE",
        "outputId": "64b1a189-e985-4516-aa12-361ce43cd58a"
      },
      "execution_count": 54,
      "outputs": [
        {
          "output_type": "display_data",
          "data": {
            "image/png": "[encoded data removed]",
            "text/plain": [
              "<Figure size 720x504 with 1 Axes>"
            ]
          },
          "metadata": {}
        },
        {
          "output_type": "display_data",
          "data": {
            "image/png": "[encoded data removed]",
            "text/plain": [
              "<Figure size 720x504 with 1 Axes>"
            ]
          },
          "metadata": {}
        },
        {
          "output_type": "display_data",
          "data": {
            "image/png": "[encoded data removed]",
            "text/plain": [
              "<Figure size 720x504 with 1 Axes>"
            ]
          },
          "metadata": {}
        }
      ]
    },
    {
      "cell_type": "markdown",
      "source": [
        "#19.1 % apps in the list of app are installed by $10^7$ users. 17.5% apps are installs by $10^5$ users. We can see in the pie chart app which are installs for more than $10^9$ and $5*10^8$ are less in number.  "
      ],
      "metadata": {
        "id": "QUWuN4lFzlSL"
      }
    },
    {
      "cell_type": "markdown",
      "source": [
        "#From the above two graph we can conclude that most of the apps are available for \"Everyone\" and are downloaded by more than 10 lakhs users."
      ],
      "metadata": {
        "id": "XsCtXuZr1NRO"
      }
    },
    {
      "cell_type": "code",
      "source": [
        ""
      ],
      "metadata": {
        "id": "bFid4Hpj3qXM"
      },
      "execution_count": 54,
      "outputs": []
    }
  ]
}