{
  "cells": [
    {
      "cell_type": "markdown",
      "source": [
        "# Import library and mount data from drive."
      ],
      "metadata": {
        "id": "oRoYk0N4GdpX"
      },
      "id": "oRoYk0N4GdpX"
    },
    {
      "cell_type": "code",
      "execution_count": null,
      "id": "db165218",
      "metadata": {
        "id": "db165218"
      },
      "outputs": [],
      "source": [
        "import pandas as pd\n",
        "import numpy as np\n",
        "import seaborn as sns\n",
        "import matplotlib.pyplot as plt\n",
        "\n",
        "\n",
        "from sklearn.model_selection import train_test_split,cross_val_score,KFold\n",
        "from sklearn.metrics import accuracy_score\n",
        "from sklearn.metrics import classification_report\n",
        "from sklearn.metrics import confusion_matrix\n",
        "# from sklearn.metrics import plot_confusion_matrix,roc_auc_score\n",
        "# from sklearn.metrics import plot_confusion_matrix,roc_auc_score\n",
        "# import scikitplot as skplt\n",
        "from sklearn.metrics import roc_auc_score\n",
        "from sklearn.metrics import roc_curve\n",
        "from sklearn.preprocessing import StandardScaler\n",
        "from sklearn.linear_model import LogisticRegression\n",
        "from sklearn.tree import DecisionTreeClassifier\n",
        "from sklearn.ensemble import RandomForestClassifier\n",
        "from sklearn.neighbors import KNeighborsClassifier\n",
        "from xgboost import XGBClassifier\n",
        "\n",
        "\n",
        "\n",
        "from statsmodels.stats.outliers_influence import variance_inflation_factor\n",
        "from sklearn.preprocessing import StandardScaler\n",
        "# import datetime as dt\n",
        "# from geopy.distance import great_circle"
      ]
    },
    {
      "cell_type": "code",
      "source": [
        "from google.colab import drive\n",
        "drive.mount('/content/drive')"
      ],
      "metadata": {
        "colab": {
          "base_uri": "https://localhost:8080/"
        },
        "id": "4qcygXv3x6Mu",
        "outputId": "574b70f1-463a-45ff-b8ce-69aae0b50e67"
      },
      "id": "4qcygXv3x6Mu",
      "execution_count": null,
      "outputs": [
        {
          "output_type": "stream",
          "name": "stdout",
          "text": [
            "Mounted at /content/drive\n"
          ]
        }
      ]
    },
    {
      "cell_type": "markdown",
      "source": [
        "# Basic understanding of data."
      ],
      "metadata": {
        "id": "zib_-s3IGYSD"
      },
      "id": "zib_-s3IGYSD"
    },
    {
      "cell_type": "code",
      "execution_count": null,
      "id": "533af6aa",
      "metadata": {
        "id": "533af6aa"
      },
      "outputs": [],
      "source": [
        "df = pd.read_csv('/content/drive/MyDrive/Data/TRAIN-HEALTH INSURANCE CROSS SELL PREDICTION.csv')"
      ]
    },
    {
      "cell_type": "code",
      "execution_count": null,
      "id": "84a144a6",
      "metadata": {
        "colab": {
          "base_uri": "https://localhost:8080/",
          "height": 206
        },
        "id": "84a144a6",
        "outputId": "1fa6e8de-4da1-4385-a736-9e95d2263118"
      },
      "outputs": [
        {
          "output_type": "execute_result",
          "data": {
            "text/plain": [
              "   id  Gender  Age  Driving_License  Region_Code  Previously_Insured  \\\n",
              "0   1    Male   44                1         28.0                   0   \n",
              "1   2    Male   76                1          3.0                   0   \n",
              "2   3    Male   47                1         28.0                   0   \n",
              "3   4    Male   21                1         11.0                   1   \n",
              "4   5  Female   29                1         41.0                   1   \n",
              "\n",
              "  Vehicle_Age Vehicle_Damage  Annual_Premium  Policy_Sales_Channel  Vintage  \\\n",
              "0   > 2 Years            Yes         40454.0                  26.0      217   \n",
              "1    1-2 Year             No         33536.0                  26.0      183   \n",
              "2   > 2 Years            Yes         38294.0                  26.0       27   \n",
              "3    < 1 Year             No         28619.0                 152.0      203   \n",
              "4    < 1 Year             No         27496.0                 152.0       39   \n",
              "\n",
              "   Response  \n",
              "0         1  \n",
              "1         0  \n",
              "2         1  \n",
              "3         0  \n",
              "4         0  "
            ],
            "text/html": [
              "\n",
              "  <div id=\"df-b06c79d6-ddd6-403c-9d36-87f02cf579ec\">\n",
              "    <div class=\"colab-df-container\">\n",
              "      <div>\n",
              "<style scoped>\n",
              "    .dataframe tbody tr th:only-of-type {\n",
              "        vertical-align: middle;\n",
              "    }\n",
              "\n",
              "    .dataframe tbody tr th {\n",
              "        vertical-align: top;\n",
              "    }\n",
              "\n",
              "    .dataframe thead th {\n",
              "        text-align: right;\n",
              "    }\n",
              "</style>\n",
              "<table border=\"1\" class=\"dataframe\">\n",
              "  <thead>\n",
              "    <tr style=\"text-align: right;\">\n",
              "      <th></th>\n",
              "      <th>id</th>\n",
              "      <th>Gender</th>\n",
              "      <th>Age</th>\n",
              "      <th>Driving_License</th>\n",
              "      <th>Region_Code</th>\n",
              "      <th>Previously_Insured</th>\n",
              "      <th>Vehicle_Age</th>\n",
              "      <th>Vehicle_Damage</th>\n",
              "      <th>Annual_Premium</th>\n",
              "      <th>Policy_Sales_Channel</th>\n",
              "      <th>Vintage</th>\n",
              "      <th>Response</th>\n",
              "    </tr>\n",
              "  </thead>\n",
              "  <tbody>\n",
              "    <tr>\n",
              "      <th>0</th>\n",
              "      <td>1</td>\n",
              "      <td>Male</td>\n",
              "      <td>44</td>\n",
              "      <td>1</td>\n",
              "      <td>28.0</td>\n",
              "      <td>0</td>\n",
              "      <td>&gt; 2 Years</td>\n",
              "      <td>Yes</td>\n",
              "      <td>40454.0</td>\n",
              "      <td>26.0</td>\n",
              "      <td>217</td>\n",
              "      <td>1</td>\n",
              "    </tr>\n",
              "    <tr>\n",
              "      <th>1</th>\n",
              "      <td>2</td>\n",
              "      <td>Male</td>\n",
              "      <td>76</td>\n",
              "      <td>1</td>\n",
              "      <td>3.0</td>\n",
              "      <td>0</td>\n",
              "      <td>1-2 Year</td>\n",
              "      <td>No</td>\n",
              "      <td>33536.0</td>\n",
              "      <td>26.0</td>\n",
              "      <td>183</td>\n",
              "      <td>0</td>\n",
              "    </tr>\n",
              "    <tr>\n",
              "      <th>2</th>\n",
              "      <td>3</td>\n",
              "      <td>Male</td>\n",
              "      <td>47</td>\n",
              "      <td>1</td>\n",
              "      <td>28.0</td>\n",
              "      <td>0</td>\n",
              "      <td>&gt; 2 Years</td>\n",
              "      <td>Yes</td>\n",
              "      <td>38294.0</td>\n",
              "      <td>26.0</td>\n",
              "      <td>27</td>\n",
              "      <td>1</td>\n",
              "    </tr>\n",
              "    <tr>\n",
              "      <th>3</th>\n",
              "      <td>4</td>\n",
              "      <td>Male</td>\n",
              "      <td>21</td>\n",
              "      <td>1</td>\n",
              "      <td>11.0</td>\n",
              "      <td>1</td>\n",
              "      <td>&lt; 1 Year</td>\n",
              "      <td>No</td>\n",
              "      <td>28619.0</td>\n",
              "      <td>152.0</td>\n",
              "      <td>203</td>\n",
              "      <td>0</td>\n",
              "    </tr>\n",
              "    <tr>\n",
              "      <th>4</th>\n",
              "      <td>5</td>\n",
              "      <td>Female</td>\n",
              "      <td>29</td>\n",
              "      <td>1</td>\n",
              "      <td>41.0</td>\n",
              "      <td>1</td>\n",
              "      <td>&lt; 1 Year</td>\n",
              "      <td>No</td>\n",
              "      <td>27496.0</td>\n",
              "      <td>152.0</td>\n",
              "      <td>39</td>\n",
              "      <td>0</td>\n",
              "    </tr>\n",
              "  </tbody>\n",
              "</table>\n",
              "</div>\n",
              "      <button class=\"colab-df-convert\" onclick=\"convertToInteractive('df-b06c79d6-ddd6-403c-9d36-87f02cf579ec')\"\n",
              "              title=\"Convert this dataframe to an interactive table.\"\n",
              "              style=\"display:none;\">\n",
              "        \n",
              "  <svg xmlns=\"http://www.w3.org/2000/svg\" height=\"24px\"viewBox=\"0 0 24 24\"\n",
              "       width=\"24px\">\n",
              "    <path d=\"M0 0h24v24H0V0z\" fill=\"none\"/>\n",
              "    <path d=\"M18.56 5.44l.94 2.06.94-2.06 2.06-.94-2.06-.94-.94-2.06-.94 2.06-2.06.94zm-11 1L8.5 8.5l.94-2.06 2.06-.94-2.06-.94L8.5 2.5l-.94 2.06-2.06.94zm10 10l.94 2.06.94-2.06 2.06-.94-2.06-.94-.94-2.06-.94 2.06-2.06.94z\"/><path d=\"M17.41 7.96l-1.37-1.37c-.4-.4-.92-.59-1.43-.59-.52 0-1.04.2-1.43.59L10.3 9.45l-7.72 7.72c-.78.78-.78 2.05 0 2.83L4 21.41c.39.39.9.59 1.41.59.51 0 1.02-.2 1.41-.59l7.78-7.78 2.81-2.81c.8-.78.8-2.07 0-2.86zM5.41 20L4 18.59l7.72-7.72 1.47 1.35L5.41 20z\"/>\n",
              "  </svg>\n",
              "      </button>\n",
              "      \n",
              "  <style>\n",
              "    .colab-df-container {\n",
              "      display:flex;\n",
              "      flex-wrap:wrap;\n",
              "      gap: 12px;\n",
              "    }\n",
              "\n",
              "    .colab-df-convert {\n",
              "      background-color: #E8F0FE;\n",
              "      border: none;\n",
              "      border-radius: 50%;\n",
              "      cursor: pointer;\n",
              "      display: none;\n",
              "      fill: #1967D2;\n",
              "      height: 32px;\n",
              "      padding: 0 0 0 0;\n",
              "      width: 32px;\n",
              "    }\n",
              "\n",
              "    .colab-df-convert:hover {\n",
              "      background-color: #E2EBFA;\n",
              "      box-shadow: 0px 1px 2px rgba(60, 64, 67, 0.3), 0px 1px 3px 1px rgba(60, 64, 67, 0.15);\n",
              "      fill: #174EA6;\n",
              "    }\n",
              "\n",
              "    [theme=dark] .colab-df-convert {\n",
              "      background-color: #3B4455;\n",
              "      fill: #D2E3FC;\n",
              "    }\n",
              "\n",
              "    [theme=dark] .colab-df-convert:hover {\n",
              "      background-color: #434B5C;\n",
              "      box-shadow: 0px 1px 3px 1px rgba(0, 0, 0, 0.15);\n",
              "      filter: drop-shadow(0px 1px 2px rgba(0, 0, 0, 0.3));\n",
              "      fill: #FFFFFF;\n",
              "    }\n",
              "  </style>\n",
              "\n",
              "      <script>\n",
              "        const buttonEl =\n",
              "          document.querySelector('#df-b06c79d6-ddd6-403c-9d36-87f02cf579ec button.colab-df-convert');\n",
              "        buttonEl.style.display =\n",
              "          google.colab.kernel.accessAllowed ? 'block' : 'none';\n",
              "\n",
              "        async function convertToInteractive(key) {\n",
              "          const element = document.querySelector('#df-b06c79d6-ddd6-403c-9d36-87f02cf579ec');\n",
              "          const dataTable =\n",
              "            await google.colab.kernel.invokeFunction('convertToInteractive',\n",
              "                                                     [key], {});\n",
              "          if (!dataTable) return;\n",
              "\n",
              "          const docLinkHtml = 'Like what you see? Visit the ' +\n",
              "            '<a target=\"_blank\" href=https://colab.research.google.com/notebooks/data_table.ipynb>data table notebook</a>'\n",
              "            + ' to learn more about interactive tables.';\n",
              "          element.innerHTML = '';\n",
              "          dataTable['output_type'] = 'display_data';\n",
              "          await google.colab.output.renderOutput(dataTable, element);\n",
              "          const docLink = document.createElement('div');\n",
              "          docLink.innerHTML = docLinkHtml;\n",
              "          element.appendChild(docLink);\n",
              "        }\n",
              "      </script>\n",
              "    </div>\n",
              "  </div>\n",
              "  "
            ]
          },
          "metadata": {},
          "execution_count": 4
        }
      ],
      "source": [
        "df.head()"
      ]
    },
    {
      "cell_type": "code",
      "execution_count": null,
      "id": "2f5c5057",
      "metadata": {
        "id": "2f5c5057",
        "outputId": "08e914f5-7bc2-4b52-fb02-954783ff6d01"
      },
      "outputs": [
        {
          "data": {
            "text/plain": [
              "(381109, 12)"
            ]
          },
          "execution_count": 6,
          "metadata": {},
          "output_type": "execute_result"
        }
      ],
      "source": [
        "df.shape"
      ]
    },
    {
      "cell_type": "code",
      "execution_count": null,
      "id": "c6fb6809",
      "metadata": {
        "id": "c6fb6809",
        "outputId": "28454b91-3f63-4ff7-f76f-34fae8e1345f"
      },
      "outputs": [
        {
          "data": {
            "text/html": [
              "<div>\n",
              "<style scoped>\n",
              "    .dataframe tbody tr th:only-of-type {\n",
              "        vertical-align: middle;\n",
              "    }\n",
              "\n",
              "    .dataframe tbody tr th {\n",
              "        vertical-align: top;\n",
              "    }\n",
              "\n",
              "    .dataframe thead th {\n",
              "        text-align: right;\n",
              "    }\n",
              "</style>\n",
              "<table border=\"1\" class=\"dataframe\">\n",
              "  <thead>\n",
              "    <tr style=\"text-align: right;\">\n",
              "      <th></th>\n",
              "      <th>id</th>\n",
              "      <th>Age</th>\n",
              "      <th>Driving_License</th>\n",
              "      <th>Region_Code</th>\n",
              "      <th>Previously_Insured</th>\n",
              "      <th>Annual_Premium</th>\n",
              "      <th>Policy_Sales_Channel</th>\n",
              "      <th>Vintage</th>\n",
              "      <th>Response</th>\n",
              "    </tr>\n",
              "  </thead>\n",
              "  <tbody>\n",
              "    <tr>\n",
              "      <th>count</th>\n",
              "      <td>381109.000000</td>\n",
              "      <td>381109.000000</td>\n",
              "      <td>381109.000000</td>\n",
              "      <td>381109.000000</td>\n",
              "      <td>381109.000000</td>\n",
              "      <td>381109.000000</td>\n",
              "      <td>381109.000000</td>\n",
              "      <td>381109.000000</td>\n",
              "      <td>381109.000000</td>\n",
              "    </tr>\n",
              "    <tr>\n",
              "      <th>mean</th>\n",
              "      <td>190555.000000</td>\n",
              "      <td>38.822584</td>\n",
              "      <td>0.997869</td>\n",
              "      <td>26.388807</td>\n",
              "      <td>0.458210</td>\n",
              "      <td>30564.389581</td>\n",
              "      <td>112.034295</td>\n",
              "      <td>154.347397</td>\n",
              "      <td>0.122563</td>\n",
              "    </tr>\n",
              "    <tr>\n",
              "      <th>std</th>\n",
              "      <td>110016.836208</td>\n",
              "      <td>15.511611</td>\n",
              "      <td>0.046110</td>\n",
              "      <td>13.229888</td>\n",
              "      <td>0.498251</td>\n",
              "      <td>17213.155057</td>\n",
              "      <td>54.203995</td>\n",
              "      <td>83.671304</td>\n",
              "      <td>0.327936</td>\n",
              "    </tr>\n",
              "    <tr>\n",
              "      <th>min</th>\n",
              "      <td>1.000000</td>\n",
              "      <td>20.000000</td>\n",
              "      <td>0.000000</td>\n",
              "      <td>0.000000</td>\n",
              "      <td>0.000000</td>\n",
              "      <td>2630.000000</td>\n",
              "      <td>1.000000</td>\n",
              "      <td>10.000000</td>\n",
              "      <td>0.000000</td>\n",
              "    </tr>\n",
              "    <tr>\n",
              "      <th>25%</th>\n",
              "      <td>95278.000000</td>\n",
              "      <td>25.000000</td>\n",
              "      <td>1.000000</td>\n",
              "      <td>15.000000</td>\n",
              "      <td>0.000000</td>\n",
              "      <td>24405.000000</td>\n",
              "      <td>29.000000</td>\n",
              "      <td>82.000000</td>\n",
              "      <td>0.000000</td>\n",
              "    </tr>\n",
              "    <tr>\n",
              "      <th>50%</th>\n",
              "      <td>190555.000000</td>\n",
              "      <td>36.000000</td>\n",
              "      <td>1.000000</td>\n",
              "      <td>28.000000</td>\n",
              "      <td>0.000000</td>\n",
              "      <td>31669.000000</td>\n",
              "      <td>133.000000</td>\n",
              "      <td>154.000000</td>\n",
              "      <td>0.000000</td>\n",
              "    </tr>\n",
              "    <tr>\n",
              "      <th>75%</th>\n",
              "      <td>285832.000000</td>\n",
              "      <td>49.000000</td>\n",
              "      <td>1.000000</td>\n",
              "      <td>35.000000</td>\n",
              "      <td>1.000000</td>\n",
              "      <td>39400.000000</td>\n",
              "      <td>152.000000</td>\n",
              "      <td>227.000000</td>\n",
              "      <td>0.000000</td>\n",
              "    </tr>\n",
              "    <tr>\n",
              "      <th>max</th>\n",
              "      <td>381109.000000</td>\n",
              "      <td>85.000000</td>\n",
              "      <td>1.000000</td>\n",
              "      <td>52.000000</td>\n",
              "      <td>1.000000</td>\n",
              "      <td>540165.000000</td>\n",
              "      <td>163.000000</td>\n",
              "      <td>299.000000</td>\n",
              "      <td>1.000000</td>\n",
              "    </tr>\n",
              "  </tbody>\n",
              "</table>\n",
              "</div>"
            ],
            "text/plain": [
              "                  id            Age  Driving_License    Region_Code  \\\n",
              "count  381109.000000  381109.000000    381109.000000  381109.000000   \n",
              "mean   190555.000000      38.822584         0.997869      26.388807   \n",
              "std    110016.836208      15.511611         0.046110      13.229888   \n",
              "min         1.000000      20.000000         0.000000       0.000000   \n",
              "25%     95278.000000      25.000000         1.000000      15.000000   \n",
              "50%    190555.000000      36.000000         1.000000      28.000000   \n",
              "75%    285832.000000      49.000000         1.000000      35.000000   \n",
              "max    381109.000000      85.000000         1.000000      52.000000   \n",
              "\n",
              "       Previously_Insured  Annual_Premium  Policy_Sales_Channel  \\\n",
              "count       381109.000000   381109.000000         381109.000000   \n",
              "mean             0.458210    30564.389581            112.034295   \n",
              "std              0.498251    17213.155057             54.203995   \n",
              "min              0.000000     2630.000000              1.000000   \n",
              "25%              0.000000    24405.000000             29.000000   \n",
              "50%              0.000000    31669.000000            133.000000   \n",
              "75%              1.000000    39400.000000            152.000000   \n",
              "max              1.000000   540165.000000            163.000000   \n",
              "\n",
              "             Vintage       Response  \n",
              "count  381109.000000  381109.000000  \n",
              "mean      154.347397       0.122563  \n",
              "std        83.671304       0.327936  \n",
              "min        10.000000       0.000000  \n",
              "25%        82.000000       0.000000  \n",
              "50%       154.000000       0.000000  \n",
              "75%       227.000000       0.000000  \n",
              "max       299.000000       1.000000  "
            ]
          },
          "execution_count": 9,
          "metadata": {},
          "output_type": "execute_result"
        }
      ],
      "source": [
        "df.describe()"
      ]
    },
    {
      "cell_type": "markdown",
      "id": "64fa3e81",
      "metadata": {
        "id": "64fa3e81"
      },
      "source": [
        "Vintage: All members are associated are less than 1 year. maximum is 299 days and minimum is 10 days.\n",
        "Age: Maximum age is 85."
      ]
    },
    {
      "cell_type": "code",
      "execution_count": null,
      "id": "c42790a4",
      "metadata": {
        "id": "c42790a4",
        "outputId": "692c3309-330c-4e19-ea51-38b54e74b357"
      },
      "outputs": [
        {
          "name": "stdout",
          "output_type": "stream",
          "text": [
            "<class 'pandas.core.frame.DataFrame'>\n",
            "RangeIndex: 381109 entries, 0 to 381108\n",
            "Data columns (total 12 columns):\n",
            " #   Column                Non-Null Count   Dtype  \n",
            "---  ------                --------------   -----  \n",
            " 0   id                    381109 non-null  int64  \n",
            " 1   Gender                381109 non-null  object \n",
            " 2   Age                   381109 non-null  int64  \n",
            " 3   Driving_License       381109 non-null  int64  \n",
            " 4   Region_Code           381109 non-null  float64\n",
            " 5   Previously_Insured    381109 non-null  int64  \n",
            " 6   Vehicle_Age           381109 non-null  object \n",
            " 7   Vehicle_Damage        381109 non-null  object \n",
            " 8   Annual_Premium        381109 non-null  float64\n",
            " 9   Policy_Sales_Channel  381109 non-null  float64\n",
            " 10  Vintage               381109 non-null  int64  \n",
            " 11  Response              381109 non-null  int64  \n",
            "dtypes: float64(3), int64(6), object(3)\n",
            "memory usage: 30.5+ MB\n"
          ]
        }
      ],
      "source": [
        "df.info()"
      ]
    },
    {
      "cell_type": "markdown",
      "id": "51df24c2",
      "metadata": {
        "id": "51df24c2"
      },
      "source": [
        "No null values"
      ]
    },
    {
      "cell_type": "code",
      "execution_count": null,
      "id": "cfa10b3f",
      "metadata": {
        "id": "cfa10b3f",
        "outputId": "9b55fe9a-8bab-48b5-ef3c-75a954cb1d05"
      },
      "outputs": [
        {
          "data": {
            "text/plain": [
              "Gender            object\n",
              "Vehicle_Age       object\n",
              "Vehicle_Damage    object\n",
              "dtype: object"
            ]
          },
          "execution_count": 8,
          "metadata": {},
          "output_type": "execute_result"
        }
      ],
      "source": [
        "df.dtypes[df.dtypes=='object']"
      ]
    },
    {
      "cell_type": "code",
      "execution_count": null,
      "id": "6eaa3e4f",
      "metadata": {
        "id": "6eaa3e4f"
      },
      "outputs": [],
      "source": [
        "df['Policy_Sales_Channel'].sort_values(ascending=False)"
      ]
    },
    {
      "cell_type": "code",
      "execution_count": null,
      "id": "b2ce556a",
      "metadata": {
        "id": "b2ce556a",
        "outputId": "ac446db9-fc5c-4ab1-e446-c237919fc024"
      },
      "outputs": [
        {
          "data": {
            "text/plain": [
              "array(['Yes', 'No'], dtype=object)"
            ]
          },
          "execution_count": 17,
          "metadata": {},
          "output_type": "execute_result"
        }
      ],
      "source": [
        "df['Vehicle_Damage'].unique()"
      ]
    },
    {
      "cell_type": "code",
      "execution_count": null,
      "id": "fbc0f679",
      "metadata": {
        "id": "fbc0f679"
      },
      "outputs": [],
      "source": [
        "df['Gender'] = df['Gender'].astype('category')"
      ]
    },
    {
      "cell_type": "code",
      "execution_count": null,
      "id": "8066a0fe",
      "metadata": {
        "id": "8066a0fe"
      },
      "outputs": [],
      "source": [
        "df['Vehicle_Age'] = df['Vehicle_Age'].astype('category')\n",
        "df['Vehicle_Damage'] = df['Vehicle_Damage'].astype('category')"
      ]
    },
    {
      "cell_type": "code",
      "execution_count": null,
      "id": "a3d2104e",
      "metadata": {
        "id": "a3d2104e",
        "outputId": "29fc42fd-58f3-4632-ae5e-8969754c9fdc"
      },
      "outputs": [
        {
          "name": "stdout",
          "output_type": "stream",
          "text": [
            "<class 'pandas.core.frame.DataFrame'>\n",
            "RangeIndex: 381109 entries, 0 to 381108\n",
            "Data columns (total 12 columns):\n",
            " #   Column                Non-Null Count   Dtype   \n",
            "---  ------                --------------   -----   \n",
            " 0   id                    381109 non-null  int64   \n",
            " 1   Gender                381109 non-null  category\n",
            " 2   Age                   381109 non-null  int64   \n",
            " 3   Driving_License       381109 non-null  int64   \n",
            " 4   Region_Code           381109 non-null  float64 \n",
            " 5   Previously_Insured    381109 non-null  int64   \n",
            " 6   Vehicle_Age           381109 non-null  category\n",
            " 7   Vehicle_Damage        381109 non-null  category\n",
            " 8   Annual_Premium        381109 non-null  float64 \n",
            " 9   Policy_Sales_Channel  381109 non-null  float64 \n",
            " 10  Vintage               381109 non-null  int64   \n",
            " 11  Response              381109 non-null  int64   \n",
            "dtypes: category(3), float64(3), int64(6)\n",
            "memory usage: 27.3 MB\n"
          ]
        }
      ],
      "source": [
        "df.info()"
      ]
    },
    {
      "cell_type": "markdown",
      "id": "68a2f90a",
      "metadata": {
        "id": "68a2f90a"
      },
      "source": [
        "# Univariate Analysis\n",
        "\n",
        "Let us see how gender is distributed "
      ]
    },
    {
      "cell_type": "code",
      "execution_count": null,
      "id": "784787d2",
      "metadata": {
        "id": "784787d2",
        "outputId": "efdfaac8-a700-486c-86aa-8c34ff7ec696"
      },
      "outputs": [
        {
          "data": {
            "text/plain": [
              "Male      206089\n",
              "Female    175020\n",
              "Name: Gender, dtype: int64"
            ]
          },
          "execution_count": 24,
          "metadata": {},
          "output_type": "execute_result"
        }
      ],
      "source": [
        "df['Gender'].value_counts()"
      ]
    },
    {
      "cell_type": "code",
      "execution_count": null,
      "id": "0d69b99d",
      "metadata": {
        "id": "0d69b99d",
        "outputId": "25a9459e-faaa-4f4b-d71e-c2ad7a0b795e"
      },
      "outputs": [
        {
          "data": {
            "text/plain": [
              "Male      0.540761\n",
              "Female    0.459239\n",
              "Name: Gender, dtype: float64"
            ]
          },
          "execution_count": 26,
          "metadata": {},
          "output_type": "execute_result"
        }
      ],
      "source": [
        "df['Gender'].value_counts(normalize=True)"
      ]
    },
    {
      "cell_type": "code",
      "execution_count": null,
      "id": "bfacddec",
      "metadata": {
        "colab": {
          "base_uri": "https://localhost:8080/"
        },
        "id": "bfacddec",
        "outputId": "a5874eab-0f07-4f16-e7ef-241ee02d76f9"
      },
      "outputs": [
        {
          "output_type": "execute_result",
          "data": {
            "text/plain": [
              "1    0.997869\n",
              "0    0.002131\n",
              "Name: Driving_License, dtype: float64"
            ]
          },
          "metadata": {},
          "execution_count": 11
        }
      ],
      "source": [
        "df['Driving_License'].value_counts(normalize=True)"
      ]
    },
    {
      "cell_type": "code",
      "source": [
        "df['Response'].value_counts(normalize=True)"
      ],
      "metadata": {
        "colab": {
          "base_uri": "https://localhost:8080/"
        },
        "id": "E-q4XC4E2M6R",
        "outputId": "6819a34c-f502-4b96-ebb8-37c6ff8df54f"
      },
      "id": "E-q4XC4E2M6R",
      "execution_count": null,
      "outputs": [
        {
          "output_type": "execute_result",
          "data": {
            "text/plain": [
              "0    0.877437\n",
              "1    0.122563\n",
              "Name: Response, dtype: float64"
            ]
          },
          "metadata": {},
          "execution_count": 12
        }
      ]
    },
    {
      "cell_type": "markdown",
      "id": "8bf2058b",
      "metadata": {
        "id": "8bf2058b"
      },
      "source": [
        "1. Minimum age is 20 and most of the people have driving license.\n",
        "We have to see why this people are not making their driving license.\n",
        "\n",
        "2. 99% associated have DL.\n",
        "3. 88% associates are responding negatively towards vehical insurance."
      ]
    },
    {
      "cell_type": "code",
      "execution_count": null,
      "id": "a5713028",
      "metadata": {
        "id": "a5713028",
        "outputId": "b8783c40-720a-428d-e6e7-9904648da5b9"
      },
      "outputs": [
        {
          "data": {
            "image/png": "[encoded data removed]",
            "text/plain": [
              "<Figure size 2160x648 with 2 Axes>"
            ]
          },
          "metadata": {
            "needs_background": "light"
          },
          "output_type": "display_data"
        }
      ],
      "source": [
        "figure,(ax1, ax2) = plt.subplots(ncols=2, figsize=(30,9))\n",
        "ax1.set_title('Gender')\n",
        "ax = sns.countplot(x='Gender', data=df, ax=ax1)\n",
        "ax2.set_title('Driving License')\n",
        "ax = sns.countplot(x='Driving_License', data=df, ax=ax2)"
      ]
    },
    {
      "cell_type": "code",
      "execution_count": null,
      "id": "2b040e93",
      "metadata": {
        "collapsed": true,
        "id": "2b040e93",
        "outputId": "2e4594bb-cc09-45da-e8bf-d61a5b539c20"
      },
      "outputs": [
        {
          "data": {
            "text/plain": [
              "28.0    106415\n",
              "8.0      33877\n",
              "46.0     19749\n",
              "41.0     18263\n",
              "15.0     13308\n",
              "30.0     12191\n",
              "29.0     11065\n",
              "50.0     10243\n",
              "3.0       9251\n",
              "11.0      9232\n",
              "36.0      8797\n",
              "33.0      7654\n",
              "47.0      7436\n",
              "35.0      6942\n",
              "6.0       6280\n",
              "45.0      5605\n",
              "37.0      5501\n",
              "18.0      5153\n",
              "48.0      4681\n",
              "14.0      4678\n",
              "39.0      4644\n",
              "10.0      4374\n",
              "21.0      4266\n",
              "2.0       4038\n",
              "13.0      4036\n",
              "7.0       3279\n",
              "12.0      3198\n",
              "9.0       3101\n",
              "27.0      2823\n",
              "32.0      2787\n",
              "43.0      2639\n",
              "17.0      2617\n",
              "26.0      2587\n",
              "25.0      2503\n",
              "24.0      2415\n",
              "38.0      2026\n",
              "0.0       2021\n",
              "16.0      2007\n",
              "31.0      1960\n",
              "23.0      1960\n",
              "20.0      1935\n",
              "49.0      1832\n",
              "4.0       1801\n",
              "34.0      1664\n",
              "19.0      1535\n",
              "22.0      1309\n",
              "40.0      1295\n",
              "5.0       1279\n",
              "1.0       1008\n",
              "44.0       808\n",
              "42.0       591\n",
              "52.0       267\n",
              "51.0       183\n",
              "Name: Region_Code, dtype: int64"
            ]
          },
          "execution_count": 51,
          "metadata": {},
          "output_type": "execute_result"
        }
      ],
      "source": [
        "df['Region_Code'].value_counts(ascending=False)"
      ]
    },
    {
      "cell_type": "markdown",
      "id": "9ccb244e",
      "metadata": {
        "id": "9ccb244e"
      },
      "source": [
        "Region code \"28\" has highest number of people associated with the company. 8, 46, 4, 1, 15, 30, 29, 50 has customers more than 10k.\n",
        "Most of the people have no Driving license."
      ]
    },
    {
      "cell_type": "code",
      "source": [
        "plt.figure(figsize=(10,10))\n",
        "sns.distplot(df['Region_Code'])"
      ],
      "metadata": {
        "colab": {
          "base_uri": "https://localhost:8080/",
          "height": 678
        },
        "id": "JKFJQi68CP4J",
        "outputId": "32786b5d-4e10-4737-9e48-972c934c72c2"
      },
      "id": "JKFJQi68CP4J",
      "execution_count": null,
      "outputs": [
        {
          "output_type": "stream",
          "name": "stderr",
          "text": [
            "/usr/local/lib/python3.9/dist-packages/seaborn/distributions.py:2619: FutureWarning: `distplot` is a deprecated function and will be removed in a future version. Please adapt your code to use either `displot` (a figure-level function with similar flexibility) or `histplot` (an axes-level function for histograms).\n",
            "  warnings.warn(msg, FutureWarning)\n"
          ]
        },
        {
          "output_type": "execute_result",
          "data": {
            "text/plain": [
              "<AxesSubplot:xlabel='Region_Code', ylabel='Density'>"
            ]
          },
          "metadata": {},
          "execution_count": 24
        },
        {
          "output_type": "display_data",
          "data": {
            "text/plain": [
              "<Figure size 720x720 with 1 Axes>"
            ],
            "image/png": "[encoded data removed]"
          },
          "metadata": {
            "needs_background": "light"
          }
        }
      ]
    },
    {
      "cell_type": "code",
      "execution_count": null,
      "id": "1bdf6857",
      "metadata": {
        "id": "1bdf6857",
        "outputId": "b146385c-fc9c-4674-f3ff-6f1de19bf225"
      },
      "outputs": [
        {
          "data": {
            "image/png": "[encoded data removed]",
            "text/plain": [
              "<Figure size 2160x648 with 2 Axes>"
            ]
          },
          "metadata": {
            "needs_background": "light"
          },
          "output_type": "display_data"
        }
      ],
      "source": [
        "figure,(ax1, ax2) = plt.subplots(ncols=2, figsize=(30,9))\n",
        "ax1.set_title('Region_Code')\n",
        "ax = sns.countplot(x='Region_Code', data=df, ax=ax1)\n",
        "ax2.set_title('Previously_Insured')\n",
        "ax = sns.countplot(x='Previously_Insured', data=df, ax=ax2)"
      ]
    },
    {
      "cell_type": "code",
      "execution_count": null,
      "id": "75db8af4",
      "metadata": {
        "collapsed": true,
        "id": "75db8af4",
        "outputId": "384c8bbe-8a03-4d98-96c2-e7fedfb0ef07"
      },
      "outputs": [
        {
          "data": {
            "text/plain": [
              "139260    1\n",
              "215751    1\n",
              "203558    1\n",
              "295717    1\n",
              "303254    1\n",
              "         ..\n",
              "132634    1\n",
              "333336    1\n",
              "355863    1\n",
              "347077    1\n",
              "331778    1\n",
              "Name: id, Length: 16770, dtype: int64"
            ]
          },
          "execution_count": 36,
          "metadata": {},
          "output_type": "execute_result"
        }
      ],
      "source": [
        "df[(df['Region_Code']==8) & (df['Previously_Insured']==0)]['id'].value_counts()"
      ]
    },
    {
      "cell_type": "code",
      "execution_count": null,
      "id": "0a8afcdf",
      "metadata": {
        "id": "0a8afcdf",
        "outputId": "abd5913b-4d30-4cc1-a8a2-accca6e0b2bc"
      },
      "outputs": [
        {
          "name": "stderr",
          "output_type": "stream",
          "text": [
            "C:\\Users\\Ashish\\Anaconda3\\envs\\py377\\lib\\site-packages\\seaborn\\distributions.py:2619: FutureWarning: `distplot` is a deprecated function and will be removed in a future version. Please adapt your code to use either `displot` (a figure-level function with similar flexibility) or `histplot` (an axes-level function for histograms).\n",
            "  warnings.warn(msg, FutureWarning)\n"
          ]
        },
        {
          "data": {
            "text/plain": [
              "<AxesSubplot:xlabel='Age', ylabel='Density'>"
            ]
          },
          "execution_count": 37,
          "metadata": {},
          "output_type": "execute_result"
        },
        {
          "data": {
            "image/png": "[encoded data removed]",
            "text/plain": [
              "<Figure size 720x720 with 1 Axes>"
            ]
          },
          "metadata": {
            "needs_background": "light"
          },
          "output_type": "display_data"
        }
      ],
      "source": [
        "plt.figure(figsize=(10,10))\n",
        "sns.distplot(df['Age'])"
      ]
    },
    {
      "cell_type": "code",
      "execution_count": null,
      "id": "406ca6b2",
      "metadata": {
        "id": "406ca6b2",
        "outputId": "cd4adc33-9630-4682-d4ae-93030f62618f"
      },
      "outputs": [
        {
          "data": {
            "text/plain": [
              "3              4\n",
              "5              6\n",
              "6              7\n",
              "8              9\n",
              "11            12\n",
              "           ...  \n",
              "381088    381089\n",
              "381089    381090\n",
              "381093    381094\n",
              "381102    381103\n",
              "381106    381107\n",
              "Name: id, Length: 114503, dtype: int64"
            ]
          },
          "execution_count": 41,
          "metadata": {},
          "output_type": "execute_result"
        }
      ],
      "source": [
        "df[(df['Age']<=25) & (df['Driving_License']==1)]['id']"
      ]
    },
    {
      "cell_type": "code",
      "execution_count": null,
      "id": "a13f95c9",
      "metadata": {
        "id": "a13f95c9",
        "outputId": "8ab44d32-d057-459f-cf8d-975a2316894d"
      },
      "outputs": [
        {
          "data": {
            "text/plain": [
              "3              4\n",
              "8              9\n",
              "11            12\n",
              "17            18\n",
              "22            23\n",
              "           ...  \n",
              "381069    381070\n",
              "381087    381088\n",
              "381093    381094\n",
              "381102    381103\n",
              "381106    381107\n",
              "Name: id, Length: 73335, dtype: int64"
            ]
          },
          "execution_count": 42,
          "metadata": {},
          "output_type": "execute_result"
        }
      ],
      "source": [
        "df[(df['Age']<=25) & (df['Previously_Insured']==1)]['id']"
      ]
    },
    {
      "cell_type": "code",
      "execution_count": null,
      "id": "4beaf316",
      "metadata": {
        "id": "4beaf316",
        "outputId": "3d78b0f8-00bd-4582-f58f-5e32986c5581"
      },
      "outputs": [
        {
          "data": {
            "text/plain": [
              "Index(['id', 'Gender', 'Age', 'Driving_License', 'Region_Code',\n",
              "       'Previously_Insured', 'Vehicle_Age', 'Vehicle_Damage', 'Annual_Premium',\n",
              "       'Policy_Sales_Channel', 'Vintage', 'Response'],\n",
              "      dtype='object')"
            ]
          },
          "execution_count": 43,
          "metadata": {},
          "output_type": "execute_result"
        }
      ],
      "source": [
        "df.columns"
      ]
    },
    {
      "cell_type": "code",
      "source": [
        "df[df['Annual_Premium']>100000].describe()"
      ],
      "metadata": {
        "colab": {
          "base_uri": "https://localhost:8080/",
          "height": 300
        },
        "id": "J5p-CuJvzE8H",
        "outputId": "f17c93ca-a6b5-4532-f03f-f13d9d175d87"
      },
      "id": "J5p-CuJvzE8H",
      "execution_count": null,
      "outputs": [
        {
          "output_type": "execute_result",
          "data": {
            "text/plain": [
              "                  id         Age  Driving_License  Region_Code  \\\n",
              "count     778.000000  778.000000       778.000000   778.000000   \n",
              "mean   190035.005141   42.650386         0.996144    26.318766   \n",
              "std    107865.021660   16.825125         0.062017    10.094339   \n",
              "min       177.000000   20.000000         0.000000     3.000000   \n",
              "25%     95393.750000   26.000000         1.000000    28.000000   \n",
              "50%    188166.000000   42.000000         1.000000    28.000000   \n",
              "75%    283722.250000   55.750000         1.000000    28.000000   \n",
              "max    380999.000000   80.000000         1.000000    52.000000   \n",
              "\n",
              "       Previously_Insured  Annual_Premium  Policy_Sales_Channel     Vintage  \\\n",
              "count          778.000000      778.000000            778.000000  778.000000   \n",
              "mean             0.438303   146870.661954            100.466581  155.980720   \n",
              "std              0.496498    75055.458140             56.411496   85.070073   \n",
              "min              0.000000   100018.000000              3.000000   10.000000   \n",
              "25%              0.000000   105837.500000             26.000000   83.250000   \n",
              "50%              0.000000   114815.000000            124.000000  155.000000   \n",
              "75%              1.000000   144410.750000            152.000000  232.000000   \n",
              "max              1.000000   540165.000000            163.000000  299.000000   \n",
              "\n",
              "         Response  \n",
              "count  778.000000  \n",
              "mean     0.158098  \n",
              "std      0.365067  \n",
              "min      0.000000  \n",
              "25%      0.000000  \n",
              "50%      0.000000  \n",
              "75%      0.000000  \n",
              "max      1.000000  "
            ],
            "text/html": [
              "\n",
              "  <div id=\"df-11aa92d6-e4a4-4ab6-94ba-4e80d5ea78f9\">\n",
              "    <div class=\"colab-df-container\">\n",
              "      <div>\n",
              "<style scoped>\n",
              "    .dataframe tbody tr th:only-of-type {\n",
              "        vertical-align: middle;\n",
              "    }\n",
              "\n",
              "    .dataframe tbody tr th {\n",
              "        vertical-align: top;\n",
              "    }\n",
              "\n",
              "    .dataframe thead th {\n",
              "        text-align: right;\n",
              "    }\n",
              "</style>\n",
              "<table border=\"1\" class=\"dataframe\">\n",
              "  <thead>\n",
              "    <tr style=\"text-align: right;\">\n",
              "      <th></th>\n",
              "      <th>id</th>\n",
              "      <th>Age</th>\n",
              "      <th>Driving_License</th>\n",
              "      <th>Region_Code</th>\n",
              "      <th>Previously_Insured</th>\n",
              "      <th>Annual_Premium</th>\n",
              "      <th>Policy_Sales_Channel</th>\n",
              "      <th>Vintage</th>\n",
              "      <th>Response</th>\n",
              "    </tr>\n",
              "  </thead>\n",
              "  <tbody>\n",
              "    <tr>\n",
              "      <th>count</th>\n",
              "      <td>778.000000</td>\n",
              "      <td>778.000000</td>\n",
              "      <td>778.000000</td>\n",
              "      <td>778.000000</td>\n",
              "      <td>778.000000</td>\n",
              "      <td>778.000000</td>\n",
              "      <td>778.000000</td>\n",
              "      <td>778.000000</td>\n",
              "      <td>778.000000</td>\n",
              "    </tr>\n",
              "    <tr>\n",
              "      <th>mean</th>\n",
              "      <td>190035.005141</td>\n",
              "      <td>42.650386</td>\n",
              "      <td>0.996144</td>\n",
              "      <td>26.318766</td>\n",
              "      <td>0.438303</td>\n",
              "      <td>146870.661954</td>\n",
              "      <td>100.466581</td>\n",
              "      <td>155.980720</td>\n",
              "      <td>0.158098</td>\n",
              "    </tr>\n",
              "    <tr>\n",
              "      <th>std</th>\n",
              "      <td>107865.021660</td>\n",
              "      <td>16.825125</td>\n",
              "      <td>0.062017</td>\n",
              "      <td>10.094339</td>\n",
              "      <td>0.496498</td>\n",
              "      <td>75055.458140</td>\n",
              "      <td>56.411496</td>\n",
              "      <td>85.070073</td>\n",
              "      <td>0.365067</td>\n",
              "    </tr>\n",
              "    <tr>\n",
              "      <th>min</th>\n",
              "      <td>177.000000</td>\n",
              "      <td>20.000000</td>\n",
              "      <td>0.000000</td>\n",
              "      <td>3.000000</td>\n",
              "      <td>0.000000</td>\n",
              "      <td>100018.000000</td>\n",
              "      <td>3.000000</td>\n",
              "      <td>10.000000</td>\n",
              "      <td>0.000000</td>\n",
              "    </tr>\n",
              "    <tr>\n",
              "      <th>25%</th>\n",
              "      <td>95393.750000</td>\n",
              "      <td>26.000000</td>\n",
              "      <td>1.000000</td>\n",
              "      <td>28.000000</td>\n",
              "      <td>0.000000</td>\n",
              "      <td>105837.500000</td>\n",
              "      <td>26.000000</td>\n",
              "      <td>83.250000</td>\n",
              "      <td>0.000000</td>\n",
              "    </tr>\n",
              "    <tr>\n",
              "      <th>50%</th>\n",
              "      <td>188166.000000</td>\n",
              "      <td>42.000000</td>\n",
              "      <td>1.000000</td>\n",
              "      <td>28.000000</td>\n",
              "      <td>0.000000</td>\n",
              "      <td>114815.000000</td>\n",
              "      <td>124.000000</td>\n",
              "      <td>155.000000</td>\n",
              "      <td>0.000000</td>\n",
              "    </tr>\n",
              "    <tr>\n",
              "      <th>75%</th>\n",
              "      <td>283722.250000</td>\n",
              "      <td>55.750000</td>\n",
              "      <td>1.000000</td>\n",
              "      <td>28.000000</td>\n",
              "      <td>1.000000</td>\n",
              "      <td>144410.750000</td>\n",
              "      <td>152.000000</td>\n",
              "      <td>232.000000</td>\n",
              "      <td>0.000000</td>\n",
              "    </tr>\n",
              "    <tr>\n",
              "      <th>max</th>\n",
              "      <td>380999.000000</td>\n",
              "      <td>80.000000</td>\n",
              "      <td>1.000000</td>\n",
              "      <td>52.000000</td>\n",
              "      <td>1.000000</td>\n",
              "      <td>540165.000000</td>\n",
              "      <td>163.000000</td>\n",
              "      <td>299.000000</td>\n",
              "      <td>1.000000</td>\n",
              "    </tr>\n",
              "  </tbody>\n",
              "</table>\n",
              "</div>\n",
              "      <button class=\"colab-df-convert\" onclick=\"convertToInteractive('df-11aa92d6-e4a4-4ab6-94ba-4e80d5ea78f9')\"\n",
              "              title=\"Convert this dataframe to an interactive table.\"\n",
              "              style=\"display:none;\">\n",
              "        \n",
              "  <svg xmlns=\"http://www.w3.org/2000/svg\" height=\"24px\"viewBox=\"0 0 24 24\"\n",
              "       width=\"24px\">\n",
              "    <path d=\"M0 0h24v24H0V0z\" fill=\"none\"/>\n",
              "    <path d=\"M18.56 5.44l.94 2.06.94-2.06 2.06-.94-2.06-.94-.94-2.06-.94 2.06-2.06.94zm-11 1L8.5 8.5l.94-2.06 2.06-.94-2.06-.94L8.5 2.5l-.94 2.06-2.06.94zm10 10l.94 2.06.94-2.06 2.06-.94-2.06-.94-.94-2.06-.94 2.06-2.06.94z\"/><path d=\"M17.41 7.96l-1.37-1.37c-.4-.4-.92-.59-1.43-.59-.52 0-1.04.2-1.43.59L10.3 9.45l-7.72 7.72c-.78.78-.78 2.05 0 2.83L4 21.41c.39.39.9.59 1.41.59.51 0 1.02-.2 1.41-.59l7.78-7.78 2.81-2.81c.8-.78.8-2.07 0-2.86zM5.41 20L4 18.59l7.72-7.72 1.47 1.35L5.41 20z\"/>\n",
              "  </svg>\n",
              "      </button>\n",
              "      \n",
              "  <style>\n",
              "    .colab-df-container {\n",
              "      display:flex;\n",
              "      flex-wrap:wrap;\n",
              "      gap: 12px;\n",
              "    }\n",
              "\n",
              "    .colab-df-convert {\n",
              "      background-color: #E8F0FE;\n",
              "      border: none;\n",
              "      border-radius: 50%;\n",
              "      cursor: pointer;\n",
              "      display: none;\n",
              "      fill: #1967D2;\n",
              "      height: 32px;\n",
              "      padding: 0 0 0 0;\n",
              "      width: 32px;\n",
              "    }\n",
              "\n",
              "    .colab-df-convert:hover {\n",
              "      background-color: #E2EBFA;\n",
              "      box-shadow: 0px 1px 2px rgba(60, 64, 67, 0.3), 0px 1px 3px 1px rgba(60, 64, 67, 0.15);\n",
              "      fill: #174EA6;\n",
              "    }\n",
              "\n",
              "    [theme=dark] .colab-df-convert {\n",
              "      background-color: #3B4455;\n",
              "      fill: #D2E3FC;\n",
              "    }\n",
              "\n",
              "    [theme=dark] .colab-df-convert:hover {\n",
              "      background-color: #434B5C;\n",
              "      box-shadow: 0px 1px 3px 1px rgba(0, 0, 0, 0.15);\n",
              "      filter: drop-shadow(0px 1px 2px rgba(0, 0, 0, 0.3));\n",
              "      fill: #FFFFFF;\n",
              "    }\n",
              "  </style>\n",
              "\n",
              "      <script>\n",
              "        const buttonEl =\n",
              "          document.querySelector('#df-11aa92d6-e4a4-4ab6-94ba-4e80d5ea78f9 button.colab-df-convert');\n",
              "        buttonEl.style.display =\n",
              "          google.colab.kernel.accessAllowed ? 'block' : 'none';\n",
              "\n",
              "        async function convertToInteractive(key) {\n",
              "          const element = document.querySelector('#df-11aa92d6-e4a4-4ab6-94ba-4e80d5ea78f9');\n",
              "          const dataTable =\n",
              "            await google.colab.kernel.invokeFunction('convertToInteractive',\n",
              "                                                     [key], {});\n",
              "          if (!dataTable) return;\n",
              "\n",
              "          const docLinkHtml = 'Like what you see? Visit the ' +\n",
              "            '<a target=\"_blank\" href=https://colab.research.google.com/notebooks/data_table.ipynb>data table notebook</a>'\n",
              "            + ' to learn more about interactive tables.';\n",
              "          element.innerHTML = '';\n",
              "          dataTable['output_type'] = 'display_data';\n",
              "          await google.colab.output.renderOutput(dataTable, element);\n",
              "          const docLink = document.createElement('div');\n",
              "          docLink.innerHTML = docLinkHtml;\n",
              "          element.appendChild(docLink);\n",
              "        }\n",
              "      </script>\n",
              "    </div>\n",
              "  </div>\n",
              "  "
            ]
          },
          "metadata": {},
          "execution_count": 7
        }
      ]
    },
    {
      "cell_type": "markdown",
      "source": [
        "1. Associates that are paying annual premium above 1L.\n",
        "2. All associates have DL.\n",
        "3. Mean age 42 and Minimum age is 20.\n",
        "4. 50% associated have not bought insurance previously.\n",
        "5. Mean vintage day is 155 days, it is good sign.\n",
        "6. But with all these positive signs, their response to vehicle insurance is negative, as we can see 3rd quartile value is 0, means 75% people are saying NO to vehical insurance."
      ],
      "metadata": {
        "id": "ljY1aNZd0N_M"
      },
      "id": "ljY1aNZd0N_M"
    },
    {
      "cell_type": "code",
      "execution_count": null,
      "id": "a7364455",
      "metadata": {
        "colab": {
          "base_uri": "https://localhost:8080/",
          "height": 689
        },
        "id": "a7364455",
        "outputId": "0438232c-523e-49ad-e79d-b9701767dc94"
      },
      "outputs": [
        {
          "output_type": "stream",
          "name": "stderr",
          "text": [
            "/usr/local/lib/python3.8/dist-packages/seaborn/distributions.py:2619: FutureWarning: `distplot` is a deprecated function and will be removed in a future version. Please adapt your code to use either `displot` (a figure-level function with similar flexibility) or `histplot` (an axes-level function for histograms).\n",
            "  warnings.warn(msg, FutureWarning)\n"
          ]
        },
        {
          "output_type": "execute_result",
          "data": {
            "text/plain": [
              "<AxesSubplot:xlabel='Annual_Premium', ylabel='Density'>"
            ]
          },
          "metadata": {},
          "execution_count": 9
        },
        {
          "output_type": "display_data",
          "data": {
            "text/plain": [
              "<Figure size 720x720 with 1 Axes>"
            ],
            "image/png": "[encoded data removed]"
          },
          "metadata": {
            "needs_background": "light"
          }
        }
      ],
      "source": [
        "plt.figure(figsize=(10,10))\n",
        "sns.distplot(df[df['Annual_Premium']<100000]['Annual_Premium'])"
      ]
    },
    {
      "cell_type": "code",
      "source": [
        "plt.figure(figsize=(10,10))\n",
        "sns.distplot(df['Policy_Sales_Channel'])"
      ],
      "metadata": {
        "colab": {
          "base_uri": "https://localhost:8080/",
          "height": 678
        },
        "id": "fDE74ggzAjry",
        "outputId": "22aac183-e48d-4c8b-8977-39f30d5fff2c"
      },
      "id": "fDE74ggzAjry",
      "execution_count": null,
      "outputs": [
        {
          "output_type": "stream",
          "name": "stderr",
          "text": [
            "/usr/local/lib/python3.9/dist-packages/seaborn/distributions.py:2619: FutureWarning: `distplot` is a deprecated function and will be removed in a future version. Please adapt your code to use either `displot` (a figure-level function with similar flexibility) or `histplot` (an axes-level function for histograms).\n",
            "  warnings.warn(msg, FutureWarning)\n"
          ]
        },
        {
          "output_type": "execute_result",
          "data": {
            "text/plain": [
              "<AxesSubplot:xlabel='Policy_Sales_Channel', ylabel='Density'>"
            ]
          },
          "metadata": {},
          "execution_count": 12
        },
        {
          "output_type": "display_data",
          "data": {
            "text/plain": [
              "<Figure size 720x720 with 1 Axes>"
            ],
            "image/png": "[encoded data removed]"
          },
          "metadata": {
            "needs_background": "light"
          }
        }
      ]
    },
    {
      "cell_type": "code",
      "execution_count": null,
      "id": "0da4c2db",
      "metadata": {
        "id": "0da4c2db",
        "outputId": "3c44b58f-f008-4be0-d43f-688f0ef1fb74",
        "colab": {
          "base_uri": "https://localhost:8080/"
        }
      },
      "outputs": [
        {
          "output_type": "execute_result",
          "data": {
            "text/plain": [
              "152.0    134784\n",
              "26.0      79700\n",
              "124.0     73995\n",
              "160.0     21779\n",
              "156.0     10661\n",
              "122.0      9930\n",
              "157.0      6684\n",
              "154.0      5993\n",
              "Name: Policy_Sales_Channel, dtype: int64"
            ]
          },
          "metadata": {},
          "execution_count": 22
        }
      ],
      "source": [
        "df['Policy_Sales_Channel'].value_counts(ascending=False).head(8)"
      ]
    },
    {
      "cell_type": "code",
      "source": [
        "df.shape"
      ],
      "metadata": {
        "colab": {
          "base_uri": "https://localhost:8080/"
        },
        "id": "6ArRO4ZcBojc",
        "outputId": "d6d01780-3c64-4d75-b96c-c85339b45a67"
      },
      "id": "6ArRO4ZcBojc",
      "execution_count": null,
      "outputs": [
        {
          "output_type": "execute_result",
          "data": {
            "text/plain": [
              "(381109, 12)"
            ]
          },
          "metadata": {},
          "execution_count": 21
        }
      ]
    },
    {
      "cell_type": "markdown",
      "id": "9c9d6914",
      "metadata": {
        "id": "9c9d6914"
      },
      "source": [
        "Few channels are working very good. We have to see why they are working well, and implement same stategy with other channel so that they are also working well."
      ]
    },
    {
      "cell_type": "code",
      "execution_count": null,
      "id": "64bbfaf8",
      "metadata": {
        "id": "64bbfaf8",
        "outputId": "5927c211-3c8e-49cd-cf77-a652e3eeb895"
      },
      "outputs": [
        {
          "data": {
            "image/png": "[encoded data removed]",
            "text/plain": [
              "<Figure size 2160x648 with 2 Axes>"
            ]
          },
          "metadata": {
            "needs_background": "light"
          },
          "output_type": "display_data"
        }
      ],
      "source": [
        "figure,(ax1, ax2) = plt.subplots(ncols=2, figsize=(30,9))\n",
        "ax1.set_title('Policy_Sales_Channel')\n",
        "ax = sns.countplot(x='Policy_Sales_Channel', data=df, ax=ax1)\n",
        "ax2.set_title('Vehicle_Age')\n",
        "ax = sns.countplot(x='Vehicle_Age', data=df, ax=ax2)"
      ]
    },
    {
      "cell_type": "markdown",
      "id": "e458bdc5",
      "metadata": {
        "id": "e458bdc5"
      },
      "source": [
        "Most of the vehicles are between 1-2 year and less than 1 year."
      ]
    },
    {
      "cell_type": "code",
      "execution_count": null,
      "id": "36a2841f",
      "metadata": {
        "id": "36a2841f",
        "outputId": "a6aaddc6-e035-4431-e739-c89e58ca24a2"
      },
      "outputs": [
        {
          "name": "stderr",
          "output_type": "stream",
          "text": [
            "C:\\Users\\Ashish\\Anaconda3\\envs\\py377\\lib\\site-packages\\seaborn\\distributions.py:2619: FutureWarning: `distplot` is a deprecated function and will be removed in a future version. Please adapt your code to use either `displot` (a figure-level function with similar flexibility) or `histplot` (an axes-level function for histograms).\n",
            "  warnings.warn(msg, FutureWarning)\n"
          ]
        },
        {
          "data": {
            "text/plain": [
              "<AxesSubplot:xlabel='Vintage', ylabel='Density'>"
            ]
          },
          "execution_count": 48,
          "metadata": {},
          "output_type": "execute_result"
        },
        {
          "data": {
            "image/png": "[encoded data removed]",
            "text/plain": [
              "<Figure size 720x720 with 1 Axes>"
            ]
          },
          "metadata": {
            "needs_background": "light"
          },
          "output_type": "display_data"
        }
      ],
      "source": [
        "plt.figure(figsize=(10,10))\n",
        "sns.distplot(df['Vintage'])"
      ]
    },
    {
      "cell_type": "markdown",
      "id": "e97f291a",
      "metadata": {
        "id": "e97f291a"
      },
      "source": [
        "Almost same density."
      ]
    },
    {
      "cell_type": "code",
      "execution_count": null,
      "id": "6a26887b",
      "metadata": {
        "id": "6a26887b",
        "outputId": "eccc5599-9879-40fc-e4c6-2996b46a34a5"
      },
      "outputs": [
        {
          "data": {
            "image/png": "[encoded data removed]",
            "text/plain": [
              "<Figure size 2160x648 with 2 Axes>"
            ]
          },
          "metadata": {
            "needs_background": "light"
          },
          "output_type": "display_data"
        }
      ],
      "source": [
        "figure,(ax1, ax2) = plt.subplots(ncols=2, figsize=(30,9))\n",
        "ax1.set_title('Vehicle_Damage')\n",
        "ax = sns.countplot(x='Vehicle_Damage', data=df, ax=ax1)\n",
        "ax2.set_title('Response')\n",
        "ax = sns.countplot(x='Response', data=df, ax=ax2)"
      ]
    },
    {
      "cell_type": "code",
      "execution_count": null,
      "id": "954c3db3",
      "metadata": {
        "id": "954c3db3",
        "outputId": "b3e498ab-709a-4511-ba1a-ff221d793458"
      },
      "outputs": [
        {
          "data": {
            "text/plain": [
              "Index(['id', 'Gender', 'Age', 'Driving_License', 'Region_Code',\n",
              "       'Previously_Insured', 'Vehicle_Age', 'Vehicle_Damage', 'Annual_Premium',\n",
              "       'Policy_Sales_Channel', 'Vintage', 'Response'],\n",
              "      dtype='object')"
            ]
          },
          "execution_count": 52,
          "metadata": {},
          "output_type": "execute_result"
        }
      ],
      "source": [
        "df.columns"
      ]
    },
    {
      "cell_type": "markdown",
      "id": "b41710dc",
      "metadata": {
        "id": "b41710dc"
      },
      "source": [
        "# Bivariate Analysis"
      ]
    },
    {
      "cell_type": "code",
      "source": [],
      "metadata": {
        "id": "EPSeTEzYVOoA"
      },
      "id": "EPSeTEzYVOoA",
      "execution_count": null,
      "outputs": []
    },
    {
      "cell_type": "code",
      "execution_count": null,
      "id": "991ae8a4",
      "metadata": {
        "id": "991ae8a4",
        "outputId": "d8e73d55-b7be-4446-e7c8-a37d97a351f3"
      },
      "outputs": [
        {
          "data": {
            "text/plain": [
              "<AxesSubplot:xlabel='Driving_License', ylabel='Age'>"
            ]
          },
          "execution_count": 6,
          "metadata": {},
          "output_type": "execute_result"
        },
        {
          "data": {
            "image/png": "[encoded data removed]",
            "text/plain": [
              "<Figure size 432x288 with 1 Axes>"
            ]
          },
          "metadata": {
            "needs_background": "light"
          },
          "output_type": "display_data"
        }
      ],
      "source": [
        "sns.barplot(y='Age', x='Driving_License', data=df)"
      ]
    },
    {
      "cell_type": "markdown",
      "id": "0b6c3c21",
      "metadata": {
        "id": "0b6c3c21"
      },
      "source": [
        "1. Average age of people have not DL is more than average age of people having DL."
      ]
    },
    {
      "cell_type": "code",
      "execution_count": null,
      "id": "ce564060",
      "metadata": {
        "id": "ce564060",
        "outputId": "de73135b-f347-4525-e9d6-845f4da9c770"
      },
      "outputs": [
        {
          "data": {
            "text/plain": [
              "<AxesSubplot:xlabel='Driving_License', ylabel='Annual_Premium'>"
            ]
          },
          "execution_count": 7,
          "metadata": {},
          "output_type": "execute_result"
        },
        {
          "data": {
            "image/png": "[encoded data removed]",
            "text/plain": [
              "<Figure size 432x288 with 1 Axes>"
            ]
          },
          "metadata": {
            "needs_background": "light"
          },
          "output_type": "display_data"
        }
      ],
      "source": [
        "sns.barplot(y='Annual_Premium', x='Driving_License', data=df)"
      ]
    },
    {
      "cell_type": "markdown",
      "id": "8c05abf5",
      "metadata": {
        "id": "8c05abf5"
      },
      "source": [
        "Both having DL and not DL, are paying almost same annual premiun."
      ]
    },
    {
      "cell_type": "code",
      "execution_count": null,
      "id": "fc807d8b",
      "metadata": {
        "id": "fc807d8b",
        "outputId": "b02b2aaa-1d3e-46a5-974e-e52c8b1e9a5d"
      },
      "outputs": [
        {
          "data": {
            "text/plain": [
              "<AxesSubplot:xlabel='Driving_License', ylabel='Vintage'>"
            ]
          },
          "execution_count": 8,
          "metadata": {},
          "output_type": "execute_result"
        },
        {
          "data": {
            "image/png": "[encoded data removed]",
            "text/plain": [
              "<Figure size 432x288 with 1 Axes>"
            ]
          },
          "metadata": {
            "needs_background": "light"
          },
          "output_type": "display_data"
        }
      ],
      "source": [
        "sns.barplot(y='Vintage', x='Driving_License', data=df)"
      ]
    },
    {
      "cell_type": "markdown",
      "id": "338a8fc3",
      "metadata": {
        "id": "338a8fc3"
      },
      "source": [
        "Both have or not have DL, are associated with the company same average days."
      ]
    },
    {
      "cell_type": "code",
      "execution_count": null,
      "id": "85c1650e",
      "metadata": {
        "id": "85c1650e",
        "outputId": "0b2595da-21c4-4789-dc2e-841da1be954a"
      },
      "outputs": [
        {
          "data": {
            "text/plain": [
              "<AxesSubplot:xlabel='Response', ylabel='Age'>"
            ]
          },
          "execution_count": 9,
          "metadata": {},
          "output_type": "execute_result"
        },
        {
          "data": {
            "image/png": "[encoded data removed]",
            "text/plain": [
              "<Figure size 432x288 with 1 Axes>"
            ]
          },
          "metadata": {
            "needs_background": "light"
          },
          "output_type": "display_data"
        }
      ],
      "source": [
        "sns.barplot(y='Age', x='Response', data=df)"
      ]
    },
    {
      "cell_type": "markdown",
      "source": [
        "Associates responding positively has more average age."
      ],
      "metadata": {
        "id": "K2lldVSC28GI"
      },
      "id": "K2lldVSC28GI"
    },
    {
      "cell_type": "code",
      "execution_count": null,
      "id": "b83c2193",
      "metadata": {
        "id": "b83c2193",
        "outputId": "0af5c883-e107-43be-f036-1a9b1d893b21"
      },
      "outputs": [
        {
          "data": {
            "text/plain": [
              "<AxesSubplot:xlabel='Response', ylabel='Annual_Premium'>"
            ]
          },
          "execution_count": 10,
          "metadata": {},
          "output_type": "execute_result"
        },
        {
          "data": {
            "image/png": "[encoded data removed]",
            "text/plain": [
              "<Figure size 432x288 with 1 Axes>"
            ]
          },
          "metadata": {
            "needs_background": "light"
          },
          "output_type": "display_data"
        }
      ],
      "source": [
        "sns.barplot(y='Annual_Premium', x='Response', data=df)"
      ]
    },
    {
      "cell_type": "code",
      "execution_count": null,
      "id": "f927bb7a",
      "metadata": {
        "id": "f927bb7a",
        "outputId": "ea15e7e9-daa5-416c-8978-cfdf5919d7bc"
      },
      "outputs": [
        {
          "data": {
            "text/plain": [
              "<AxesSubplot:xlabel='Response', ylabel='Vintage'>"
            ]
          },
          "execution_count": 11,
          "metadata": {},
          "output_type": "execute_result"
        },
        {
          "data": {
            "image/png": "[encoded data removed]",
            "text/plain": [
              "<Figure size 432x288 with 1 Axes>"
            ]
          },
          "metadata": {
            "needs_background": "light"
          },
          "output_type": "display_data"
        }
      ],
      "source": [
        "sns.barplot(y='Vintage', x='Response', data=df)"
      ]
    },
    {
      "cell_type": "markdown",
      "source": [
        "As data is imbalanced, still with NO response associates has same average vintage days compare to average vintage days of YES response."
      ],
      "metadata": {
        "id": "5RqKihre8Mf9"
      },
      "id": "5RqKihre8Mf9"
    },
    {
      "cell_type": "code",
      "source": [
        "sns.barplot(y='Age', x='Previously_Insured', data=df)"
      ],
      "metadata": {
        "colab": {
          "base_uri": "https://localhost:8080/",
          "height": 297
        },
        "id": "w8WgHI_kUiHq",
        "outputId": "42e10420-28dc-46ca-f747-2df42601c9b1"
      },
      "id": "w8WgHI_kUiHq",
      "execution_count": null,
      "outputs": [
        {
          "output_type": "execute_result",
          "data": {
            "text/plain": [
              "<AxesSubplot:xlabel='Previously_Insured', ylabel='Age'>"
            ]
          },
          "metadata": {},
          "execution_count": 22
        },
        {
          "output_type": "display_data",
          "data": {
            "text/plain": [
              "<Figure size 432x288 with 1 Axes>"
            ],
            "image/png": "[encoded data removed]"
          },
          "metadata": {
            "needs_background": "light"
          }
        }
      ]
    },
    {
      "cell_type": "code",
      "execution_count": null,
      "id": "438df12d",
      "metadata": {
        "colab": {
          "base_uri": "https://localhost:8080/",
          "height": 314
        },
        "id": "438df12d",
        "outputId": "33ab6f2b-3013-476b-d11f-5e004f036338"
      },
      "outputs": [
        {
          "output_type": "execute_result",
          "data": {
            "text/plain": [
              "<AxesSubplot:xlabel='Driving_License,Response'>"
            ]
          },
          "metadata": {},
          "execution_count": 22
        },
        {
          "output_type": "display_data",
          "data": {
            "text/plain": [
              "<Figure size 432x288 with 1 Axes>"
            ],
            "image/png": "[encoded data removed]"
          },
          "metadata": {
            "needs_background": "light"
          }
        }
      ],
      "source": [
        "df.groupby(['Driving_License'])['Response'].value_counts(normalize=True).plot.bar()"
      ]
    },
    {
      "cell_type": "code",
      "source": [
        "df.groupby(['Driving_License'])['Response'].value_counts(normalize=True)"
      ],
      "metadata": {
        "colab": {
          "base_uri": "https://localhost:8080/"
        },
        "id": "pxYWkQfX4oBA",
        "outputId": "1030d7e0-fae1-481e-b972-33d3de9212b7"
      },
      "id": "pxYWkQfX4oBA",
      "execution_count": null,
      "outputs": [
        {
          "output_type": "execute_result",
          "data": {
            "text/plain": [
              "Driving_License  Response\n",
              "0                0           0.949507\n",
              "                 1           0.050493\n",
              "1                0           0.877283\n",
              "                 1           0.122717\n",
              "Name: Response, dtype: float64"
            ]
          },
          "metadata": {},
          "execution_count": 20
        }
      ]
    },
    {
      "cell_type": "markdown",
      "source": [
        "1. The associates have DL or not is not affecting the response, in both the cases(DL holding or not) response is NO."
      ],
      "metadata": {
        "id": "MsoZ0jRT5Rrs"
      },
      "id": "MsoZ0jRT5Rrs"
    },
    {
      "cell_type": "code",
      "source": [
        "df.columns"
      ],
      "metadata": {
        "colab": {
          "base_uri": "https://localhost:8080/"
        },
        "id": "olEEprJ963il",
        "outputId": "5a6c97a4-3f85-425c-c449-870de83a4536"
      },
      "id": "olEEprJ963il",
      "execution_count": null,
      "outputs": [
        {
          "output_type": "execute_result",
          "data": {
            "text/plain": [
              "Index(['id', 'Gender', 'Age', 'Driving_License', 'Region_Code',\n",
              "       'Previously_Insured', 'Vehicle_Age', 'Vehicle_Damage', 'Annual_Premium',\n",
              "       'Policy_Sales_Channel', 'Vintage', 'Response'],\n",
              "      dtype='object')"
            ]
          },
          "metadata": {},
          "execution_count": 23
        }
      ]
    },
    {
      "cell_type": "code",
      "source": [
        "df['Previously_Insured'].value_counts()"
      ],
      "metadata": {
        "colab": {
          "base_uri": "https://localhost:8080/"
        },
        "id": "YrbWwiMnVYYM",
        "outputId": "be566a90-9a94-40a2-b610-1d4d99a3121f"
      },
      "id": "YrbWwiMnVYYM",
      "execution_count": null,
      "outputs": [
        {
          "output_type": "execute_result",
          "data": {
            "text/plain": [
              "0    206481\n",
              "1    174628\n",
              "Name: Previously_Insured, dtype: int64"
            ]
          },
          "metadata": {},
          "execution_count": 24
        }
      ]
    },
    {
      "cell_type": "code",
      "source": [
        "df.groupby(['Previously_Insured'])['Response'].value_counts(normalize=True)"
      ],
      "metadata": {
        "colab": {
          "base_uri": "https://localhost:8080/"
        },
        "id": "9dGhG0wJVOm5",
        "outputId": "da0ca6e6-1323-4fe5-c191-78b31a4f5ace"
      },
      "id": "9dGhG0wJVOm5",
      "execution_count": null,
      "outputs": [
        {
          "output_type": "execute_result",
          "data": {
            "text/plain": [
              "Previously_Insured  Response\n",
              "0                   0           0.774546\n",
              "                    1           0.225454\n",
              "1                   0           0.999095\n",
              "                    1           0.000905\n",
              "Name: Response, dtype: float64"
            ]
          },
          "metadata": {},
          "execution_count": 23
        }
      ]
    },
    {
      "cell_type": "code",
      "source": [
        "df.groupby(['Previously_Insured'])['Response'].value_counts(normalize=True).plot.bar()"
      ],
      "metadata": {
        "colab": {
          "base_uri": "https://localhost:8080/",
          "height": 314
        },
        "id": "co6oTyZg49UF",
        "outputId": "ef349748-d9b7-4a8b-b556-2c2c09bed1f0"
      },
      "id": "co6oTyZg49UF",
      "execution_count": null,
      "outputs": [
        {
          "output_type": "execute_result",
          "data": {
            "text/plain": [
              "<AxesSubplot:xlabel='Previously_Insured,Response'>"
            ]
          },
          "metadata": {},
          "execution_count": 24
        },
        {
          "output_type": "display_data",
          "data": {
            "text/plain": [
              "<Figure size 432x288 with 1 Axes>"
            ],
            "image/png": "[encoded data removed]"
          },
          "metadata": {
            "needs_background": "light"
          }
        }
      ]
    },
    {
      "cell_type": "markdown",
      "source": [
        "As data is imbalanced, some has bought insurance previously but they are not interest in vehicle insurance(third bar in above graph). \n",
        "The one that does not purchased insurance previously are interest, we can target them(Second bar in above graph)"
      ],
      "metadata": {
        "id": "jynM-6iP_6Il"
      },
      "id": "jynM-6iP_6Il"
    },
    {
      "cell_type": "code",
      "source": [],
      "metadata": {
        "id": "0dWXgqPy_5sV"
      },
      "id": "0dWXgqPy_5sV",
      "execution_count": null,
      "outputs": []
    },
    {
      "cell_type": "code",
      "source": [
        "df.groupby(['Gender'])['Response'].value_counts(normalize=True).plot.bar()"
      ],
      "metadata": {
        "colab": {
          "base_uri": "https://localhost:8080/",
          "height": 343
        },
        "id": "z13VLrj368Yl",
        "outputId": "11eafba0-bf10-407f-ff3b-faac322ee346"
      },
      "id": "z13VLrj368Yl",
      "execution_count": null,
      "outputs": [
        {
          "output_type": "execute_result",
          "data": {
            "text/plain": [
              "<AxesSubplot:xlabel='Gender,Response'>"
            ]
          },
          "metadata": {},
          "execution_count": 25
        },
        {
          "output_type": "display_data",
          "data": {
            "text/plain": [
              "<Figure size 432x288 with 1 Axes>"
            ],
            "image/png": "[encoded data removed]"
          },
          "metadata": {
            "needs_background": "light"
          }
        }
      ]
    },
    {
      "cell_type": "code",
      "source": [
        "df.groupby(['Vehicle_Damage'])['Response'].value_counts(normalize=True).plot.bar()"
      ],
      "metadata": {
        "colab": {
          "base_uri": "https://localhost:8080/",
          "height": 324
        },
        "id": "qi7JCtbl7Fsz",
        "outputId": "4f4dc10f-aa0e-4c06-b242-4b0da4992792"
      },
      "id": "qi7JCtbl7Fsz",
      "execution_count": null,
      "outputs": [
        {
          "output_type": "execute_result",
          "data": {
            "text/plain": [
              "<AxesSubplot:xlabel='Vehicle_Damage,Response'>"
            ]
          },
          "metadata": {},
          "execution_count": 26
        },
        {
          "output_type": "display_data",
          "data": {
            "text/plain": [
              "<Figure size 432x288 with 1 Axes>"
            ],
            "image/png": "[encoded data removed]"
          },
          "metadata": {
            "needs_background": "light"
          }
        }
      ]
    },
    {
      "cell_type": "code",
      "source": [
        "df.groupby(['Vehicle_Age'])['Response'].value_counts(normalize=True).plot.bar()"
      ],
      "metadata": {
        "colab": {
          "base_uri": "https://localhost:8080/",
          "height": 358
        },
        "id": "17grsl3V7Oz8",
        "outputId": "3c09cb19-5789-44d6-9ae2-79d7d9f7ecf7"
      },
      "id": "17grsl3V7Oz8",
      "execution_count": null,
      "outputs": [
        {
          "output_type": "execute_result",
          "data": {
            "text/plain": [
              "<AxesSubplot:xlabel='Vehicle_Age,Response'>"
            ]
          },
          "metadata": {},
          "execution_count": 27
        },
        {
          "output_type": "display_data",
          "data": {
            "text/plain": [
              "<Figure size 432x288 with 1 Axes>"
            ],
            "image/png": "[encoded data removed]"
          },
          "metadata": {
            "needs_background": "light"
          }
        }
      ]
    },
    {
      "cell_type": "code",
      "source": [
        "df.groupby(['Region_Code'])['Response'].value_counts(normalize=True).plot.pie()"
      ],
      "metadata": {
        "colab": {
          "base_uri": "https://localhost:8080/",
          "height": 265
        },
        "id": "ZLl5puZ17UsX",
        "outputId": "c5494ff1-b184-47a3-c818-53106c8e1679"
      },
      "id": "ZLl5puZ17UsX",
      "execution_count": null,
      "outputs": [
        {
          "output_type": "execute_result",
          "data": {
            "text/plain": [
              "<AxesSubplot:ylabel='Response'>"
            ]
          },
          "metadata": {},
          "execution_count": 44
        },
        {
          "output_type": "display_data",
          "data": {
            "text/plain": [
              "<Figure size 432x288 with 1 Axes>"
            ],
            "image/png": "[encoded data removed]"
          },
          "metadata": {}
        }
      ]
    },
    {
      "cell_type": "code",
      "source": [
        "df1 = df.groupby(['Region_Code'])[['Response','id']]"
      ],
      "metadata": {
        "id": "vu2HRFKa7bPU"
      },
      "id": "vu2HRFKa7bPU",
      "execution_count": null,
      "outputs": []
    },
    {
      "cell_type": "code",
      "source": [
        "list(df1)"
      ],
      "metadata": {
        "id": "v5EmfxKZ8SVV"
      },
      "id": "v5EmfxKZ8SVV",
      "execution_count": null,
      "outputs": []
    },
    {
      "cell_type": "markdown",
      "source": [
        "# Multivariate Analysis"
      ],
      "metadata": {
        "id": "QKN4VDS6-Dfl"
      },
      "id": "QKN4VDS6-Dfl"
    },
    {
      "cell_type": "code",
      "source": [
        "corr = df.corr()"
      ],
      "metadata": {
        "id": "avCqunfn8ceM"
      },
      "id": "avCqunfn8ceM",
      "execution_count": null,
      "outputs": []
    },
    {
      "cell_type": "code",
      "source": [
        "sns.heatmap(corr)"
      ],
      "metadata": {
        "colab": {
          "base_uri": "https://localhost:8080/",
          "height": 383
        },
        "id": "4bY2nRpq9bLL",
        "outputId": "86555e22-f1dc-41b7-c35c-0f5a6f2b56b8"
      },
      "id": "4bY2nRpq9bLL",
      "execution_count": null,
      "outputs": [
        {
          "output_type": "execute_result",
          "data": {
            "text/plain": [
              "<AxesSubplot:>"
            ]
          },
          "metadata": {},
          "execution_count": 8
        },
        {
          "output_type": "display_data",
          "data": {
            "text/plain": [
              "<Figure size 432x288 with 2 Axes>"
            ],
            "image/png": "[encoded data removed]"
          },
          "metadata": {
            "needs_background": "light"
          }
        }
      ]
    },
    {
      "cell_type": "markdown",
      "source": [
        "# Encoding of categorical feature"
      ],
      "metadata": {
        "id": "CCPNLO_mHM-n"
      },
      "id": "CCPNLO_mHM-n"
    },
    {
      "cell_type": "code",
      "source": [
        "df['Vehicle_Age'].unique()"
      ],
      "metadata": {
        "colab": {
          "base_uri": "https://localhost:8080/"
        },
        "id": "jg8tbMAF9dUx",
        "outputId": "34aa131a-0a6a-4cba-de83-c3fe1bdd602a"
      },
      "id": "jg8tbMAF9dUx",
      "execution_count": null,
      "outputs": [
        {
          "output_type": "execute_result",
          "data": {
            "text/plain": [
              "['> 2 Years', '1-2 Year', '< 1 Year']\n",
              "Categories (3, object): ['1-2 Year', '< 1 Year', '> 2 Years']"
            ]
          },
          "metadata": {},
          "execution_count": 7
        }
      ]
    },
    {
      "cell_type": "code",
      "source": [
        "df['Vehicle_Age_1'] = df['Vehicle_Age'].replace(['> 2 Years', '1-2 Year', '< 1 Year'], [1,2,0])"
      ],
      "metadata": {
        "id": "pPlD4qHlJJaq"
      },
      "id": "pPlD4qHlJJaq",
      "execution_count": null,
      "outputs": []
    },
    {
      "cell_type": "code",
      "source": [
        "df.head()"
      ],
      "metadata": {
        "colab": {
          "base_uri": "https://localhost:8080/",
          "height": 270
        },
        "id": "CU-BCHRZK5lA",
        "outputId": "cefe175c-3715-462d-a957-e56f28f5cd3d"
      },
      "id": "CU-BCHRZK5lA",
      "execution_count": null,
      "outputs": [
        {
          "output_type": "execute_result",
          "data": {
            "text/plain": [
              "   id  Gender  Age  Driving_License  Region_Code  Previously_Insured  \\\n",
              "0   1    Male   44                1         28.0                   0   \n",
              "1   2    Male   76                1          3.0                   0   \n",
              "2   3    Male   47                1         28.0                   0   \n",
              "3   4    Male   21                1         11.0                   1   \n",
              "4   5  Female   29                1         41.0                   1   \n",
              "\n",
              "  Vehicle_Age  Vehicle_Damage  Annual_Premium  Policy_Sales_Channel  Vintage  \\\n",
              "0   > 2 Years               1         40454.0                  26.0      217   \n",
              "1    1-2 Year               0         33536.0                  26.0      183   \n",
              "2   > 2 Years               1         38294.0                  26.0       27   \n",
              "3    < 1 Year               0         28619.0                 152.0      203   \n",
              "4    < 1 Year               0         27496.0                 152.0       39   \n",
              "\n",
              "   Response  Vehicle_Age_1  Gender_1  \n",
              "0         1              1         0  \n",
              "1         0              2         0  \n",
              "2         1              1         0  \n",
              "3         0              0         0  \n",
              "4         0              0         1  "
            ],
            "text/html": [
              "\n",
              "  <div id=\"df-d6ba0c8c-d220-482d-8482-298e8c9961e4\">\n",
              "    <div class=\"colab-df-container\">\n",
              "      <div>\n",
              "<style scoped>\n",
              "    .dataframe tbody tr th:only-of-type {\n",
              "        vertical-align: middle;\n",
              "    }\n",
              "\n",
              "    .dataframe tbody tr th {\n",
              "        vertical-align: top;\n",
              "    }\n",
              "\n",
              "    .dataframe thead th {\n",
              "        text-align: right;\n",
              "    }\n",
              "</style>\n",
              "<table border=\"1\" class=\"dataframe\">\n",
              "  <thead>\n",
              "    <tr style=\"text-align: right;\">\n",
              "      <th></th>\n",
              "      <th>id</th>\n",
              "      <th>Gender</th>\n",
              "      <th>Age</th>\n",
              "      <th>Driving_License</th>\n",
              "      <th>Region_Code</th>\n",
              "      <th>Previously_Insured</th>\n",
              "      <th>Vehicle_Age</th>\n",
              "      <th>Vehicle_Damage</th>\n",
              "      <th>Annual_Premium</th>\n",
              "      <th>Policy_Sales_Channel</th>\n",
              "      <th>Vintage</th>\n",
              "      <th>Response</th>\n",
              "      <th>Vehicle_Age_1</th>\n",
              "      <th>Gender_1</th>\n",
              "    </tr>\n",
              "  </thead>\n",
              "  <tbody>\n",
              "    <tr>\n",
              "      <th>0</th>\n",
              "      <td>1</td>\n",
              "      <td>Male</td>\n",
              "      <td>44</td>\n",
              "      <td>1</td>\n",
              "      <td>28.0</td>\n",
              "      <td>0</td>\n",
              "      <td>&gt; 2 Years</td>\n",
              "      <td>1</td>\n",
              "      <td>40454.0</td>\n",
              "      <td>26.0</td>\n",
              "      <td>217</td>\n",
              "      <td>1</td>\n",
              "      <td>1</td>\n",
              "      <td>0</td>\n",
              "    </tr>\n",
              "    <tr>\n",
              "      <th>1</th>\n",
              "      <td>2</td>\n",
              "      <td>Male</td>\n",
              "      <td>76</td>\n",
              "      <td>1</td>\n",
              "      <td>3.0</td>\n",
              "      <td>0</td>\n",
              "      <td>1-2 Year</td>\n",
              "      <td>0</td>\n",
              "      <td>33536.0</td>\n",
              "      <td>26.0</td>\n",
              "      <td>183</td>\n",
              "      <td>0</td>\n",
              "      <td>2</td>\n",
              "      <td>0</td>\n",
              "    </tr>\n",
              "    <tr>\n",
              "      <th>2</th>\n",
              "      <td>3</td>\n",
              "      <td>Male</td>\n",
              "      <td>47</td>\n",
              "      <td>1</td>\n",
              "      <td>28.0</td>\n",
              "      <td>0</td>\n",
              "      <td>&gt; 2 Years</td>\n",
              "      <td>1</td>\n",
              "      <td>38294.0</td>\n",
              "      <td>26.0</td>\n",
              "      <td>27</td>\n",
              "      <td>1</td>\n",
              "      <td>1</td>\n",
              "      <td>0</td>\n",
              "    </tr>\n",
              "    <tr>\n",
              "      <th>3</th>\n",
              "      <td>4</td>\n",
              "      <td>Male</td>\n",
              "      <td>21</td>\n",
              "      <td>1</td>\n",
              "      <td>11.0</td>\n",
              "      <td>1</td>\n",
              "      <td>&lt; 1 Year</td>\n",
              "      <td>0</td>\n",
              "      <td>28619.0</td>\n",
              "      <td>152.0</td>\n",
              "      <td>203</td>\n",
              "      <td>0</td>\n",
              "      <td>0</td>\n",
              "      <td>0</td>\n",
              "    </tr>\n",
              "    <tr>\n",
              "      <th>4</th>\n",
              "      <td>5</td>\n",
              "      <td>Female</td>\n",
              "      <td>29</td>\n",
              "      <td>1</td>\n",
              "      <td>41.0</td>\n",
              "      <td>1</td>\n",
              "      <td>&lt; 1 Year</td>\n",
              "      <td>0</td>\n",
              "      <td>27496.0</td>\n",
              "      <td>152.0</td>\n",
              "      <td>39</td>\n",
              "      <td>0</td>\n",
              "      <td>0</td>\n",
              "      <td>1</td>\n",
              "    </tr>\n",
              "  </tbody>\n",
              "</table>\n",
              "</div>\n",
              "      <button class=\"colab-df-convert\" onclick=\"convertToInteractive('df-d6ba0c8c-d220-482d-8482-298e8c9961e4')\"\n",
              "              title=\"Convert this dataframe to an interactive table.\"\n",
              "              style=\"display:none;\">\n",
              "        \n",
              "  <svg xmlns=\"http://www.w3.org/2000/svg\" height=\"24px\"viewBox=\"0 0 24 24\"\n",
              "       width=\"24px\">\n",
              "    <path d=\"M0 0h24v24H0V0z\" fill=\"none\"/>\n",
              "    <path d=\"M18.56 5.44l.94 2.06.94-2.06 2.06-.94-2.06-.94-.94-2.06-.94 2.06-2.06.94zm-11 1L8.5 8.5l.94-2.06 2.06-.94-2.06-.94L8.5 2.5l-.94 2.06-2.06.94zm10 10l.94 2.06.94-2.06 2.06-.94-2.06-.94-.94-2.06-.94 2.06-2.06.94z\"/><path d=\"M17.41 7.96l-1.37-1.37c-.4-.4-.92-.59-1.43-.59-.52 0-1.04.2-1.43.59L10.3 9.45l-7.72 7.72c-.78.78-.78 2.05 0 2.83L4 21.41c.39.39.9.59 1.41.59.51 0 1.02-.2 1.41-.59l7.78-7.78 2.81-2.81c.8-.78.8-2.07 0-2.86zM5.41 20L4 18.59l7.72-7.72 1.47 1.35L5.41 20z\"/>\n",
              "  </svg>\n",
              "      </button>\n",
              "      \n",
              "  <style>\n",
              "    .colab-df-container {\n",
              "      display:flex;\n",
              "      flex-wrap:wrap;\n",
              "      gap: 12px;\n",
              "    }\n",
              "\n",
              "    .colab-df-convert {\n",
              "      background-color: #E8F0FE;\n",
              "      border: none;\n",
              "      border-radius: 50%;\n",
              "      cursor: pointer;\n",
              "      display: none;\n",
              "      fill: #1967D2;\n",
              "      height: 32px;\n",
              "      padding: 0 0 0 0;\n",
              "      width: 32px;\n",
              "    }\n",
              "\n",
              "    .colab-df-convert:hover {\n",
              "      background-color: #E2EBFA;\n",
              "      box-shadow: 0px 1px 2px rgba(60, 64, 67, 0.3), 0px 1px 3px 1px rgba(60, 64, 67, 0.15);\n",
              "      fill: #174EA6;\n",
              "    }\n",
              "\n",
              "    [theme=dark] .colab-df-convert {\n",
              "      background-color: #3B4455;\n",
              "      fill: #D2E3FC;\n",
              "    }\n",
              "\n",
              "    [theme=dark] .colab-df-convert:hover {\n",
              "      background-color: #434B5C;\n",
              "      box-shadow: 0px 1px 3px 1px rgba(0, 0, 0, 0.15);\n",
              "      filter: drop-shadow(0px 1px 2px rgba(0, 0, 0, 0.3));\n",
              "      fill: #FFFFFF;\n",
              "    }\n",
              "  </style>\n",
              "\n",
              "      <script>\n",
              "        const buttonEl =\n",
              "          document.querySelector('#df-d6ba0c8c-d220-482d-8482-298e8c9961e4 button.colab-df-convert');\n",
              "        buttonEl.style.display =\n",
              "          google.colab.kernel.accessAllowed ? 'block' : 'none';\n",
              "\n",
              "        async function convertToInteractive(key) {\n",
              "          const element = document.querySelector('#df-d6ba0c8c-d220-482d-8482-298e8c9961e4');\n",
              "          const dataTable =\n",
              "            await google.colab.kernel.invokeFunction('convertToInteractive',\n",
              "                                                     [key], {});\n",
              "          if (!dataTable) return;\n",
              "\n",
              "          const docLinkHtml = 'Like what you see? Visit the ' +\n",
              "            '<a target=\"_blank\" href=https://colab.research.google.com/notebooks/data_table.ipynb>data table notebook</a>'\n",
              "            + ' to learn more about interactive tables.';\n",
              "          element.innerHTML = '';\n",
              "          dataTable['output_type'] = 'display_data';\n",
              "          await google.colab.output.renderOutput(dataTable, element);\n",
              "          const docLink = document.createElement('div');\n",
              "          docLink.innerHTML = docLinkHtml;\n",
              "          element.appendChild(docLink);\n",
              "        }\n",
              "      </script>\n",
              "    </div>\n",
              "  </div>\n",
              "  "
            ]
          },
          "metadata": {},
          "execution_count": 13
        }
      ]
    },
    {
      "cell_type": "code",
      "source": [
        "df['Gender_1'] = df['Gender'].replace(['Male', 'Female'], [0,1])"
      ],
      "metadata": {
        "id": "dmvxE0pUK8o6"
      },
      "id": "dmvxE0pUK8o6",
      "execution_count": null,
      "outputs": []
    },
    {
      "cell_type": "code",
      "source": [
        "df['Vehicle_Damage'] = df['Vehicle_Damage'].replace(['Yes','No'], [1,0])"
      ],
      "metadata": {
        "id": "XEtJb4J8LgKJ"
      },
      "id": "XEtJb4J8LgKJ",
      "execution_count": null,
      "outputs": []
    },
    {
      "cell_type": "code",
      "source": [
        "data = df.drop(['Gender', 'Vehicle_Age'], axis =1)"
      ],
      "metadata": {
        "id": "IZFU8noCLqSq"
      },
      "id": "IZFU8noCLqSq",
      "execution_count": null,
      "outputs": []
    },
    {
      "cell_type": "code",
      "source": [
        "data.info()"
      ],
      "metadata": {
        "colab": {
          "base_uri": "https://localhost:8080/"
        },
        "id": "nB1lJqob85FY",
        "outputId": "1d8ac652-1bd8-4363-af53-a33ea205beb5"
      },
      "id": "nB1lJqob85FY",
      "execution_count": null,
      "outputs": [
        {
          "output_type": "stream",
          "name": "stdout",
          "text": [
            "<class 'pandas.core.frame.DataFrame'>\n",
            "RangeIndex: 381109 entries, 0 to 381108\n",
            "Data columns (total 12 columns):\n",
            " #   Column                Non-Null Count   Dtype  \n",
            "---  ------                --------------   -----  \n",
            " 0   id                    381109 non-null  int64  \n",
            " 1   Age                   381109 non-null  int64  \n",
            " 2   Driving_License       381109 non-null  int64  \n",
            " 3   Region_Code           381109 non-null  float64\n",
            " 4   Previously_Insured    381109 non-null  int64  \n",
            " 5   Vehicle_Damage        381109 non-null  int64  \n",
            " 6   Annual_Premium        381109 non-null  float64\n",
            " 7   Policy_Sales_Channel  381109 non-null  float64\n",
            " 8   Vintage               381109 non-null  int64  \n",
            " 9   Response              381109 non-null  int64  \n",
            " 10  Vehicle_Age_1         381109 non-null  int64  \n",
            " 11  Gender_1              381109 non-null  int64  \n",
            "dtypes: float64(3), int64(9)\n",
            "memory usage: 34.9 MB\n"
          ]
        }
      ]
    },
    {
      "cell_type": "code",
      "source": [
        "data.head()"
      ],
      "metadata": {
        "colab": {
          "base_uri": "https://localhost:8080/",
          "height": 270
        },
        "id": "KDx9WqgSL4hT",
        "outputId": "06b27dc6-a048-422b-abc7-3cde59be40b2"
      },
      "id": "KDx9WqgSL4hT",
      "execution_count": null,
      "outputs": [
        {
          "output_type": "execute_result",
          "data": {
            "text/plain": [
              "   id  Age  Driving_License  Region_Code  Previously_Insured  Vehicle_Damage  \\\n",
              "0   1   44                1         28.0                   0               1   \n",
              "1   2   76                1          3.0                   0               0   \n",
              "2   3   47                1         28.0                   0               1   \n",
              "3   4   21                1         11.0                   1               0   \n",
              "4   5   29                1         41.0                   1               0   \n",
              "\n",
              "   Annual_Premium  Policy_Sales_Channel  Vintage  Response  Vehicle_Age_1  \\\n",
              "0         40454.0                  26.0      217         1              1   \n",
              "1         33536.0                  26.0      183         0              2   \n",
              "2         38294.0                  26.0       27         1              1   \n",
              "3         28619.0                 152.0      203         0              0   \n",
              "4         27496.0                 152.0       39         0              0   \n",
              "\n",
              "   Gender_1  \n",
              "0         0  \n",
              "1         0  \n",
              "2         0  \n",
              "3         0  \n",
              "4         1  "
            ],
            "text/html": [
              "\n",
              "  <div id=\"df-bae307f6-b4c7-4586-b6d9-c36ea6b4dcbc\">\n",
              "    <div class=\"colab-df-container\">\n",
              "      <div>\n",
              "<style scoped>\n",
              "    .dataframe tbody tr th:only-of-type {\n",
              "        vertical-align: middle;\n",
              "    }\n",
              "\n",
              "    .dataframe tbody tr th {\n",
              "        vertical-align: top;\n",
              "    }\n",
              "\n",
              "    .dataframe thead th {\n",
              "        text-align: right;\n",
              "    }\n",
              "</style>\n",
              "<table border=\"1\" class=\"dataframe\">\n",
              "  <thead>\n",
              "    <tr style=\"text-align: right;\">\n",
              "      <th></th>\n",
              "      <th>id</th>\n",
              "      <th>Age</th>\n",
              "      <th>Driving_License</th>\n",
              "      <th>Region_Code</th>\n",
              "      <th>Previously_Insured</th>\n",
              "      <th>Vehicle_Damage</th>\n",
              "      <th>Annual_Premium</th>\n",
              "      <th>Policy_Sales_Channel</th>\n",
              "      <th>Vintage</th>\n",
              "      <th>Response</th>\n",
              "      <th>Vehicle_Age_1</th>\n",
              "      <th>Gender_1</th>\n",
              "    </tr>\n",
              "  </thead>\n",
              "  <tbody>\n",
              "    <tr>\n",
              "      <th>0</th>\n",
              "      <td>1</td>\n",
              "      <td>44</td>\n",
              "      <td>1</td>\n",
              "      <td>28.0</td>\n",
              "      <td>0</td>\n",
              "      <td>1</td>\n",
              "      <td>40454.0</td>\n",
              "      <td>26.0</td>\n",
              "      <td>217</td>\n",
              "      <td>1</td>\n",
              "      <td>1</td>\n",
              "      <td>0</td>\n",
              "    </tr>\n",
              "    <tr>\n",
              "      <th>1</th>\n",
              "      <td>2</td>\n",
              "      <td>76</td>\n",
              "      <td>1</td>\n",
              "      <td>3.0</td>\n",
              "      <td>0</td>\n",
              "      <td>0</td>\n",
              "      <td>33536.0</td>\n",
              "      <td>26.0</td>\n",
              "      <td>183</td>\n",
              "      <td>0</td>\n",
              "      <td>2</td>\n",
              "      <td>0</td>\n",
              "    </tr>\n",
              "    <tr>\n",
              "      <th>2</th>\n",
              "      <td>3</td>\n",
              "      <td>47</td>\n",
              "      <td>1</td>\n",
              "      <td>28.0</td>\n",
              "      <td>0</td>\n",
              "      <td>1</td>\n",
              "      <td>38294.0</td>\n",
              "      <td>26.0</td>\n",
              "      <td>27</td>\n",
              "      <td>1</td>\n",
              "      <td>1</td>\n",
              "      <td>0</td>\n",
              "    </tr>\n",
              "    <tr>\n",
              "      <th>3</th>\n",
              "      <td>4</td>\n",
              "      <td>21</td>\n",
              "      <td>1</td>\n",
              "      <td>11.0</td>\n",
              "      <td>1</td>\n",
              "      <td>0</td>\n",
              "      <td>28619.0</td>\n",
              "      <td>152.0</td>\n",
              "      <td>203</td>\n",
              "      <td>0</td>\n",
              "      <td>0</td>\n",
              "      <td>0</td>\n",
              "    </tr>\n",
              "    <tr>\n",
              "      <th>4</th>\n",
              "      <td>5</td>\n",
              "      <td>29</td>\n",
              "      <td>1</td>\n",
              "      <td>41.0</td>\n",
              "      <td>1</td>\n",
              "      <td>0</td>\n",
              "      <td>27496.0</td>\n",
              "      <td>152.0</td>\n",
              "      <td>39</td>\n",
              "      <td>0</td>\n",
              "      <td>0</td>\n",
              "      <td>1</td>\n",
              "    </tr>\n",
              "  </tbody>\n",
              "</table>\n",
              "</div>\n",
              "      <button class=\"colab-df-convert\" onclick=\"convertToInteractive('df-bae307f6-b4c7-4586-b6d9-c36ea6b4dcbc')\"\n",
              "              title=\"Convert this dataframe to an interactive table.\"\n",
              "              style=\"display:none;\">\n",
              "        \n",
              "  <svg xmlns=\"http://www.w3.org/2000/svg\" height=\"24px\"viewBox=\"0 0 24 24\"\n",
              "       width=\"24px\">\n",
              "    <path d=\"M0 0h24v24H0V0z\" fill=\"none\"/>\n",
              "    <path d=\"M18.56 5.44l.94 2.06.94-2.06 2.06-.94-2.06-.94-.94-2.06-.94 2.06-2.06.94zm-11 1L8.5 8.5l.94-2.06 2.06-.94-2.06-.94L8.5 2.5l-.94 2.06-2.06.94zm10 10l.94 2.06.94-2.06 2.06-.94-2.06-.94-.94-2.06-.94 2.06-2.06.94z\"/><path d=\"M17.41 7.96l-1.37-1.37c-.4-.4-.92-.59-1.43-.59-.52 0-1.04.2-1.43.59L10.3 9.45l-7.72 7.72c-.78.78-.78 2.05 0 2.83L4 21.41c.39.39.9.59 1.41.59.51 0 1.02-.2 1.41-.59l7.78-7.78 2.81-2.81c.8-.78.8-2.07 0-2.86zM5.41 20L4 18.59l7.72-7.72 1.47 1.35L5.41 20z\"/>\n",
              "  </svg>\n",
              "      </button>\n",
              "      \n",
              "  <style>\n",
              "    .colab-df-container {\n",
              "      display:flex;\n",
              "      flex-wrap:wrap;\n",
              "      gap: 12px;\n",
              "    }\n",
              "\n",
              "    .colab-df-convert {\n",
              "      background-color: #E8F0FE;\n",
              "      border: none;\n",
              "      border-radius: 50%;\n",
              "      cursor: pointer;\n",
              "      display: none;\n",
              "      fill: #1967D2;\n",
              "      height: 32px;\n",
              "      padding: 0 0 0 0;\n",
              "      width: 32px;\n",
              "    }\n",
              "\n",
              "    .colab-df-convert:hover {\n",
              "      background-color: #E2EBFA;\n",
              "      box-shadow: 0px 1px 2px rgba(60, 64, 67, 0.3), 0px 1px 3px 1px rgba(60, 64, 67, 0.15);\n",
              "      fill: #174EA6;\n",
              "    }\n",
              "\n",
              "    [theme=dark] .colab-df-convert {\n",
              "      background-color: #3B4455;\n",
              "      fill: #D2E3FC;\n",
              "    }\n",
              "\n",
              "    [theme=dark] .colab-df-convert:hover {\n",
              "      background-color: #434B5C;\n",
              "      box-shadow: 0px 1px 3px 1px rgba(0, 0, 0, 0.15);\n",
              "      filter: drop-shadow(0px 1px 2px rgba(0, 0, 0, 0.3));\n",
              "      fill: #FFFFFF;\n",
              "    }\n",
              "  </style>\n",
              "\n",
              "      <script>\n",
              "        const buttonEl =\n",
              "          document.querySelector('#df-bae307f6-b4c7-4586-b6d9-c36ea6b4dcbc button.colab-df-convert');\n",
              "        buttonEl.style.display =\n",
              "          google.colab.kernel.accessAllowed ? 'block' : 'none';\n",
              "\n",
              "        async function convertToInteractive(key) {\n",
              "          const element = document.querySelector('#df-bae307f6-b4c7-4586-b6d9-c36ea6b4dcbc');\n",
              "          const dataTable =\n",
              "            await google.colab.kernel.invokeFunction('convertToInteractive',\n",
              "                                                     [key], {});\n",
              "          if (!dataTable) return;\n",
              "\n",
              "          const docLinkHtml = 'Like what you see? Visit the ' +\n",
              "            '<a target=\"_blank\" href=https://colab.research.google.com/notebooks/data_table.ipynb>data table notebook</a>'\n",
              "            + ' to learn more about interactive tables.';\n",
              "          element.innerHTML = '';\n",
              "          dataTable['output_type'] = 'display_data';\n",
              "          await google.colab.output.renderOutput(dataTable, element);\n",
              "          const docLink = document.createElement('div');\n",
              "          docLink.innerHTML = docLinkHtml;\n",
              "          element.appendChild(docLink);\n",
              "        }\n",
              "      </script>\n",
              "    </div>\n",
              "  </div>\n",
              "  "
            ]
          },
          "metadata": {},
          "execution_count": 52
        }
      ]
    },
    {
      "cell_type": "code",
      "source": [],
      "metadata": {
        "id": "_1MEqKkT8yNl"
      },
      "id": "_1MEqKkT8yNl",
      "execution_count": null,
      "outputs": []
    },
    {
      "cell_type": "code",
      "source": [
        "data.shape"
      ],
      "metadata": {
        "colab": {
          "base_uri": "https://localhost:8080/"
        },
        "id": "YxUt_2hTL9O2",
        "outputId": "b24de6ad-0d9e-40b8-d063-a687e167761c"
      },
      "id": "YxUt_2hTL9O2",
      "execution_count": null,
      "outputs": [
        {
          "output_type": "execute_result",
          "data": {
            "text/plain": [
              "(381109, 12)"
            ]
          },
          "metadata": {},
          "execution_count": 14
        }
      ]
    },
    {
      "cell_type": "markdown",
      "source": [
        "## One Hot Encoding"
      ],
      "metadata": {
        "id": "opbwSPVTPyZ3"
      },
      "id": "opbwSPVTPyZ3"
    },
    {
      "cell_type": "code",
      "source": [
        "one_hot_encoded_data = pd.get_dummies(data, columns = ['Policy_Sales_Channel', 'Region_Code'])"
      ],
      "metadata": {
        "id": "rXaZqeiyP3zC"
      },
      "id": "rXaZqeiyP3zC",
      "execution_count": null,
      "outputs": []
    },
    {
      "cell_type": "code",
      "source": [],
      "metadata": {
        "id": "Vrl9sc9oRTDY"
      },
      "id": "Vrl9sc9oRTDY",
      "execution_count": null,
      "outputs": []
    },
    {
      "cell_type": "code",
      "source": [
        "one_hot_encoded_data.columns"
      ],
      "metadata": {
        "colab": {
          "base_uri": "https://localhost:8080/"
        },
        "id": "od_kis2DQkqQ",
        "outputId": "dde10867-e1ba-4cbb-d5c7-4c764ba12d03"
      },
      "id": "od_kis2DQkqQ",
      "execution_count": null,
      "outputs": [
        {
          "output_type": "execute_result",
          "data": {
            "text/plain": [
              "Index(['id', 'Age', 'Driving_License', 'Previously_Insured', 'Vehicle_Damage',\n",
              "       'Annual_Premium', 'Vintage', 'Response', 'Vehicle_Age_1', 'Gender_1',\n",
              "       ...\n",
              "       'Region_Code_43.0', 'Region_Code_44.0', 'Region_Code_45.0',\n",
              "       'Region_Code_46.0', 'Region_Code_47.0', 'Region_Code_48.0',\n",
              "       'Region_Code_49.0', 'Region_Code_50.0', 'Region_Code_51.0',\n",
              "       'Region_Code_52.0'],\n",
              "      dtype='object', length=218)"
            ]
          },
          "metadata": {},
          "execution_count": 26
        }
      ]
    },
    {
      "cell_type": "code",
      "source": [
        "df_final = one_hot_encoded_data[['id', 'Age', 'Driving_License', 'Previously_Insured', 'Vehicle_Damage', 'Annual_Premium', 'Vintage', 'Response', 'Vehicle_Age_1', 'Gender_1', 'Policy_Sales_Channel_152.0','Policy_Sales_Channel_26.0','Policy_Sales_Channel_124.0','Policy_Sales_Channel_160.0','Policy_Sales_Channel_156.0','Policy_Sales_Channel_122.0','Policy_Sales_Channel_157.0','Policy_Sales_Channel_154.0' , 'Region_Code_8.0', 'Region_Code_46.0','Region_Code_41.0','Region_Code_15.0','Region_Code_30.0', 'Region_Code_29.0', 'Region_Code_50.0' ]]"
      ],
      "metadata": {
        "id": "2lZOd5gZQ4Ga"
      },
      "id": "2lZOd5gZQ4Ga",
      "execution_count": null,
      "outputs": []
    },
    {
      "cell_type": "code",
      "source": [
        "df_final['Policy_Sales_Channel_152_26_124'] = df_final['Policy_Sales_Channel_152.0'] +df_final['Policy_Sales_Channel_26.0'] + df_final['Policy_Sales_Channel_124.0']"
      ],
      "metadata": {
        "id": "9YFEnvVLWXyT"
      },
      "id": "9YFEnvVLWXyT",
      "execution_count": null,
      "outputs": []
    },
    {
      "cell_type": "code",
      "source": [
        "df_final.head()"
      ],
      "metadata": {
        "id": "OqyrjEcdWskD"
      },
      "id": "OqyrjEcdWskD",
      "execution_count": null,
      "outputs": []
    },
    {
      "cell_type": "markdown",
      "source": [
        "## Understanding the correlation heatmap after one hot encoding."
      ],
      "metadata": {
        "id": "VQ_RY76gTv9H"
      },
      "id": "VQ_RY76gTv9H"
    },
    {
      "cell_type": "code",
      "source": [
        "df_final =df_final.drop(['Policy_Sales_Channel_160.0'], axis=1)"
      ],
      "metadata": {
        "id": "XbqtLmzNUC5q"
      },
      "id": "XbqtLmzNUC5q",
      "execution_count": null,
      "outputs": []
    },
    {
      "cell_type": "code",
      "source": [
        "df_final.shape"
      ],
      "metadata": {
        "colab": {
          "base_uri": "https://localhost:8080/"
        },
        "id": "KdTSu3cmT4c3",
        "outputId": "395a65a8-1401-4e1f-a03b-70d0997f0f69"
      },
      "id": "KdTSu3cmT4c3",
      "execution_count": null,
      "outputs": [
        {
          "output_type": "execute_result",
          "data": {
            "text/plain": [
              "(381109, 18)"
            ]
          },
          "metadata": {},
          "execution_count": 62
        }
      ]
    },
    {
      "cell_type": "code",
      "source": [
        "corr_df_final = df_final.corr()"
      ],
      "metadata": {
        "id": "vQDYWpcHT4Zf"
      },
      "id": "vQDYWpcHT4Zf",
      "execution_count": null,
      "outputs": []
    },
    {
      "cell_type": "code",
      "source": [
        "sns.heatmap(corr_df_final)"
      ],
      "metadata": {
        "colab": {
          "base_uri": "https://localhost:8080/",
          "height": 449
        },
        "id": "GbCnkocST3iq",
        "outputId": "90959945-9b9d-4759-a172-aa1abf6b485a"
      },
      "id": "GbCnkocST3iq",
      "execution_count": null,
      "outputs": [
        {
          "output_type": "execute_result",
          "data": {
            "text/plain": [
              "<AxesSubplot:>"
            ]
          },
          "metadata": {},
          "execution_count": 64
        },
        {
          "output_type": "display_data",
          "data": {
            "text/plain": [
              "<Figure size 432x288 with 2 Axes>"
            ],
            "image/png": "[encoded data removed]"
          },
          "metadata": {
            "needs_background": "light"
          }
        }
      ]
    },
    {
      "cell_type": "code",
      "source": [
        "X = df_final\n",
        "calc_vif(X)\n"
      ],
      "metadata": {
        "colab": {
          "base_uri": "https://localhost:8080/",
          "height": 613
        },
        "id": "6O0otcWEXg6v",
        "outputId": "e509e890-ee93-4f3c-99a7-99fc898861a0"
      },
      "id": "6O0otcWEXg6v",
      "execution_count": null,
      "outputs": [
        {
          "output_type": "execute_result",
          "data": {
            "text/plain": [
              "                          variables       VIF\n",
              "0                                id  3.512936\n",
              "1                               Age  5.552125\n",
              "2                    Annual_Premium  4.083448\n",
              "3                           Vintage  3.790596\n",
              "4                          Response  1.169828\n",
              "5                          Gender_1  1.759219\n",
              "6        Policy_Sales_Channel_156.0  1.139704\n",
              "7        Policy_Sales_Channel_122.0  1.185283\n",
              "8        Policy_Sales_Channel_157.0  1.094997\n",
              "9        Policy_Sales_Channel_154.0  1.078910\n",
              "10                  Region_Code_8.0  1.141663\n",
              "11                 Region_Code_46.0  1.066367\n",
              "12                 Region_Code_41.0  1.067062\n",
              "13                 Region_Code_15.0  1.047861\n",
              "14                 Region_Code_30.0  1.046982\n",
              "15                 Region_Code_29.0  1.043254\n",
              "16                 Region_Code_50.0  1.037855\n",
              "17  Policy_Sales_Channel_152_26_124  4.711087"
            ],
            "text/html": [
              "\n",
              "  <div id=\"df-d876805d-dcc7-4864-89d6-f514d02a354b\">\n",
              "    <div class=\"colab-df-container\">\n",
              "      <div>\n",
              "<style scoped>\n",
              "    .dataframe tbody tr th:only-of-type {\n",
              "        vertical-align: middle;\n",
              "    }\n",
              "\n",
              "    .dataframe tbody tr th {\n",
              "        vertical-align: top;\n",
              "    }\n",
              "\n",
              "    .dataframe thead th {\n",
              "        text-align: right;\n",
              "    }\n",
              "</style>\n",
              "<table border=\"1\" class=\"dataframe\">\n",
              "  <thead>\n",
              "    <tr style=\"text-align: right;\">\n",
              "      <th></th>\n",
              "      <th>variables</th>\n",
              "      <th>VIF</th>\n",
              "    </tr>\n",
              "  </thead>\n",
              "  <tbody>\n",
              "    <tr>\n",
              "      <th>0</th>\n",
              "      <td>id</td>\n",
              "      <td>3.512936</td>\n",
              "    </tr>\n",
              "    <tr>\n",
              "      <th>1</th>\n",
              "      <td>Age</td>\n",
              "      <td>5.552125</td>\n",
              "    </tr>\n",
              "    <tr>\n",
              "      <th>2</th>\n",
              "      <td>Annual_Premium</td>\n",
              "      <td>4.083448</td>\n",
              "    </tr>\n",
              "    <tr>\n",
              "      <th>3</th>\n",
              "      <td>Vintage</td>\n",
              "      <td>3.790596</td>\n",
              "    </tr>\n",
              "    <tr>\n",
              "      <th>4</th>\n",
              "      <td>Response</td>\n",
              "      <td>1.169828</td>\n",
              "    </tr>\n",
              "    <tr>\n",
              "      <th>5</th>\n",
              "      <td>Gender_1</td>\n",
              "      <td>1.759219</td>\n",
              "    </tr>\n",
              "    <tr>\n",
              "      <th>6</th>\n",
              "      <td>Policy_Sales_Channel_156.0</td>\n",
              "      <td>1.139704</td>\n",
              "    </tr>\n",
              "    <tr>\n",
              "      <th>7</th>\n",
              "      <td>Policy_Sales_Channel_122.0</td>\n",
              "      <td>1.185283</td>\n",
              "    </tr>\n",
              "    <tr>\n",
              "      <th>8</th>\n",
              "      <td>Policy_Sales_Channel_157.0</td>\n",
              "      <td>1.094997</td>\n",
              "    </tr>\n",
              "    <tr>\n",
              "      <th>9</th>\n",
              "      <td>Policy_Sales_Channel_154.0</td>\n",
              "      <td>1.078910</td>\n",
              "    </tr>\n",
              "    <tr>\n",
              "      <th>10</th>\n",
              "      <td>Region_Code_8.0</td>\n",
              "      <td>1.141663</td>\n",
              "    </tr>\n",
              "    <tr>\n",
              "      <th>11</th>\n",
              "      <td>Region_Code_46.0</td>\n",
              "      <td>1.066367</td>\n",
              "    </tr>\n",
              "    <tr>\n",
              "      <th>12</th>\n",
              "      <td>Region_Code_41.0</td>\n",
              "      <td>1.067062</td>\n",
              "    </tr>\n",
              "    <tr>\n",
              "      <th>13</th>\n",
              "      <td>Region_Code_15.0</td>\n",
              "      <td>1.047861</td>\n",
              "    </tr>\n",
              "    <tr>\n",
              "      <th>14</th>\n",
              "      <td>Region_Code_30.0</td>\n",
              "      <td>1.046982</td>\n",
              "    </tr>\n",
              "    <tr>\n",
              "      <th>15</th>\n",
              "      <td>Region_Code_29.0</td>\n",
              "      <td>1.043254</td>\n",
              "    </tr>\n",
              "    <tr>\n",
              "      <th>16</th>\n",
              "      <td>Region_Code_50.0</td>\n",
              "      <td>1.037855</td>\n",
              "    </tr>\n",
              "    <tr>\n",
              "      <th>17</th>\n",
              "      <td>Policy_Sales_Channel_152_26_124</td>\n",
              "      <td>4.711087</td>\n",
              "    </tr>\n",
              "  </tbody>\n",
              "</table>\n",
              "</div>\n",
              "      <button class=\"colab-df-convert\" onclick=\"convertToInteractive('df-d876805d-dcc7-4864-89d6-f514d02a354b')\"\n",
              "              title=\"Convert this dataframe to an interactive table.\"\n",
              "              style=\"display:none;\">\n",
              "        \n",
              "  <svg xmlns=\"http://www.w3.org/2000/svg\" height=\"24px\"viewBox=\"0 0 24 24\"\n",
              "       width=\"24px\">\n",
              "    <path d=\"M0 0h24v24H0V0z\" fill=\"none\"/>\n",
              "    <path d=\"M18.56 5.44l.94 2.06.94-2.06 2.06-.94-2.06-.94-.94-2.06-.94 2.06-2.06.94zm-11 1L8.5 8.5l.94-2.06 2.06-.94-2.06-.94L8.5 2.5l-.94 2.06-2.06.94zm10 10l.94 2.06.94-2.06 2.06-.94-2.06-.94-.94-2.06-.94 2.06-2.06.94z\"/><path d=\"M17.41 7.96l-1.37-1.37c-.4-.4-.92-.59-1.43-.59-.52 0-1.04.2-1.43.59L10.3 9.45l-7.72 7.72c-.78.78-.78 2.05 0 2.83L4 21.41c.39.39.9.59 1.41.59.51 0 1.02-.2 1.41-.59l7.78-7.78 2.81-2.81c.8-.78.8-2.07 0-2.86zM5.41 20L4 18.59l7.72-7.72 1.47 1.35L5.41 20z\"/>\n",
              "  </svg>\n",
              "      </button>\n",
              "      \n",
              "  <style>\n",
              "    .colab-df-container {\n",
              "      display:flex;\n",
              "      flex-wrap:wrap;\n",
              "      gap: 12px;\n",
              "    }\n",
              "\n",
              "    .colab-df-convert {\n",
              "      background-color: #E8F0FE;\n",
              "      border: none;\n",
              "      border-radius: 50%;\n",
              "      cursor: pointer;\n",
              "      display: none;\n",
              "      fill: #1967D2;\n",
              "      height: 32px;\n",
              "      padding: 0 0 0 0;\n",
              "      width: 32px;\n",
              "    }\n",
              "\n",
              "    .colab-df-convert:hover {\n",
              "      background-color: #E2EBFA;\n",
              "      box-shadow: 0px 1px 2px rgba(60, 64, 67, 0.3), 0px 1px 3px 1px rgba(60, 64, 67, 0.15);\n",
              "      fill: #174EA6;\n",
              "    }\n",
              "\n",
              "    [theme=dark] .colab-df-convert {\n",
              "      background-color: #3B4455;\n",
              "      fill: #D2E3FC;\n",
              "    }\n",
              "\n",
              "    [theme=dark] .colab-df-convert:hover {\n",
              "      background-color: #434B5C;\n",
              "      box-shadow: 0px 1px 3px 1px rgba(0, 0, 0, 0.15);\n",
              "      filter: drop-shadow(0px 1px 2px rgba(0, 0, 0, 0.3));\n",
              "      fill: #FFFFFF;\n",
              "    }\n",
              "  </style>\n",
              "\n",
              "      <script>\n",
              "        const buttonEl =\n",
              "          document.querySelector('#df-d876805d-dcc7-4864-89d6-f514d02a354b button.colab-df-convert');\n",
              "        buttonEl.style.display =\n",
              "          google.colab.kernel.accessAllowed ? 'block' : 'none';\n",
              "\n",
              "        async function convertToInteractive(key) {\n",
              "          const element = document.querySelector('#df-d876805d-dcc7-4864-89d6-f514d02a354b');\n",
              "          const dataTable =\n",
              "            await google.colab.kernel.invokeFunction('convertToInteractive',\n",
              "                                                     [key], {});\n",
              "          if (!dataTable) return;\n",
              "\n",
              "          const docLinkHtml = 'Like what you see? Visit the ' +\n",
              "            '<a target=\"_blank\" href=https://colab.research.google.com/notebooks/data_table.ipynb>data table notebook</a>'\n",
              "            + ' to learn more about interactive tables.';\n",
              "          element.innerHTML = '';\n",
              "          dataTable['output_type'] = 'display_data';\n",
              "          await google.colab.output.renderOutput(dataTable, element);\n",
              "          const docLink = document.createElement('div');\n",
              "          docLink.innerHTML = docLinkHtml;\n",
              "          element.appendChild(docLink);\n",
              "        }\n",
              "      </script>\n",
              "    </div>\n",
              "  </div>\n",
              "  "
            ]
          },
          "metadata": {},
          "execution_count": 65
        }
      ]
    },
    {
      "cell_type": "code",
      "source": [
        "sns.barplot(y='Age', x='Policy_Sales_Channel_152.0', data=df_final)"
      ],
      "metadata": {
        "colab": {
          "base_uri": "https://localhost:8080/",
          "height": 297
        },
        "id": "yFjC_Wb_VVSl",
        "outputId": "e1d1837c-74a7-4e5c-9c49-c5881c86ad10"
      },
      "id": "yFjC_Wb_VVSl",
      "execution_count": null,
      "outputs": [
        {
          "output_type": "execute_result",
          "data": {
            "text/plain": [
              "<AxesSubplot:xlabel='Policy_Sales_Channel_152.0', ylabel='Age'>"
            ]
          },
          "metadata": {},
          "execution_count": 42
        },
        {
          "output_type": "display_data",
          "data": {
            "text/plain": [
              "<Figure size 432x288 with 1 Axes>"
            ],
            "image/png": "[encoded data removed]"
          },
          "metadata": {
            "needs_background": "light"
          }
        }
      ]
    },
    {
      "cell_type": "markdown",
      "source": [
        "# Modelling"
      ],
      "metadata": {
        "id": "dqCyzpLxY3O_"
      },
      "id": "dqCyzpLxY3O_"
    },
    {
      "cell_type": "markdown",
      "source": [
        "## Scaling"
      ],
      "metadata": {
        "id": "0OCAM_1rZkWO"
      },
      "id": "0OCAM_1rZkWO"
    },
    {
      "cell_type": "code",
      "source": [
        "df_final.info()"
      ],
      "metadata": {
        "colab": {
          "base_uri": "https://localhost:8080/"
        },
        "id": "fXuyhYSaZp-D",
        "outputId": "cf117552-ebd8-40d6-c517-b431767ba498"
      },
      "id": "fXuyhYSaZp-D",
      "execution_count": null,
      "outputs": [
        {
          "output_type": "stream",
          "name": "stdout",
          "text": [
            "<class 'pandas.core.frame.DataFrame'>\n",
            "RangeIndex: 381109 entries, 0 to 381108\n",
            "Data columns (total 18 columns):\n",
            " #   Column                           Non-Null Count   Dtype  \n",
            "---  ------                           --------------   -----  \n",
            " 0   id                               381109 non-null  int64  \n",
            " 1   Age                              381109 non-null  int64  \n",
            " 2   Annual_Premium                   381109 non-null  float64\n",
            " 3   Vintage                          381109 non-null  int64  \n",
            " 4   Response                         381109 non-null  int64  \n",
            " 5   Gender_1                         381109 non-null  int64  \n",
            " 6   Policy_Sales_Channel_156.0       381109 non-null  uint8  \n",
            " 7   Policy_Sales_Channel_122.0       381109 non-null  uint8  \n",
            " 8   Policy_Sales_Channel_157.0       381109 non-null  uint8  \n",
            " 9   Policy_Sales_Channel_154.0       381109 non-null  uint8  \n",
            " 10  Region_Code_8.0                  381109 non-null  uint8  \n",
            " 11  Region_Code_46.0                 381109 non-null  uint8  \n",
            " 12  Region_Code_41.0                 381109 non-null  uint8  \n",
            " 13  Region_Code_15.0                 381109 non-null  uint8  \n",
            " 14  Region_Code_30.0                 381109 non-null  uint8  \n",
            " 15  Region_Code_29.0                 381109 non-null  uint8  \n",
            " 16  Region_Code_50.0                 381109 non-null  uint8  \n",
            " 17  Policy_Sales_Channel_152_26_124  381109 non-null  uint8  \n",
            "dtypes: float64(1), int64(5), uint8(12)\n",
            "memory usage: 21.8 MB\n"
          ]
        }
      ]
    },
    {
      "cell_type": "code",
      "source": [],
      "metadata": {
        "id": "OcC33hLHaXj7"
      },
      "id": "OcC33hLHaXj7",
      "execution_count": null,
      "outputs": []
    },
    {
      "cell_type": "code",
      "source": [
        "numerical_cols = ['Age', 'Annual_Premium', 'Vintage', ] \n",
        "sc = StandardScaler()\n",
        "df_final[numerical_cols] = sc.fit_transform(df_final[numerical_cols])"
      ],
      "metadata": {
        "id": "RbXiry76XZuv"
      },
      "id": "RbXiry76XZuv",
      "execution_count": null,
      "outputs": []
    },
    {
      "cell_type": "code",
      "source": [
        "df_final.head()"
      ],
      "metadata": {
        "colab": {
          "base_uri": "https://localhost:8080/",
          "height": 270
        },
        "id": "4UbkxRVAakvp",
        "outputId": "f9b6885e-023f-44a7-f934-5678d03c99e5"
      },
      "id": "4UbkxRVAakvp",
      "execution_count": null,
      "outputs": [
        {
          "output_type": "execute_result",
          "data": {
            "text/plain": [
              "   id       Age  Annual_Premium   Vintage  Response  Gender_1  \\\n",
              "0   1  0.333777        0.574539  0.748795         1         0   \n",
              "1   2  2.396751        0.172636  0.342443         0         0   \n",
              "2   3  0.527181        0.449053 -1.521998         1         0   \n",
              "3   4 -1.148985       -0.113018  0.581474         0         0   \n",
              "4   5 -0.633242       -0.178259 -1.378580         0         1   \n",
              "\n",
              "   Policy_Sales_Channel_156.0  Policy_Sales_Channel_122.0  \\\n",
              "0                           0                           0   \n",
              "1                           0                           0   \n",
              "2                           0                           0   \n",
              "3                           0                           0   \n",
              "4                           0                           0   \n",
              "\n",
              "   Policy_Sales_Channel_157.0  Policy_Sales_Channel_154.0  Region_Code_8.0  \\\n",
              "0                           0                           0                0   \n",
              "1                           0                           0                0   \n",
              "2                           0                           0                0   \n",
              "3                           0                           0                0   \n",
              "4                           0                           0                0   \n",
              "\n",
              "   Region_Code_46.0  Region_Code_41.0  Region_Code_15.0  Region_Code_30.0  \\\n",
              "0                 0                 0                 0                 0   \n",
              "1                 0                 0                 0                 0   \n",
              "2                 0                 0                 0                 0   \n",
              "3                 0                 0                 0                 0   \n",
              "4                 0                 1                 0                 0   \n",
              "\n",
              "   Region_Code_29.0  Region_Code_50.0  Policy_Sales_Channel_152_26_124  \n",
              "0                 0                 0                                1  \n",
              "1                 0                 0                                1  \n",
              "2                 0                 0                                1  \n",
              "3                 0                 0                                1  \n",
              "4                 0                 0                                1  "
            ],
            "text/html": [
              "\n",
              "  <div id=\"df-b4463ab7-5c9e-49d2-baef-48e51306cbb7\">\n",
              "    <div class=\"colab-df-container\">\n",
              "      <div>\n",
              "<style scoped>\n",
              "    .dataframe tbody tr th:only-of-type {\n",
              "        vertical-align: middle;\n",
              "    }\n",
              "\n",
              "    .dataframe tbody tr th {\n",
              "        vertical-align: top;\n",
              "    }\n",
              "\n",
              "    .dataframe thead th {\n",
              "        text-align: right;\n",
              "    }\n",
              "</style>\n",
              "<table border=\"1\" class=\"dataframe\">\n",
              "  <thead>\n",
              "    <tr style=\"text-align: right;\">\n",
              "      <th></th>\n",
              "      <th>id</th>\n",
              "      <th>Age</th>\n",
              "      <th>Annual_Premium</th>\n",
              "      <th>Vintage</th>\n",
              "      <th>Response</th>\n",
              "      <th>Gender_1</th>\n",
              "      <th>Policy_Sales_Channel_156.0</th>\n",
              "      <th>Policy_Sales_Channel_122.0</th>\n",
              "      <th>Policy_Sales_Channel_157.0</th>\n",
              "      <th>Policy_Sales_Channel_154.0</th>\n",
              "      <th>Region_Code_8.0</th>\n",
              "      <th>Region_Code_46.0</th>\n",
              "      <th>Region_Code_41.0</th>\n",
              "      <th>Region_Code_15.0</th>\n",
              "      <th>Region_Code_30.0</th>\n",
              "      <th>Region_Code_29.0</th>\n",
              "      <th>Region_Code_50.0</th>\n",
              "      <th>Policy_Sales_Channel_152_26_124</th>\n",
              "    </tr>\n",
              "  </thead>\n",
              "  <tbody>\n",
              "    <tr>\n",
              "      <th>0</th>\n",
              "      <td>1</td>\n",
              "      <td>0.333777</td>\n",
              "      <td>0.574539</td>\n",
              "      <td>0.748795</td>\n",
              "      <td>1</td>\n",
              "      <td>0</td>\n",
              "      <td>0</td>\n",
              "      <td>0</td>\n",
              "      <td>0</td>\n",
              "      <td>0</td>\n",
              "      <td>0</td>\n",
              "      <td>0</td>\n",
              "      <td>0</td>\n",
              "      <td>0</td>\n",
              "      <td>0</td>\n",
              "      <td>0</td>\n",
              "      <td>0</td>\n",
              "      <td>1</td>\n",
              "    </tr>\n",
              "    <tr>\n",
              "      <th>1</th>\n",
              "      <td>2</td>\n",
              "      <td>2.396751</td>\n",
              "      <td>0.172636</td>\n",
              "      <td>0.342443</td>\n",
              "      <td>0</td>\n",
              "      <td>0</td>\n",
              "      <td>0</td>\n",
              "      <td>0</td>\n",
              "      <td>0</td>\n",
              "      <td>0</td>\n",
              "      <td>0</td>\n",
              "      <td>0</td>\n",
              "      <td>0</td>\n",
              "      <td>0</td>\n",
              "      <td>0</td>\n",
              "      <td>0</td>\n",
              "      <td>0</td>\n",
              "      <td>1</td>\n",
              "    </tr>\n",
              "    <tr>\n",
              "      <th>2</th>\n",
              "      <td>3</td>\n",
              "      <td>0.527181</td>\n",
              "      <td>0.449053</td>\n",
              "      <td>-1.521998</td>\n",
              "      <td>1</td>\n",
              "      <td>0</td>\n",
              "      <td>0</td>\n",
              "      <td>0</td>\n",
              "      <td>0</td>\n",
              "      <td>0</td>\n",
              "      <td>0</td>\n",
              "      <td>0</td>\n",
              "      <td>0</td>\n",
              "      <td>0</td>\n",
              "      <td>0</td>\n",
              "      <td>0</td>\n",
              "      <td>0</td>\n",
              "      <td>1</td>\n",
              "    </tr>\n",
              "    <tr>\n",
              "      <th>3</th>\n",
              "      <td>4</td>\n",
              "      <td>-1.148985</td>\n",
              "      <td>-0.113018</td>\n",
              "      <td>0.581474</td>\n",
              "      <td>0</td>\n",
              "      <td>0</td>\n",
              "      <td>0</td>\n",
              "      <td>0</td>\n",
              "      <td>0</td>\n",
              "      <td>0</td>\n",
              "      <td>0</td>\n",
              "      <td>0</td>\n",
              "      <td>0</td>\n",
              "      <td>0</td>\n",
              "      <td>0</td>\n",
              "      <td>0</td>\n",
              "      <td>0</td>\n",
              "      <td>1</td>\n",
              "    </tr>\n",
              "    <tr>\n",
              "      <th>4</th>\n",
              "      <td>5</td>\n",
              "      <td>-0.633242</td>\n",
              "      <td>-0.178259</td>\n",
              "      <td>-1.378580</td>\n",
              "      <td>0</td>\n",
              "      <td>1</td>\n",
              "      <td>0</td>\n",
              "      <td>0</td>\n",
              "      <td>0</td>\n",
              "      <td>0</td>\n",
              "      <td>0</td>\n",
              "      <td>0</td>\n",
              "      <td>1</td>\n",
              "      <td>0</td>\n",
              "      <td>0</td>\n",
              "      <td>0</td>\n",
              "      <td>0</td>\n",
              "      <td>1</td>\n",
              "    </tr>\n",
              "  </tbody>\n",
              "</table>\n",
              "</div>\n",
              "      <button class=\"colab-df-convert\" onclick=\"convertToInteractive('df-b4463ab7-5c9e-49d2-baef-48e51306cbb7')\"\n",
              "              title=\"Convert this dataframe to an interactive table.\"\n",
              "              style=\"display:none;\">\n",
              "        \n",
              "  <svg xmlns=\"http://www.w3.org/2000/svg\" height=\"24px\"viewBox=\"0 0 24 24\"\n",
              "       width=\"24px\">\n",
              "    <path d=\"M0 0h24v24H0V0z\" fill=\"none\"/>\n",
              "    <path d=\"M18.56 5.44l.94 2.06.94-2.06 2.06-.94-2.06-.94-.94-2.06-.94 2.06-2.06.94zm-11 1L8.5 8.5l.94-2.06 2.06-.94-2.06-.94L8.5 2.5l-.94 2.06-2.06.94zm10 10l.94 2.06.94-2.06 2.06-.94-2.06-.94-.94-2.06-.94 2.06-2.06.94z\"/><path d=\"M17.41 7.96l-1.37-1.37c-.4-.4-.92-.59-1.43-.59-.52 0-1.04.2-1.43.59L10.3 9.45l-7.72 7.72c-.78.78-.78 2.05 0 2.83L4 21.41c.39.39.9.59 1.41.59.51 0 1.02-.2 1.41-.59l7.78-7.78 2.81-2.81c.8-.78.8-2.07 0-2.86zM5.41 20L4 18.59l7.72-7.72 1.47 1.35L5.41 20z\"/>\n",
              "  </svg>\n",
              "      </button>\n",
              "      \n",
              "  <style>\n",
              "    .colab-df-container {\n",
              "      display:flex;\n",
              "      flex-wrap:wrap;\n",
              "      gap: 12px;\n",
              "    }\n",
              "\n",
              "    .colab-df-convert {\n",
              "      background-color: #E8F0FE;\n",
              "      border: none;\n",
              "      border-radius: 50%;\n",
              "      cursor: pointer;\n",
              "      display: none;\n",
              "      fill: #1967D2;\n",
              "      height: 32px;\n",
              "      padding: 0 0 0 0;\n",
              "      width: 32px;\n",
              "    }\n",
              "\n",
              "    .colab-df-convert:hover {\n",
              "      background-color: #E2EBFA;\n",
              "      box-shadow: 0px 1px 2px rgba(60, 64, 67, 0.3), 0px 1px 3px 1px rgba(60, 64, 67, 0.15);\n",
              "      fill: #174EA6;\n",
              "    }\n",
              "\n",
              "    [theme=dark] .colab-df-convert {\n",
              "      background-color: #3B4455;\n",
              "      fill: #D2E3FC;\n",
              "    }\n",
              "\n",
              "    [theme=dark] .colab-df-convert:hover {\n",
              "      background-color: #434B5C;\n",
              "      box-shadow: 0px 1px 3px 1px rgba(0, 0, 0, 0.15);\n",
              "      filter: drop-shadow(0px 1px 2px rgba(0, 0, 0, 0.3));\n",
              "      fill: #FFFFFF;\n",
              "    }\n",
              "  </style>\n",
              "\n",
              "      <script>\n",
              "        const buttonEl =\n",
              "          document.querySelector('#df-b4463ab7-5c9e-49d2-baef-48e51306cbb7 button.colab-df-convert');\n",
              "        buttonEl.style.display =\n",
              "          google.colab.kernel.accessAllowed ? 'block' : 'none';\n",
              "\n",
              "        async function convertToInteractive(key) {\n",
              "          const element = document.querySelector('#df-b4463ab7-5c9e-49d2-baef-48e51306cbb7');\n",
              "          const dataTable =\n",
              "            await google.colab.kernel.invokeFunction('convertToInteractive',\n",
              "                                                     [key], {});\n",
              "          if (!dataTable) return;\n",
              "\n",
              "          const docLinkHtml = 'Like what you see? Visit the ' +\n",
              "            '<a target=\"_blank\" href=https://colab.research.google.com/notebooks/data_table.ipynb>data table notebook</a>'\n",
              "            + ' to learn more about interactive tables.';\n",
              "          element.innerHTML = '';\n",
              "          dataTable['output_type'] = 'display_data';\n",
              "          await google.colab.output.renderOutput(dataTable, element);\n",
              "          const docLink = document.createElement('div');\n",
              "          docLink.innerHTML = docLinkHtml;\n",
              "          element.appendChild(docLink);\n",
              "        }\n",
              "      </script>\n",
              "    </div>\n",
              "  </div>\n",
              "  "
            ]
          },
          "metadata": {},
          "execution_count": 71
        }
      ]
    },
    {
      "cell_type": "code",
      "source": [
        "df_final.columns"
      ],
      "metadata": {
        "colab": {
          "base_uri": "https://localhost:8080/"
        },
        "id": "mPpRZwT2dvor",
        "outputId": "e9c453e7-519b-4e02-b808-8adc03dcf67d"
      },
      "id": "mPpRZwT2dvor",
      "execution_count": null,
      "outputs": [
        {
          "output_type": "execute_result",
          "data": {
            "text/plain": [
              "Index(['id', 'Age', 'Annual_Premium', 'Vintage', 'Response', 'Gender_1',\n",
              "       'Policy_Sales_Channel_156.0', 'Policy_Sales_Channel_122.0',\n",
              "       'Policy_Sales_Channel_157.0', 'Policy_Sales_Channel_154.0',\n",
              "       'Region_Code_8.0', 'Region_Code_46.0', 'Region_Code_41.0',\n",
              "       'Region_Code_15.0', 'Region_Code_30.0', 'Region_Code_29.0',\n",
              "       'Region_Code_50.0', 'Policy_Sales_Channel_152_26_124'],\n",
              "      dtype='object')"
            ]
          },
          "metadata": {},
          "execution_count": 73
        }
      ]
    },
    {
      "cell_type": "markdown",
      "source": [
        "## train test split"
      ],
      "metadata": {
        "id": "nPxJ4vUlfWqS"
      },
      "id": "nPxJ4vUlfWqS"
    },
    {
      "cell_type": "code",
      "source": [
        "X = df_final[['Age', 'Annual_Premium', 'Vintage', 'Gender_1', 'Policy_Sales_Channel_156.0', 'Policy_Sales_Channel_122.0', 'Policy_Sales_Channel_157.0', 'Policy_Sales_Channel_154.0','Region_Code_8.0', 'Region_Code_46.0', 'Region_Code_41.0','Region_Code_15.0', 'Region_Code_30.0', 'Region_Code_29.0','Region_Code_50.0', 'Policy_Sales_Channel_152_26_124']]"
      ],
      "metadata": {
        "id": "DZTl1qoQavJb"
      },
      "id": "DZTl1qoQavJb",
      "execution_count": null,
      "outputs": []
    },
    {
      "cell_type": "code",
      "source": [
        "y = df_final[['Response']]"
      ],
      "metadata": {
        "id": "Bo3d1JSqef2d"
      },
      "id": "Bo3d1JSqef2d",
      "execution_count": null,
      "outputs": []
    },
    {
      "cell_type": "code",
      "source": [
        "len(y)"
      ],
      "metadata": {
        "colab": {
          "base_uri": "https://localhost:8080/"
        },
        "id": "QsqbEb-Ti0wv",
        "outputId": "1e75ee23-d583-455c-ec47-bb7d588612fd"
      },
      "id": "QsqbEb-Ti0wv",
      "execution_count": null,
      "outputs": [
        {
          "output_type": "execute_result",
          "data": {
            "text/plain": [
              "381109"
            ]
          },
          "metadata": {},
          "execution_count": 97
        }
      ]
    },
    {
      "cell_type": "code",
      "source": [
        "X_train1, X_test1, y_train1, y_test1 = train_test_split(X,y,test_size=0.3, random_state=5, stratify=y)"
      ],
      "metadata": {
        "id": "PQeeFZISelP8"
      },
      "id": "PQeeFZISelP8",
      "execution_count": null,
      "outputs": []
    },
    {
      "cell_type": "markdown",
      "source": [
        "## Decision Tree classifier"
      ],
      "metadata": {
        "id": "yhMqTId1gMM1"
      },
      "id": "yhMqTId1gMM1"
    },
    {
      "cell_type": "code",
      "source": [
        "len(X_train1)"
      ],
      "metadata": {
        "colab": {
          "base_uri": "https://localhost:8080/"
        },
        "id": "baoccUA9icuh",
        "outputId": "19393cf3-4a68-4466-a334-0e460685d24a"
      },
      "id": "baoccUA9icuh",
      "execution_count": null,
      "outputs": [
        {
          "output_type": "execute_result",
          "data": {
            "text/plain": [
              "266776"
            ]
          },
          "metadata": {},
          "execution_count": 99
        }
      ]
    },
    {
      "cell_type": "code",
      "source": [
        "len(y_test1)"
      ],
      "metadata": {
        "colab": {
          "base_uri": "https://localhost:8080/"
        },
        "id": "mI6kmQO2iUxs",
        "outputId": "15591a2f-fdac-45b9-aa0d-db28cac6d43f"
      },
      "id": "mI6kmQO2iUxs",
      "execution_count": null,
      "outputs": [
        {
          "output_type": "execute_result",
          "data": {
            "text/plain": [
              "114333"
            ]
          },
          "metadata": {},
          "execution_count": 100
        }
      ]
    },
    {
      "cell_type": "code",
      "source": [
        "model = DecisionTreeClassifier(random_state=0)\n",
        "model.fit(X_train1, y_train1)"
      ],
      "metadata": {
        "colab": {
          "base_uri": "https://localhost:8080/",
          "height": 74
        },
        "id": "YcBzJKpBgPHv",
        "outputId": "75cf8827-6079-4502-bac3-015de29575ac"
      },
      "id": "YcBzJKpBgPHv",
      "execution_count": null,
      "outputs": [
        {
          "output_type": "execute_result",
          "data": {
            "text/plain": [
              "DecisionTreeClassifier(random_state=0)"
            ],
            "text/html": [
              "<style>#sk-container-id-2 {color: black;background-color: white;}#sk-container-id-2 pre{padding: 0;}#sk-container-id-2 div.sk-toggleable {background-color: white;}#sk-container-id-2 label.sk-toggleable__label {cursor: pointer;display: block;width: 100%;margin-bottom: 0;padding: 0.3em;box-sizing: border-box;text-align: center;}#sk-container-id-2 label.sk-toggleable__label-arrow:before {content: \"▸\";float: left;margin-right: 0.25em;color: #696969;}#sk-container-id-2 label.sk-toggleable__label-arrow:hover:before {color: black;}#sk-container-id-2 div.sk-estimator:hover label.sk-toggleable__label-arrow:before {color: black;}#sk-container-id-2 div.sk-toggleable__content {max-height: 0;max-width: 0;overflow: hidden;text-align: left;background-color: #f0f8ff;}#sk-container-id-2 div.sk-toggleable__content pre {margin: 0.2em;color: black;border-radius: 0.25em;background-color: #f0f8ff;}#sk-container-id-2 input.sk-toggleable__control:checked~div.sk-toggleable__content {max-height: 200px;max-width: 100%;overflow: auto;}#sk-container-id-2 input.sk-toggleable__control:checked~label.sk-toggleable__label-arrow:before {content: \"▾\";}#sk-container-id-2 div.sk-estimator input.sk-toggleable__control:checked~label.sk-toggleable__label {background-color: #d4ebff;}#sk-container-id-2 div.sk-label input.sk-toggleable__control:checked~label.sk-toggleable__label {background-color: #d4ebff;}#sk-container-id-2 input.sk-hidden--visually {border: 0;clip: rect(1px 1px 1px 1px);clip: rect(1px, 1px, 1px, 1px);height: 1px;margin: -1px;overflow: hidden;padding: 0;position: absolute;width: 1px;}#sk-container-id-2 div.sk-estimator {font-family: monospace;background-color: #f0f8ff;border: 1px dotted black;border-radius: 0.25em;box-sizing: border-box;margin-bottom: 0.5em;}#sk-container-id-2 div.sk-estimator:hover {background-color: #d4ebff;}#sk-container-id-2 div.sk-parallel-item::after {content: \"\";width: 100%;border-bottom: 1px solid gray;flex-grow: 1;}#sk-container-id-2 div.sk-label:hover label.sk-toggleable__label {background-color: #d4ebff;}#sk-container-id-2 div.sk-serial::before {content: \"\";position: absolute;border-left: 1px solid gray;box-sizing: border-box;top: 0;bottom: 0;left: 50%;z-index: 0;}#sk-container-id-2 div.sk-serial {display: flex;flex-direction: column;align-items: center;background-color: white;padding-right: 0.2em;padding-left: 0.2em;position: relative;}#sk-container-id-2 div.sk-item {position: relative;z-index: 1;}#sk-container-id-2 div.sk-parallel {display: flex;align-items: stretch;justify-content: center;background-color: white;position: relative;}#sk-container-id-2 div.sk-item::before, #sk-container-id-2 div.sk-parallel-item::before {content: \"\";position: absolute;border-left: 1px solid gray;box-sizing: border-box;top: 0;bottom: 0;left: 50%;z-index: -1;}#sk-container-id-2 div.sk-parallel-item {display: flex;flex-direction: column;z-index: 1;position: relative;background-color: white;}#sk-container-id-2 div.sk-parallel-item:first-child::after {align-self: flex-end;width: 50%;}#sk-container-id-2 div.sk-parallel-item:last-child::after {align-self: flex-start;width: 50%;}#sk-container-id-2 div.sk-parallel-item:only-child::after {width: 0;}#sk-container-id-2 div.sk-dashed-wrapped {border: 1px dashed gray;margin: 0 0.4em 0.5em 0.4em;box-sizing: border-box;padding-bottom: 0.4em;background-color: white;}#sk-container-id-2 div.sk-label label {font-family: monospace;font-weight: bold;display: inline-block;line-height: 1.2em;}#sk-container-id-2 div.sk-label-container {text-align: center;}#sk-container-id-2 div.sk-container {/* jupyter's `normalize.less` sets `[hidden] { display: none; }` but bootstrap.min.css set `[hidden] { display: none !important; }` so we also need the `!important` here to be able to override the default hidden behavior on the sphinx rendered scikit-learn.org. See: https://github.com/scikit-learn/scikit-learn/issues/21755 */display: inline-block !important;position: relative;}#sk-container-id-2 div.sk-text-repr-fallback {display: none;}</style><div id=\"sk-container-id-2\" class=\"sk-top-container\"><div class=\"sk-text-repr-fallback\"><pre>DecisionTreeClassifier(random_state=0)</pre><b>In a Jupyter environment, please rerun this cell to show the HTML representation or trust the notebook. <br />On GitHub, the HTML representation is unable to render, please try loading this page with nbviewer.org.</b></div><div class=\"sk-container\" hidden><div class=\"sk-item\"><div class=\"sk-estimator sk-toggleable\"><input class=\"sk-toggleable__control sk-hidden--visually\" id=\"sk-estimator-id-2\" type=\"checkbox\" checked><label for=\"sk-estimator-id-2\" class=\"sk-toggleable__label sk-toggleable__label-arrow\">DecisionTreeClassifier</label><div class=\"sk-toggleable__content\"><pre>DecisionTreeClassifier(random_state=0)</pre></div></div></div></div></div>"
            ]
          },
          "metadata": {},
          "execution_count": 101
        }
      ]
    },
    {
      "cell_type": "code",
      "source": [
        "y_pred = model.predict(X_test1)"
      ],
      "metadata": {
        "id": "eA_QM5Dtg2ye"
      },
      "id": "eA_QM5Dtg2ye",
      "execution_count": null,
      "outputs": []
    },
    {
      "cell_type": "code",
      "source": [
        "len(y_pred)"
      ],
      "metadata": {
        "colab": {
          "base_uri": "https://localhost:8080/"
        },
        "id": "LAau7SfHijKU",
        "outputId": "8c4ed3e5-e3aa-4aab-f589-644d1e1aff9d"
      },
      "id": "LAau7SfHijKU",
      "execution_count": null,
      "outputs": [
        {
          "output_type": "execute_result",
          "data": {
            "text/plain": [
              "114333"
            ]
          },
          "metadata": {},
          "execution_count": 103
        }
      ]
    },
    {
      "cell_type": "code",
      "source": [
        "accuracy_score(y_test1, y_pred)"
      ],
      "metadata": {
        "colab": {
          "base_uri": "https://localhost:8080/"
        },
        "id": "yjE3FHDjhWG5",
        "outputId": "bc7d2510-5854-4d4b-83ec-cff37ab26756"
      },
      "id": "yjE3FHDjhWG5",
      "execution_count": null,
      "outputs": [
        {
          "output_type": "execute_result",
          "data": {
            "text/plain": [
              "0.7931918168857636"
            ]
          },
          "metadata": {},
          "execution_count": 104
        }
      ]
    },
    {
      "cell_type": "code",
      "source": [
        "confusion_matrix(y_test1, y_pred)"
      ],
      "metadata": {
        "colab": {
          "base_uri": "https://localhost:8080/"
        },
        "id": "FI8-zGkQiJaH",
        "outputId": "71ee2fdf-4b7a-4242-83d4-244f1e5d3245"
      },
      "id": "FI8-zGkQiJaH",
      "execution_count": null,
      "outputs": [
        {
          "output_type": "execute_result",
          "data": {
            "text/plain": [
              "array([[87977, 12343],\n",
              "       [11302,  2711]])"
            ]
          },
          "metadata": {},
          "execution_count": 105
        }
      ]
    },
    {
      "cell_type": "code",
      "source": [
        "classification_report(y_test1, y_pred)"
      ],
      "metadata": {
        "colab": {
          "base_uri": "https://localhost:8080/",
          "height": 70
        },
        "id": "tlHCBD94ja2q",
        "outputId": "073ec359-0132-4c28-979d-169da65033cc"
      },
      "id": "tlHCBD94ja2q",
      "execution_count": null,
      "outputs": [
        {
          "output_type": "execute_result",
          "data": {
            "text/plain": [
              "'              precision    recall  f1-score   support\\n\\n           0       0.89      0.88      0.88    100320\\n           1       0.18      0.19      0.19     14013\\n\\n    accuracy                           0.79    114333\\n   macro avg       0.53      0.54      0.53    114333\\nweighted avg       0.80      0.79      0.80    114333\\n'"
            ],
            "application/vnd.google.colaboratory.intrinsic+json": {
              "type": "string"
            }
          },
          "metadata": {},
          "execution_count": 108
        }
      ]
    },
    {
      "cell_type": "code",
      "source": [
        "roc_auc_score(y_test1, y_pred)"
      ],
      "metadata": {
        "colab": {
          "base_uri": "https://localhost:8080/"
        },
        "id": "rQESOIrxiOj0",
        "outputId": "eeafa650-3c5d-43e5-8513-962f06705f85"
      },
      "id": "rQESOIrxiOj0",
      "execution_count": null,
      "outputs": [
        {
          "output_type": "execute_result",
          "data": {
            "text/plain": [
              "0.5352134644197442"
            ]
          },
          "metadata": {},
          "execution_count": 107
        }
      ]
    },
    {
      "cell_type": "markdown",
      "source": [
        "# Understanding the correlation heatmap before one hot encoding."
      ],
      "metadata": {
        "id": "WdlIgH6mHZfr"
      },
      "id": "WdlIgH6mHZfr"
    },
    {
      "cell_type": "code",
      "source": [
        "corr_data = data.corr()"
      ],
      "metadata": {
        "id": "pDJAofkqMJ5Q"
      },
      "id": "pDJAofkqMJ5Q",
      "execution_count": null,
      "outputs": []
    },
    {
      "cell_type": "code",
      "source": [
        "sns.heatmap(corr_data)"
      ],
      "metadata": {
        "colab": {
          "base_uri": "https://localhost:8080/",
          "height": 383
        },
        "id": "QD5pTPCPMRP0",
        "outputId": "65874305-fa8b-4da4-efd9-1925c0261e2a"
      },
      "id": "QD5pTPCPMRP0",
      "execution_count": null,
      "outputs": [
        {
          "output_type": "execute_result",
          "data": {
            "text/plain": [
              "<AxesSubplot:>"
            ]
          },
          "metadata": {},
          "execution_count": 16
        },
        {
          "output_type": "display_data",
          "data": {
            "text/plain": [
              "<Figure size 432x288 with 2 Axes>"
            ],
            "image/png": "[encoded data removed]"
          },
          "metadata": {
            "needs_background": "light"
          }
        }
      ]
    },
    {
      "cell_type": "code",
      "source": [
        "data.columns"
      ],
      "metadata": {
        "colab": {
          "base_uri": "https://localhost:8080/"
        },
        "id": "xDTCZGuP9VU0",
        "outputId": "b796cbf9-9ac4-4d1d-8004-88d48dcf2d3c"
      },
      "id": "xDTCZGuP9VU0",
      "execution_count": null,
      "outputs": [
        {
          "output_type": "execute_result",
          "data": {
            "text/plain": [
              "Index(['id', 'Age', 'Driving_License', 'Region_Code', 'Previously_Insured',\n",
              "       'Vehicle_Damage', 'Annual_Premium', 'Policy_Sales_Channel', 'Vintage',\n",
              "       'Response', 'Vehicle_Age_1', 'Gender_1'],\n",
              "      dtype='object')"
            ]
          },
          "metadata": {},
          "execution_count": 55
        }
      ]
    },
    {
      "cell_type": "code",
      "source": [
        "df.groupby(['Vehicle_Age_1'])['Previously_Insured'].value_counts(normalize=True).plot.bar()"
      ],
      "metadata": {
        "id": "we7MlU9HMTSU",
        "colab": {
          "base_uri": "https://localhost:8080/",
          "height": 314
        },
        "outputId": "c12ae98f-ece8-4bd8-836e-d144f5bac6bb"
      },
      "id": "we7MlU9HMTSU",
      "execution_count": null,
      "outputs": [
        {
          "output_type": "execute_result",
          "data": {
            "text/plain": [
              "<AxesSubplot:xlabel='Vehicle_Age_1,Previously_Insured'>"
            ]
          },
          "metadata": {},
          "execution_count": 13
        },
        {
          "output_type": "display_data",
          "data": {
            "text/plain": [
              "<Figure size 432x288 with 1 Axes>"
            ],
            "image/png": "[encoded data removed]"
          },
          "metadata": {
            "needs_background": "light"
          }
        }
      ]
    },
    {
      "cell_type": "code",
      "source": [
        "df.groupby(['Vehicle_Age_1'])['Previously_Insured'].value_counts(normalize=True)"
      ],
      "metadata": {
        "colab": {
          "base_uri": "https://localhost:8080/"
        },
        "id": "KVNwz8F39pHT",
        "outputId": "9d45571f-6ec2-4613-ff1a-933e03475c70"
      },
      "id": "KVNwz8F39pHT",
      "execution_count": null,
      "outputs": [
        {
          "output_type": "execute_result",
          "data": {
            "text/plain": [
              "Vehicle_Age_1  Previously_Insured\n",
              "0              1                     0.663024\n",
              "               0                     0.336976\n",
              "1              0                     0.997126\n",
              "               1                     0.002874\n",
              "2              0                     0.673890\n",
              "               1                     0.326110\n",
              "Name: Previously_Insured, dtype: float64"
            ]
          },
          "metadata": {},
          "execution_count": 14
        }
      ]
    },
    {
      "cell_type": "code",
      "source": [
        "df.groupby(['Previously_Insured'])['Vehicle_Age_1'].value_counts(normalize=True)"
      ],
      "metadata": {
        "colab": {
          "base_uri": "https://localhost:8080/"
        },
        "id": "jWK6g3pg92MC",
        "outputId": "86384d57-d3ae-49e1-c6e3-dda1bc4e9cdb"
      },
      "id": "jWK6g3pg92MC",
      "execution_count": null,
      "outputs": [
        {
          "output_type": "execute_result",
          "data": {
            "text/plain": [
              "Previously_Insured  Vehicle_Age_1\n",
              "0                   2                0.653770\n",
              "                    0                0.268930\n",
              "                    1                0.077300\n",
              "1                   0                0.625656\n",
              "                    2                0.374081\n",
              "                    1                0.000263\n",
              "Name: Vehicle_Age_1, dtype: float64"
            ]
          },
          "metadata": {},
          "execution_count": 15
        }
      ]
    },
    {
      "cell_type": "code",
      "source": [
        "data['Vehicle_Age_1'].value_counts()"
      ],
      "metadata": {
        "colab": {
          "base_uri": "https://localhost:8080/"
        },
        "id": "CP0-o8xY-H_E",
        "outputId": "68eebd95-0d48-4278-ef73-3d584eb211a2"
      },
      "id": "CP0-o8xY-H_E",
      "execution_count": null,
      "outputs": [
        {
          "output_type": "execute_result",
          "data": {
            "text/plain": [
              "2    200316\n",
              "0    164786\n",
              "1     16007\n",
              "Name: Vehicle_Age_1, dtype: int64"
            ]
          },
          "metadata": {},
          "execution_count": 16
        }
      ]
    },
    {
      "cell_type": "markdown",
      "source": [
        "New purchased vehicle has bought insurance previously. Vehicle age between 1 and 2 year somebody has bought some not. Vehicle age more 2 years has not bought insurance previouly."
      ],
      "metadata": {
        "id": "_c1_n8a_-7if"
      },
      "id": "_c1_n8a_-7if"
    },
    {
      "cell_type": "code",
      "source": [
        "df.groupby(['Vehicle_Damage'])['Previously_Insured'].value_counts(normalize=True).plot.bar()"
      ],
      "metadata": {
        "colab": {
          "base_uri": "https://localhost:8080/",
          "height": 314
        },
        "id": "5GkXLCm9_k3e",
        "outputId": "d85c94fa-7b25-4a67-8d45-5033ca61adf8"
      },
      "id": "5GkXLCm9_k3e",
      "execution_count": null,
      "outputs": [
        {
          "output_type": "execute_result",
          "data": {
            "text/plain": [
              "<AxesSubplot:xlabel='Vehicle_Damage,Previously_Insured'>"
            ]
          },
          "metadata": {},
          "execution_count": 17
        },
        {
          "output_type": "display_data",
          "data": {
            "text/plain": [
              "<Figure size 432x288 with 1 Axes>"
            ],
            "image/png": "[encoded data removed]"
          },
          "metadata": {
            "needs_background": "light"
          }
        }
      ]
    },
    {
      "cell_type": "code",
      "source": [
        "df.groupby(['Previously_Insured'])['Vehicle_Damage'].value_counts(normalize=True)"
      ],
      "metadata": {
        "colab": {
          "base_uri": "https://localhost:8080/"
        },
        "id": "-geUEOEvA5Nx",
        "outputId": "43114299-1b43-45be-e8cd-7c40fe0545ac"
      },
      "id": "-geUEOEvA5Nx",
      "execution_count": null,
      "outputs": [
        {
          "output_type": "execute_result",
          "data": {
            "text/plain": [
              "Previously_Insured  Vehicle_Damage\n",
              "0                   1                 0.883815\n",
              "                    0                 0.116185\n",
              "1                   0                 0.943182\n",
              "                    1                 0.056818\n",
              "Name: Vehicle_Damage, dtype: float64"
            ]
          },
          "metadata": {},
          "execution_count": 18
        }
      ]
    },
    {
      "cell_type": "markdown",
      "source": [
        "1. Not bought insurance previously and vehicle are damage are responding \n",
        "positively.\n",
        "2. Bought insurance previously but vehicle is not damaged then, they are reponding NO.\n",
        "3. The one who has bought insurance has very less number of vehicle damage cases.\n",
        "\n"
      ],
      "metadata": {
        "id": "OXPI59zaBIif"
      },
      "id": "OXPI59zaBIif"
    },
    {
      "cell_type": "code",
      "source": [
        "sns.barplot(y='Age', x='Vehicle_Age_1', data=data)"
      ],
      "metadata": {
        "colab": {
          "base_uri": "https://localhost:8080/",
          "height": 297
        },
        "id": "Xvem9QzBBAKu",
        "outputId": "23c7f3e1-739f-48f7-fe79-13e4b8a1576b"
      },
      "id": "Xvem9QzBBAKu",
      "execution_count": null,
      "outputs": [
        {
          "output_type": "execute_result",
          "data": {
            "text/plain": [
              "<AxesSubplot:xlabel='Vehicle_Age_1', ylabel='Age'>"
            ]
          },
          "metadata": {},
          "execution_count": 20
        },
        {
          "output_type": "display_data",
          "data": {
            "text/plain": [
              "<Figure size 432x288 with 1 Axes>"
            ],
            "image/png": "[encoded data removed]"
          },
          "metadata": {
            "needs_background": "light"
          }
        }
      ]
    },
    {
      "cell_type": "markdown",
      "source": [
        "1. New vehicle are mostly with the young age people.\n",
        "2. Gradually as vehicle age is increasing, age of associate is increasing."
      ],
      "metadata": {
        "id": "Xr0HW86SC1Bz"
      },
      "id": "Xr0HW86SC1Bz"
    },
    {
      "cell_type": "code",
      "source": [
        "sns.barplot(y='Age', x='Previously_Insured', data=data)"
      ],
      "metadata": {
        "colab": {
          "base_uri": "https://localhost:8080/",
          "height": 297
        },
        "id": "mQijfywJCh2y",
        "outputId": "420033f7-f88e-4935-9188-d741532282ec"
      },
      "id": "mQijfywJCh2y",
      "execution_count": null,
      "outputs": [
        {
          "output_type": "execute_result",
          "data": {
            "text/plain": [
              "<AxesSubplot:xlabel='Previously_Insured', ylabel='Age'>"
            ]
          },
          "metadata": {},
          "execution_count": 21
        },
        {
          "output_type": "display_data",
          "data": {
            "text/plain": [
              "<Figure size 432x288 with 1 Axes>"
            ],
            "image/png": "[encoded data removed]"
          },
          "metadata": {
            "needs_background": "light"
          }
        }
      ]
    },
    {
      "cell_type": "code",
      "source": [
        "sns.barplot(y='Age', x='Policy_Sales_Channel', data=data)"
      ],
      "metadata": {
        "colab": {
          "base_uri": "https://localhost:8080/",
          "height": 299
        },
        "id": "UT2Odd0wDkAd",
        "outputId": "bd7dc15e-fa91-4cba-900c-89b2f5d1ad2d"
      },
      "id": "UT2Odd0wDkAd",
      "execution_count": null,
      "outputs": [
        {
          "output_type": "execute_result",
          "data": {
            "text/plain": [
              "<AxesSubplot:xlabel='Policy_Sales_Channel', ylabel='Age'>"
            ]
          },
          "metadata": {},
          "execution_count": 22
        },
        {
          "output_type": "display_data",
          "data": {
            "text/plain": [
              "<Figure size 432x288 with 1 Axes>"
            ],
            "image/png": "[encoded data removed]"
          },
          "metadata": {
            "needs_background": "light"
          }
        }
      ]
    },
    {
      "cell_type": "markdown",
      "source": [],
      "metadata": {
        "id": "MDWibA4dPgF7"
      },
      "id": "MDWibA4dPgF7"
    },
    {
      "cell_type": "code",
      "source": [],
      "metadata": {
        "id": "muOD_3noPfkA"
      },
      "id": "muOD_3noPfkA",
      "execution_count": null,
      "outputs": []
    },
    {
      "cell_type": "markdown",
      "source": [
        "# Calculate VIF score"
      ],
      "metadata": {
        "id": "rxRCYcWHHixq"
      },
      "id": "rxRCYcWHHixq"
    },
    {
      "cell_type": "code",
      "source": [
        "def calc_vif(X):\n",
        "\n",
        "    # Calculating VIF\n",
        "    vif = pd.DataFrame()\n",
        "    vif[\"variables\"] = X.columns\n",
        "    vif[\"VIF\"] = [variance_inflation_factor(X.values, i) for i in range(X.shape[1])]\n",
        "\n",
        "    return(vif)\n"
      ],
      "metadata": {
        "id": "slzyohPdD2eP"
      },
      "id": "slzyohPdD2eP",
      "execution_count": null,
      "outputs": []
    },
    {
      "cell_type": "code",
      "source": [
        "data_12 = data.drop(['Response'], axis = 1)"
      ],
      "metadata": {
        "id": "TYurBD0cH5kG"
      },
      "id": "TYurBD0cH5kG",
      "execution_count": null,
      "outputs": []
    },
    {
      "cell_type": "code",
      "source": [
        "X = data_12\n",
        "calc_vif(X)\n"
      ],
      "metadata": {
        "id": "AIWCpa4-HvIB"
      },
      "id": "AIWCpa4-HvIB",
      "execution_count": null,
      "outputs": []
    },
    {
      "cell_type": "code",
      "source": [
        "data_123 = data.drop(['Vehicle_Damage','Age','Response'], axis = 1)"
      ],
      "metadata": {
        "id": "Ac91ZSJMgay9"
      },
      "id": "Ac91ZSJMgay9",
      "execution_count": null,
      "outputs": []
    },
    {
      "cell_type": "code",
      "source": [
        "X = data_123\n",
        "calc_vif(X)"
      ],
      "metadata": {
        "id": "stWYAnkZgh4M"
      },
      "id": "stWYAnkZgh4M",
      "execution_count": null,
      "outputs": []
    },
    {
      "cell_type": "code",
      "source": [
        "corr_data_1 = data_123.corr()"
      ],
      "metadata": {
        "id": "MHOXj0HydM3M"
      },
      "id": "MHOXj0HydM3M",
      "execution_count": null,
      "outputs": []
    },
    {
      "cell_type": "code",
      "source": [
        "sns.heatmap(corr_data_123)"
      ],
      "metadata": {
        "id": "W-hD11HPIEI4"
      },
      "id": "W-hD11HPIEI4",
      "execution_count": null,
      "outputs": []
    },
    {
      "cell_type": "code",
      "source": [
        "one_hot_encoded_data = pd.get_dummies(data, columns = ['Policy_Sales_Channel', 'Region_Code'])\n"
      ],
      "metadata": {
        "id": "6iniBgiIJIjr"
      },
      "id": "6iniBgiIJIjr",
      "execution_count": null,
      "outputs": []
    },
    {
      "cell_type": "code",
      "source": [
        "one_hot_encoded_data.head()"
      ],
      "metadata": {
        "id": "2yvaDNL4euXY"
      },
      "id": "2yvaDNL4euXY",
      "execution_count": null,
      "outputs": []
    },
    {
      "cell_type": "code",
      "source": [
        "corr_one_hot_encoded_data = one_hot_encoded_data.corr()"
      ],
      "metadata": {
        "id": "zgjBIIVwexZX"
      },
      "id": "zgjBIIVwexZX",
      "execution_count": null,
      "outputs": []
    },
    {
      "cell_type": "code",
      "source": [
        "sns.heatmap(corr_one_hot_encoded_data)"
      ],
      "metadata": {
        "id": "kvYHOsN5hNwg"
      },
      "id": "kvYHOsN5hNwg",
      "execution_count": null,
      "outputs": []
    },
    {
      "cell_type": "code",
      "source": [
        "data.columns"
      ],
      "metadata": {
        "colab": {
          "base_uri": "https://localhost:8080/"
        },
        "id": "Vjy1QwNEGOJF",
        "outputId": "6b4d6377-d68c-4396-edf1-e6053592b41f"
      },
      "id": "Vjy1QwNEGOJF",
      "execution_count": null,
      "outputs": [
        {
          "output_type": "execute_result",
          "data": {
            "text/plain": [
              "Index(['id', 'Age', 'Driving_License', 'Region_Code', 'Previously_Insured',\n",
              "       'Vehicle_Damage', 'Annual_Premium', 'Policy_Sales_Channel', 'Vintage',\n",
              "       'Response', 'Gender_1'],\n",
              "      dtype='object')"
            ]
          },
          "metadata": {},
          "execution_count": 13
        }
      ]
    },
    {
      "cell_type": "code",
      "source": [
        "data['Mean_Premium_Damage'] = data.groupby(by=['Vehicle_Damage'])['Annual_Premium'].transform('mean')"
      ],
      "metadata": {
        "id": "5o0R0Z14hwwO"
      },
      "id": "5o0R0Z14hwwO",
      "execution_count": null,
      "outputs": []
    },
    {
      "cell_type": "code",
      "source": [
        "data.head()"
      ],
      "metadata": {
        "colab": {
          "base_uri": "https://localhost:8080/",
          "height": 270
        },
        "id": "viGGFoY1GZ1B",
        "outputId": "56edd2e2-57f7-474f-d57f-2bea5f155a89"
      },
      "id": "viGGFoY1GZ1B",
      "execution_count": null,
      "outputs": [
        {
          "output_type": "execute_result",
          "data": {
            "text/plain": [
              "   id  Age  Driving_License  Region_Code  Previously_Insured  Vehicle_Damage  \\\n",
              "0   1   44                1         28.0                   0               1   \n",
              "1   2   76                1          3.0                   0               0   \n",
              "2   3   47                1         28.0                   0               1   \n",
              "3   4   21                1         11.0                   1               0   \n",
              "4   5   29                1         41.0                   1               0   \n",
              "\n",
              "   Annual_Premium  Policy_Sales_Channel  Vintage  Response  Gender_1  \\\n",
              "0         40454.0                  26.0      217         1         0   \n",
              "1         33536.0                  26.0      183         0         0   \n",
              "2         38294.0                  26.0       27         1         0   \n",
              "3         28619.0                 152.0      203         0         0   \n",
              "4         27496.0                 152.0       39         0         1   \n",
              "\n",
              "   Mean_Premium_Damage  \n",
              "0         30723.758171  \n",
              "1         30401.881693  \n",
              "2         30723.758171  \n",
              "3         30401.881693  \n",
              "4         30401.881693  "
            ],
            "text/html": [
              "\n",
              "  <div id=\"df-b90ff7b9-27af-4a0a-813b-f6c72fd776e3\">\n",
              "    <div class=\"colab-df-container\">\n",
              "      <div>\n",
              "<style scoped>\n",
              "    .dataframe tbody tr th:only-of-type {\n",
              "        vertical-align: middle;\n",
              "    }\n",
              "\n",
              "    .dataframe tbody tr th {\n",
              "        vertical-align: top;\n",
              "    }\n",
              "\n",
              "    .dataframe thead th {\n",
              "        text-align: right;\n",
              "    }\n",
              "</style>\n",
              "<table border=\"1\" class=\"dataframe\">\n",
              "  <thead>\n",
              "    <tr style=\"text-align: right;\">\n",
              "      <th></th>\n",
              "      <th>id</th>\n",
              "      <th>Age</th>\n",
              "      <th>Driving_License</th>\n",
              "      <th>Region_Code</th>\n",
              "      <th>Previously_Insured</th>\n",
              "      <th>Vehicle_Damage</th>\n",
              "      <th>Annual_Premium</th>\n",
              "      <th>Policy_Sales_Channel</th>\n",
              "      <th>Vintage</th>\n",
              "      <th>Response</th>\n",
              "      <th>Gender_1</th>\n",
              "      <th>Mean_Premium_Damage</th>\n",
              "    </tr>\n",
              "  </thead>\n",
              "  <tbody>\n",
              "    <tr>\n",
              "      <th>0</th>\n",
              "      <td>1</td>\n",
              "      <td>44</td>\n",
              "      <td>1</td>\n",
              "      <td>28.0</td>\n",
              "      <td>0</td>\n",
              "      <td>1</td>\n",
              "      <td>40454.0</td>\n",
              "      <td>26.0</td>\n",
              "      <td>217</td>\n",
              "      <td>1</td>\n",
              "      <td>0</td>\n",
              "      <td>30723.758171</td>\n",
              "    </tr>\n",
              "    <tr>\n",
              "      <th>1</th>\n",
              "      <td>2</td>\n",
              "      <td>76</td>\n",
              "      <td>1</td>\n",
              "      <td>3.0</td>\n",
              "      <td>0</td>\n",
              "      <td>0</td>\n",
              "      <td>33536.0</td>\n",
              "      <td>26.0</td>\n",
              "      <td>183</td>\n",
              "      <td>0</td>\n",
              "      <td>0</td>\n",
              "      <td>30401.881693</td>\n",
              "    </tr>\n",
              "    <tr>\n",
              "      <th>2</th>\n",
              "      <td>3</td>\n",
              "      <td>47</td>\n",
              "      <td>1</td>\n",
              "      <td>28.0</td>\n",
              "      <td>0</td>\n",
              "      <td>1</td>\n",
              "      <td>38294.0</td>\n",
              "      <td>26.0</td>\n",
              "      <td>27</td>\n",
              "      <td>1</td>\n",
              "      <td>0</td>\n",
              "      <td>30723.758171</td>\n",
              "    </tr>\n",
              "    <tr>\n",
              "      <th>3</th>\n",
              "      <td>4</td>\n",
              "      <td>21</td>\n",
              "      <td>1</td>\n",
              "      <td>11.0</td>\n",
              "      <td>1</td>\n",
              "      <td>0</td>\n",
              "      <td>28619.0</td>\n",
              "      <td>152.0</td>\n",
              "      <td>203</td>\n",
              "      <td>0</td>\n",
              "      <td>0</td>\n",
              "      <td>30401.881693</td>\n",
              "    </tr>\n",
              "    <tr>\n",
              "      <th>4</th>\n",
              "      <td>5</td>\n",
              "      <td>29</td>\n",
              "      <td>1</td>\n",
              "      <td>41.0</td>\n",
              "      <td>1</td>\n",
              "      <td>0</td>\n",
              "      <td>27496.0</td>\n",
              "      <td>152.0</td>\n",
              "      <td>39</td>\n",
              "      <td>0</td>\n",
              "      <td>1</td>\n",
              "      <td>30401.881693</td>\n",
              "    </tr>\n",
              "  </tbody>\n",
              "</table>\n",
              "</div>\n",
              "      <button class=\"colab-df-convert\" onclick=\"convertToInteractive('df-b90ff7b9-27af-4a0a-813b-f6c72fd776e3')\"\n",
              "              title=\"Convert this dataframe to an interactive table.\"\n",
              "              style=\"display:none;\">\n",
              "        \n",
              "  <svg xmlns=\"http://www.w3.org/2000/svg\" height=\"24px\"viewBox=\"0 0 24 24\"\n",
              "       width=\"24px\">\n",
              "    <path d=\"M0 0h24v24H0V0z\" fill=\"none\"/>\n",
              "    <path d=\"M18.56 5.44l.94 2.06.94-2.06 2.06-.94-2.06-.94-.94-2.06-.94 2.06-2.06.94zm-11 1L8.5 8.5l.94-2.06 2.06-.94-2.06-.94L8.5 2.5l-.94 2.06-2.06.94zm10 10l.94 2.06.94-2.06 2.06-.94-2.06-.94-.94-2.06-.94 2.06-2.06.94z\"/><path d=\"M17.41 7.96l-1.37-1.37c-.4-.4-.92-.59-1.43-.59-.52 0-1.04.2-1.43.59L10.3 9.45l-7.72 7.72c-.78.78-.78 2.05 0 2.83L4 21.41c.39.39.9.59 1.41.59.51 0 1.02-.2 1.41-.59l7.78-7.78 2.81-2.81c.8-.78.8-2.07 0-2.86zM5.41 20L4 18.59l7.72-7.72 1.47 1.35L5.41 20z\"/>\n",
              "  </svg>\n",
              "      </button>\n",
              "      \n",
              "  <style>\n",
              "    .colab-df-container {\n",
              "      display:flex;\n",
              "      flex-wrap:wrap;\n",
              "      gap: 12px;\n",
              "    }\n",
              "\n",
              "    .colab-df-convert {\n",
              "      background-color: #E8F0FE;\n",
              "      border: none;\n",
              "      border-radius: 50%;\n",
              "      cursor: pointer;\n",
              "      display: none;\n",
              "      fill: #1967D2;\n",
              "      height: 32px;\n",
              "      padding: 0 0 0 0;\n",
              "      width: 32px;\n",
              "    }\n",
              "\n",
              "    .colab-df-convert:hover {\n",
              "      background-color: #E2EBFA;\n",
              "      box-shadow: 0px 1px 2px rgba(60, 64, 67, 0.3), 0px 1px 3px 1px rgba(60, 64, 67, 0.15);\n",
              "      fill: #174EA6;\n",
              "    }\n",
              "\n",
              "    [theme=dark] .colab-df-convert {\n",
              "      background-color: #3B4455;\n",
              "      fill: #D2E3FC;\n",
              "    }\n",
              "\n",
              "    [theme=dark] .colab-df-convert:hover {\n",
              "      background-color: #434B5C;\n",
              "      box-shadow: 0px 1px 3px 1px rgba(0, 0, 0, 0.15);\n",
              "      filter: drop-shadow(0px 1px 2px rgba(0, 0, 0, 0.3));\n",
              "      fill: #FFFFFF;\n",
              "    }\n",
              "  </style>\n",
              "\n",
              "      <script>\n",
              "        const buttonEl =\n",
              "          document.querySelector('#df-b90ff7b9-27af-4a0a-813b-f6c72fd776e3 button.colab-df-convert');\n",
              "        buttonEl.style.display =\n",
              "          google.colab.kernel.accessAllowed ? 'block' : 'none';\n",
              "\n",
              "        async function convertToInteractive(key) {\n",
              "          const element = document.querySelector('#df-b90ff7b9-27af-4a0a-813b-f6c72fd776e3');\n",
              "          const dataTable =\n",
              "            await google.colab.kernel.invokeFunction('convertToInteractive',\n",
              "                                                     [key], {});\n",
              "          if (!dataTable) return;\n",
              "\n",
              "          const docLinkHtml = 'Like what you see? Visit the ' +\n",
              "            '<a target=\"_blank\" href=https://colab.research.google.com/notebooks/data_table.ipynb>data table notebook</a>'\n",
              "            + ' to learn more about interactive tables.';\n",
              "          element.innerHTML = '';\n",
              "          dataTable['output_type'] = 'display_data';\n",
              "          await google.colab.output.renderOutput(dataTable, element);\n",
              "          const docLink = document.createElement('div');\n",
              "          docLink.innerHTML = docLinkHtml;\n",
              "          element.appendChild(docLink);\n",
              "        }\n",
              "      </script>\n",
              "    </div>\n",
              "  </div>\n",
              "  "
            ]
          },
          "metadata": {},
          "execution_count": 15
        }
      ]
    },
    {
      "cell_type": "code",
      "source": [
        "data['Mean_Premium_Damage'].nunique()"
      ],
      "metadata": {
        "colab": {
          "base_uri": "https://localhost:8080/"
        },
        "id": "4L0eU5h8GceV",
        "outputId": "2467f697-2f78-4626-f002-e121f30c075a"
      },
      "id": "4L0eU5h8GceV",
      "execution_count": null,
      "outputs": [
        {
          "output_type": "execute_result",
          "data": {
            "text/plain": [
              "2"
            ]
          },
          "metadata": {},
          "execution_count": 16
        }
      ]
    },
    {
      "cell_type": "code",
      "source": [],
      "metadata": {
        "id": "uP_lyBejGpPU"
      },
      "id": "uP_lyBejGpPU",
      "execution_count": null,
      "outputs": []
    }
  ],
  "metadata": {
    "kernelspec": {
      "display_name": "Python 3.6",
      "language": "python",
      "name": "py377"
    },
    "language_info": {
      "codemirror_mode": {
        "name": "ipython",
        "version": 3
      },
      "file_extension": ".py",
      "mimetype": "text/x-python",
      "name": "python",
      "nbconvert_exporter": "python",
      "pygments_lexer": "ipython3",
      "version": "3.6.3"
    },
    "colab": {
      "provenance": []
    }
  },
  "nbformat": 4,
  "nbformat_minor": 5
}